{
 "cells": [
  {
   "cell_type": "markdown",
   "metadata": {},
   "source": [
    "### Importing\n",
    "`multiprocessing` is in the Python Standard Library. It provides an easy-to-use interface for running multi-threaded jobs on a single compute node."
   ]
  },
  {
   "cell_type": "code",
   "execution_count": 1,
   "metadata": {
    "collapsed": true
   },
   "outputs": [],
   "source": [
    "from multiprocessing import Pool\n",
    "import numpy as np"
   ]
  },
  {
   "cell_type": "markdown",
   "metadata": {},
   "source": [
    "### Defining worker function\n",
    "`worker_pi` is the function to be run in parallel on each worker. It is the MonteCarlo approximation of $\\pi$."
   ]
  },
  {
   "cell_type": "code",
   "execution_count": 2,
   "metadata": {
    "collapsed": false
   },
   "outputs": [],
   "source": [
    "from random import random\n",
    "\n",
    "def worker_pi(n):\n",
    "    s = 0\n",
    "    for _ in range(n):\n",
    "        x, y = random(), random()\n",
    "        s += x * x + y * y <= 1.0\n",
    "    return 4 * s / n"
   ]
  },
  {
   "cell_type": "markdown",
   "metadata": {},
   "source": [
    "### Setting problem size\n",
    "\n",
    "Use the max number of workers as determined by the SLURM environment variable `SLURM_CPUS_PER_TASK`. Set the number of elements per worker."
   ]
  },
  {
   "cell_type": "code",
   "execution_count": 3,
   "metadata": {
    "collapsed": false
   },
   "outputs": [
    {
     "name": "stdout",
     "output_type": "stream",
     "text": [
      "8 threads, 10000000 elements per thread\n"
     ]
    }
   ],
   "source": [
    "from helpers import CPUS_PER_TASK\n",
    "N = int(1e7)\n",
    "\n",
    "print(\"{0} threads, {1} elements per thread\".format(CPUS_PER_TASK,N))"
   ]
  },
  {
   "cell_type": "markdown",
   "metadata": {},
   "source": [
    "### Everybody into the pool\n",
    "`Pool(processes)` creates a pool object with `processes` number of processes. If omitted, defaults to the number of processes available.\n",
    "\n",
    "`pool` has a `map` method, mapping the function `worker_pi` to each element of the iterable. The number of elements for the serial routine has to be multiplied by the number of the threads available for the same amount of work as the parallel routine."
   ]
  },
  {
   "cell_type": "code",
   "execution_count": 4,
   "metadata": {
    "collapsed": true
   },
   "outputs": [],
   "source": [
    "pool = Pool(CPUS_PER_TASK)"
   ]
  },
  {
   "cell_type": "code",
   "execution_count": 5,
   "metadata": {
    "collapsed": false
   },
   "outputs": [
    {
     "name": "stdout",
     "output_type": "stream",
     "text": [
      "1 loops, best of 3: 7.24 s per loop\n"
     ]
    }
   ],
   "source": [
    "%timeit result = np.mean(pool.map(worker_pi, [N for _ in range(CPUS_PER_TASK)]))"
   ]
  },
  {
   "cell_type": "code",
   "execution_count": 6,
   "metadata": {
    "collapsed": false
   },
   "outputs": [
    {
     "name": "stdout",
     "output_type": "stream",
     "text": [
      "1 loops, best of 3: 37.2 s per loop\n"
     ]
    }
   ],
   "source": [
    "%timeit result = worker_pi(N * CPUS_PER_TASK)"
   ]
  },
  {
   "cell_type": "code",
   "execution_count": 7,
   "metadata": {
    "collapsed": false
   },
   "outputs": [
    {
     "name": "stdout",
     "output_type": "stream",
     "text": [
      "3.1414107 3.1415618\n"
     ]
    }
   ],
   "source": [
    "print(worker_pi(N * CPUS_PER_TASK), np.mean(pool.map(worker_pi, [N for _ in range(CPUS_PER_TASK)])))"
   ]
  },
  {
   "cell_type": "code",
   "execution_count": 8,
   "metadata": {
    "collapsed": true
   },
   "outputs": [],
   "source": [
    "pool.close()\n",
    "pool.join()"
   ]
  },
  {
   "cell_type": "markdown",
   "metadata": {},
   "source": []
  }
 ],
 "metadata": {
  "anaconda-cloud": {},
  "kernelspec": {
   "display_name": "Python [conda root]",
   "language": "python",
   "name": "conda-root-py"
  },
  "language_info": {
   "codemirror_mode": {
    "name": "ipython",
    "version": 3
   },
   "file_extension": ".py",
   "mimetype": "text/x-python",
   "name": "python",
   "nbconvert_exporter": "python",
   "pygments_lexer": "ipython3",
   "version": "3.5.1"
  }
 },
 "nbformat": 4,
 "nbformat_minor": 0
}
