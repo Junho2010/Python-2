{
 "cells": [
  {
   "cell_type": "markdown",
   "metadata": {
    "nbpresent": {
     "id": "0e7aeb4c-9d53-43fc-91ee-0b132499baf8"
    },
    "slideshow": {
     "slide_type": "slide"
    }
   },
   "source": [
    "# Working with Python on the ACCRE Cluster"
   ]
  },
  {
   "cell_type": "markdown",
   "metadata": {
    "nbpresent": {
     "id": "96b656d9-c390-48ec-96cb-f7a0451e4b33"
    },
    "slideshow": {
     "slide_type": "slide"
    }
   },
   "source": [
    "## Overview\n",
    "\n",
    "1. Python Basics\n",
    "1. Anaconda and Virtual Environments\n",
    "1. Python practical examples\n",
    "    1. vectorization\n",
    "    1. multi-threading\n",
    "    1. distributed memory computing"
   ]
  },
  {
   "cell_type": "markdown",
   "metadata": {
    "nbpresent": {
     "id": "d9e91f34-bbe5-4592-bc69-c8191788ca43"
    },
    "slideshow": {
     "slide_type": "slide"
    }
   },
   "source": [
    "## Intro to Python\n",
    "\n",
    "1. High-level (can be slow)\n",
    "1. Duck typing\n",
    "1. Assumes the programmer / user knows what she/he is doing!"
   ]
  },
  {
   "cell_type": "markdown",
   "metadata": {
    "slideshow": {
     "slide_type": "subslide"
    }
   },
   "source": [
    "### Duck typing"
   ]
  },
  {
   "cell_type": "code",
   "execution_count": 1,
   "metadata": {
    "collapsed": false,
    "nbpresent": {
     "id": "f1b001ae-aaaa-4c46-9c7f-66f95a1167f5"
    },
    "slideshow": {
     "slide_type": "-"
    }
   },
   "outputs": [
    {
     "data": {
      "text/plain": [
       "42"
      ]
     },
     "execution_count": 1,
     "metadata": {},
     "output_type": "execute_result"
    }
   ],
   "source": [
    "# Comments begin with hashes\n",
    "a = 41\n",
    "b = 1\n",
    "a + b"
   ]
  },
  {
   "cell_type": "code",
   "execution_count": 5,
   "metadata": {
    "collapsed": false,
    "slideshow": {
     "slide_type": "-"
    }
   },
   "outputs": [
    {
     "data": {
      "text/plain": [
       "'411'"
      ]
     },
     "execution_count": 5,
     "metadata": {},
     "output_type": "execute_result"
    }
   ],
   "source": [
    "a = \"41\"\n",
    "b = \"1\"\n",
    "a + b"
   ]
  },
  {
   "cell_type": "markdown",
   "metadata": {
    "slideshow": {
     "slide_type": "subslide"
    }
   },
   "source": [
    "### Indentation and punctuation matter"
   ]
  },
  {
   "cell_type": "code",
   "execution_count": 6,
   "metadata": {
    "collapsed": false,
    "nbpresent": {
     "id": "f879fac4-1f80-4689-8ced-eb51b1283b8f"
    },
    "slideshow": {
     "slide_type": "-"
    }
   },
   "outputs": [
    {
     "name": "stdout",
     "output_type": "stream",
     "text": [
      "meaning of life\n"
     ]
    }
   ],
   "source": [
    "a = 42\n",
    "if a == 42: \n",
    "    print(\"meaning of life\")\n",
    "elif a == 24:\n",
    "    print(\"life of meaning\")\n",
    "else:\n",
    "    print(\"just another number\")"
   ]
  },
  {
   "cell_type": "markdown",
   "metadata": {
    "nbpresent": {
     "id": "fe98070d-c3a4-4c0a-8f0b-ae7c6f9fea02"
    },
    "slideshow": {
     "slide_type": "slide"
    }
   },
   "source": [
    "## For loops exist but are not very *Pythonic*\n",
    "\n",
    "-> Use comprehensions instead"
   ]
  },
  {
   "cell_type": "code",
   "execution_count": 7,
   "metadata": {
    "collapsed": false,
    "nbpresent": {
     "id": "6c89cadd-ad89-43fc-b500-fa59c049ab17"
    },
    "slideshow": {
     "slide_type": "-"
    }
   },
   "outputs": [
    {
     "name": "stdout",
     "output_type": "stream",
     "text": [
      "[0, 1, 2, 3, 4]\n",
      "[0, 1, 2, 3, 4]\n"
     ]
    }
   ],
   "source": [
    "# Prefer comprehensions\n",
    "list0 = [i for i in range(5)]\n",
    "\n",
    "# to for loops\n",
    "list1 = []\n",
    "for i in range(5):\n",
    "    list1.append(i)\n",
    "    \n",
    "print(list0)\n",
    "print(list1)"
   ]
  },
  {
   "cell_type": "markdown",
   "metadata": {
    "nbpresent": {
     "id": "48627781-a0c9-42ec-85a5-2cd4291caa99"
    },
    "slideshow": {
     "slide_type": "slide"
    }
   },
   "source": [
    "## Comprehensions and Types"
   ]
  },
  {
   "cell_type": "code",
   "execution_count": 3,
   "metadata": {
    "collapsed": false,
    "nbpresent": {
     "id": "11f7d14d-d0fb-4b5a-8a5f-4bb2d358a5c8"
    },
    "slideshow": {
     "slide_type": "-"
    }
   },
   "outputs": [
    {
     "name": "stdout",
     "output_type": "stream",
     "text": [
      "<class 'generator'>\n",
      "<class 'list'>\n",
      "<class 'set'>\n",
      "<class 'dict'>\n"
     ]
    }
   ],
   "source": [
    "print(type( (i for i in range(10)) ))\n",
    "print(type( [i for i in range(10)] ))\n",
    "print(type( {i for i in range(10)} ))\n",
    "print(type( {i: \"some_value\" for i in range(10)} ))"
   ]
  },
  {
   "cell_type": "markdown",
   "metadata": {
    "nbpresent": {
     "id": "f972bf78-5de4-4415-b9e8-7c8522b6700c"
    },
    "slideshow": {
     "slide_type": "slide"
    }
   },
   "source": [
    "## Comprehensions can be filtered"
   ]
  },
  {
   "cell_type": "code",
   "execution_count": 8,
   "metadata": {
    "collapsed": false,
    "nbpresent": {
     "id": "83fe38aa-1870-49c8-bc15-d3ec6fc03f68"
    },
    "slideshow": {
     "slide_type": "-"
    }
   },
   "outputs": [
    {
     "name": "stdout",
     "output_type": "stream",
     "text": [
      "[1, 2, 4, 5, 7, 8]\n",
      "[1, 2, 4, 5, 7, 8]\n"
     ]
    }
   ],
   "source": [
    "# filter a list\n",
    "print([i for i in range(10) if i % 3 != 0 ])\n",
    "\n",
    "# nonzero ints evaluate to true\n",
    "print([i for i in range(10) if i % 3])"
   ]
  },
  {
   "cell_type": "markdown",
   "metadata": {
    "nbpresent": {
     "id": "159944f0-b17b-49f7-a15c-c93ae3d08f64"
    },
    "slideshow": {
     "slide_type": "slide"
    }
   },
   "source": [
    "## Dictionaries\n",
    "\n",
    "The type `dict`:\n",
    "1. supports very fast lookup\n",
    "1. does not preserve order\n",
    "1. keys are unique"
   ]
  },
  {
   "cell_type": "code",
   "execution_count": 9,
   "metadata": {
    "collapsed": false,
    "slideshow": {
     "slide_type": "subslide"
    }
   },
   "outputs": [
    {
     "name": "stdout",
     "output_type": "stream",
     "text": [
      "The variable animals is of type <class 'dict'>:\n",
      "The original dict: {'badger': 99, 'wolverine': 100}\n",
      "\n"
     ]
    }
   ],
   "source": [
    "animals = {\"wolverine\":100, \"badger\": 99}\n",
    "print(\"The variable animals is of type %s:\" % type(animals))\n",
    "print(\"The original dict:\", animals)\n",
    "print()"
   ]
  },
  {
   "cell_type": "code",
   "execution_count": 13,
   "metadata": {
    "collapsed": false,
    "slideshow": {
     "slide_type": "subslide"
    }
   },
   "outputs": [
    {
     "name": "stdout",
     "output_type": "stream",
     "text": [
      "Couldn't get puma, but I can specify a default value 50\n"
     ]
    }
   ],
   "source": [
    "try:\n",
    "    animals[\"puma\"]\n",
    "except:\n",
    "    print(\"Couldn't get puma, but I can \" \\\n",
    "          \"specify a default value\",\n",
    "         animals.get(\"puma\", 50))"
   ]
  },
  {
   "cell_type": "code",
   "execution_count": 14,
   "metadata": {
    "collapsed": false,
    "slideshow": {
     "slide_type": "subslide"
    }
   },
   "outputs": [
    {
     "name": "stdout",
     "output_type": "stream",
     "text": [
      "The updated dict: {'badger': 99, 'wolverine': 100, 'puma': 85} \n",
      "\n"
     ]
    }
   ],
   "source": [
    "animals.update({\"puma\": 85})\n",
    "print(\"The updated dict:\", animals, \"\\n\")"
   ]
  },
  {
   "cell_type": "code",
   "execution_count": 15,
   "metadata": {
    "collapsed": false,
    "nbpresent": {
     "id": "0cec4ba9-a0ba-48f6-b631-0609ddf9de29"
    },
    "slideshow": {
     "slide_type": "subslide"
    }
   },
   "outputs": [
    {
     "name": "stdout",
     "output_type": "stream",
     "text": [
      "I can iterate over dicts as key, value pairs:\n",
      "The badger has ferocity 99\n",
      "The wolverine has ferocity 100\n",
      "The puma has ferocity 85\n"
     ]
    }
   ],
   "source": [
    "print(\"I can iterate over dicts as key, value pairs:\")\n",
    "for k, v in animals.items():\n",
    "    print(\"The %s has ferocity %d\" % (k, v))"
   ]
  },
  {
   "cell_type": "markdown",
   "metadata": {
    "slideshow": {
     "slide_type": "slide"
    }
   },
   "source": [
    "## `set`s and `dict`s are unique"
   ]
  },
  {
   "cell_type": "code",
   "execution_count": 16,
   "metadata": {
    "collapsed": false,
    "slideshow": {
     "slide_type": "subslide"
    }
   },
   "outputs": [
    {
     "name": "stdout",
     "output_type": "stream",
     "text": [
      "[0, 1, 2, 0, 1, 2, 0, 1, 2, 0]\n",
      "{0, 1, 2}\n"
     ]
    }
   ],
   "source": [
    "foo = [i % 3 for i in range(10)]\n",
    "print(foo)\n",
    "print(set(foo))"
   ]
  },
  {
   "cell_type": "code",
   "execution_count": 12,
   "metadata": {
    "collapsed": false,
    "slideshow": {
     "slide_type": "subslide"
    }
   },
   "outputs": [
    {
     "name": "stdout",
     "output_type": "stream",
     "text": [
      "[0, 1, 2, 0, 1, 2, 0, 1, 2, 0]\n",
      "{0, 1, 2}\n",
      "{'c': 5, 'b': 2, 'a': 1}\n"
     ]
    }
   ],
   "source": [
    "bar = dict(a=1, b=2, c=3)\n",
    "bar.update({\"c\":5})\n",
    "print(bar)"
   ]
  },
  {
   "cell_type": "markdown",
   "metadata": {
    "nbpresent": {
     "id": "fb84332a-4540-47ee-ab0a-e92a09d77bb9"
    },
    "slideshow": {
     "slide_type": "slide"
    }
   },
   "source": [
    "## A note on Python2 v. Python3\n",
    "\n",
    "1. If you have the choice, use Python3\n",
    "1. Python2 code can be transformed to Python3 code before integration into a project\n",
    "1. Gotchas: \n",
    "    * `print something` v. `print(something)`\n",
    "    * integer division v. floating point division\n",
    "    * etc."
   ]
  },
  {
   "cell_type": "markdown",
   "metadata": {
    "slideshow": {
     "slide_type": "slide"
    }
   },
   "source": [
    "## Anaconda"
   ]
  },
  {
   "cell_type": "markdown",
   "metadata": {
    "nbpresent": {
     "id": "83beda93-f02b-4b5a-a1b2-7896e47b9e3d"
    },
    "slideshow": {
     "slide_type": "subslide"
    }
   },
   "source": [
    "### What is it?\n",
    "1. free\n",
    "1. package manager -> import code from others (don't reinvent the wheel)\n",
    "1. environment manager -> isolate projects and their **dependencies**\n",
    "1. Python distribution\n",
    "1. collection of over 720 open source packages with free community support\n",
    "1. install packages (and their dependencies) with `conda install [packagename]`\n",
    "1. platform-agnostic (Windows, OS X and Linux)"
   ]
  },
  {
   "cell_type": "markdown",
   "metadata": {
    "nbpresent": {
     "id": "58efdd1d-a6fa-48f5-8500-725bb8d0b10d"
    },
    "slideshow": {
     "slide_type": "subslide"
    }
   },
   "source": [
    "### How do I use it on the cluster?\n",
    "\n",
    "1. Initial Setup\n",
    "    1. Set the anaconda ACCRE package \n",
    "    1. Create a conda virtual environment and source it\n",
    "    1. Install additional dependencies via `conda` (preferred) or `pip`\n",
    "1. Using with SLURM\n",
    "    1. Set the anaconda ACCRE package\n",
    "    1. Source the (existing) conda environment\n",
    "    1. Execute Python code\n",
    "    \n",
    "    \n",
    "Note that Anaconda3 can run Python2 versions."
   ]
  },
  {
   "cell_type": "markdown",
   "metadata": {
    "nbpresent": {
     "id": "5238d6bf-ecb8-418e-b00e-575646df4ce7"
    },
    "slideshow": {
     "slide_type": "slide"
    }
   },
   "source": [
    "## Conda Environment Initial Setup\n",
    "\n",
    "Note that `%%sh` is a Jupyter notebook *magic* command which invokes a shell environmenet. You will want to run this from a terminal session logged into the cluster as usual."
   ]
  },
  {
   "cell_type": "code",
   "execution_count": 1,
   "metadata": {
    "collapsed": false,
    "slideshow": {
     "slide_type": "-"
    }
   },
   "outputs": [
    {
     "name": "stdout",
     "output_type": "stream",
     "text": [
      "conda 4.2.11\n",
      "# conda environments:\n",
      "#\n",
      "ipyparallel_env          /home/arnoldjr/.conda/envs/ipyparallel_env\n",
      "lasagne_env              /home/arnoldjr/.conda/envs/lasagne_env\n",
      "mpi4py_env               /home/arnoldjr/.conda/envs/mpi4py_env\n",
      "multi-gpu                /home/arnoldjr/.conda/envs/multi-gpu\n",
      "my_root                  /home/arnoldjr/.conda/envs/my_root\n",
      "myenvironment            /home/arnoldjr/.conda/envs/myenvironment\n",
      "nb_conda_kernels         /home/arnoldjr/.conda/envs/nb_conda_kernels\n",
      "neural_nets              /home/arnoldjr/.conda/envs/neural_nets\n",
      "pycuda                   /home/arnoldjr/.conda/envs/pycuda\n",
      "tensorflow               /home/arnoldjr/.conda/envs/tensorflow\n",
      "test_github              /home/arnoldjr/.conda/envs/test_github\n",
      "theano_env               /home/arnoldjr/.conda/envs/theano_env\n",
      "theano_nomkl             /home/arnoldjr/.conda/envs/theano_nomkl\n",
      "threading_env            /home/arnoldjr/.conda/envs/threading_env\n",
      "root                  *  /usr/local/python3/anaconda3\n",
      "\n"
     ]
    }
   ],
   "source": [
    "%%sh\n",
    "conda -V\n",
    "conda info -e"
   ]
  },
  {
   "cell_type": "markdown",
   "metadata": {
    "slideshow": {
     "slide_type": "subslide"
    }
   },
   "source": [
    "## Conda environments must be activated\n",
    "\n",
    "Use `source activate <conda_env>`\n",
    "\n",
    "```\n",
    "[fido@vmps11 ~]$ setpkgs -a anaconda3\n",
    "[fido@vmps11 ~]$ source activate intro_to_python_env\n",
    "prepending /home/fido/.conda/envs/intro_to_python_env/bin to PATH\n",
    "(intro_to_python_env) [fido@vmps11 ~]$ \n",
    "```"
   ]
  },
  {
   "cell_type": "code",
   "execution_count": 17,
   "metadata": {
    "collapsed": false,
    "slideshow": {
     "slide_type": "subslide"
    }
   },
   "outputs": [
    {
     "name": "stdout",
     "output_type": "stream",
     "text": [
      "[fido@vmps11 ~]$ setpkgs -a anaconda3\n",
      "[fido@vmps11 ~]$ source activate intro_to_python_env\n",
      "prepending /home/fido/.conda/envs/intro_to_python_env/bin to PATH\n",
      "(intro_to_python_env) [fido@vmps11 ~]$ \n"
     ]
    }
   ],
   "source": [
    "%%sh\n",
    "cat texts/activate.txt"
   ]
  },
  {
   "cell_type": "markdown",
   "metadata": {
    "slideshow": {
     "slide_type": "subslide"
    }
   },
   "source": [
    "## List installed packages"
   ]
  },
  {
   "cell_type": "code",
   "execution_count": 2,
   "metadata": {
    "collapsed": false,
    "slideshow": {
     "slide_type": "-"
    }
   },
   "outputs": [
    {
     "name": "stdout",
     "output_type": "stream",
     "text": [
      "# packages in environment at /home/arnoldjr/.conda/envs/ipyparallel_env:\n",
      "#\n",
      "decorator                 4.0.10                    <pip>\n",
      "ipykernel                 4.5.0                     <pip>\n",
      "ipyparallel               5.2.0                     <pip>\n",
      "ipython                   5.1.0                     <pip>\n",
      "ipython-genutils          0.1.0                     <pip>\n",
      "jupyter-client            4.4.0                     <pip>\n",
      "jupyter-core              4.2.0                     <pip>\n",
      "mkl                       11.3.3                        0  \n",
      "mpmath                    0.19                     py35_1  \n",
      "numpy                     1.11.2                   py35_0  \n",
      "openssl                   1.0.2j                        0  \n",
      "pexpect                   4.2.1                     <pip>\n",
      "pickleshare               0.7.4                     <pip>\n",
      "pip                       8.1.2                    py35_0  \n",
      "prompt-toolkit            1.0.8                     <pip>\n",
      "ptyprocess                0.5.1                     <pip>\n",
      "Pygments                  2.1.3                     <pip>\n",
      "python                    3.5.2                         0  \n",
      "pyzmq                     16.0.0                    <pip>\n",
      "readline                  6.2                           2  \n",
      "setuptools                27.2.0                   py35_0  \n",
      "simplegeneric             0.8.1                     <pip>\n",
      "six                       1.10.0                    <pip>\n",
      "sqlite                    3.13.0                        0  \n",
      "sympy                     1.0                      py35_0  \n",
      "tk                        8.5.18                        0  \n",
      "tornado                   4.4.2                     <pip>\n",
      "traitlets                 4.3.1                     <pip>\n",
      "wcwidth                   0.1.7                     <pip>\n",
      "wheel                     0.29.0                   py35_0  \n",
      "xz                        5.2.2                         0  \n",
      "zlib                      1.2.8                         3  \n"
     ]
    }
   ],
   "source": [
    "%%sh\n",
    "conda list -n ipyparallel_env"
   ]
  },
  {
   "cell_type": "markdown",
   "metadata": {
    "slideshow": {
     "slide_type": "subslide"
    }
   },
   "source": [
    "## Search for available packages"
   ]
  },
  {
   "cell_type": "code",
   "execution_count": 3,
   "metadata": {
    "collapsed": false,
    "slideshow": {
     "slide_type": "-"
    }
   },
   "outputs": [
    {
     "name": "stdout",
     "output_type": "stream",
     "text": [
      "Fetching package metadata .......\n",
      "beautifulsoup4               4.4.0                    py27_0  defaults        \n",
      "                             4.4.0                    py34_0  defaults        \n",
      "                             4.4.0                    py35_0  defaults        \n",
      "                             4.4.1                    py27_0  defaults        \n",
      "                             4.4.1                    py34_0  defaults        \n",
      "                          *  4.4.1                    py35_0  defaults        \n",
      "                          .  4.5.1                    py27_0  defaults        \n",
      "                          .  4.5.1                    py34_0  defaults        \n",
      "                          .  4.5.1                    py35_0  defaults        \n"
     ]
    }
   ],
   "source": [
    "%%sh\n",
    "conda search beautifulsoup"
   ]
  },
  {
   "cell_type": "markdown",
   "metadata": {
    "slideshow": {
     "slide_type": "subslide"
    }
   },
   "source": [
    "## Install a package (into a *specific* environment)"
   ]
  },
  {
   "cell_type": "code",
   "execution_count": 4,
   "metadata": {
    "collapsed": false,
    "slideshow": {
     "slide_type": "-"
    }
   },
   "outputs": [
    {
     "name": "stdout",
     "output_type": "stream",
     "text": [
      "Fetching package metadata .......\n",
      "Solving package specifications: ..........\n",
      "\n",
      "Package plan for installation in environment /home/arnoldjr/.conda/envs/ipyparallel_env:\n",
      "\n",
      "The following NEW packages will be INSTALLED:\n",
      "\n",
      "    beautifulsoup4: 4.5.1-py35_0\n",
      "\n",
      "Proceed ([y]/n)? \n",
      "Linking packages ...\n",
      "[                    ]|                                                     |   0%\r",
      "[beautifulsoup4      ]|                                                     |   0%\r",
      "[      COMPLETE      ]|#####################################################| 100%\r\n"
     ]
    }
   ],
   "source": [
    "%%sh\n",
    "conda install beautifulsoup4 -n ipyparallel_env"
   ]
  },
  {
   "cell_type": "markdown",
   "metadata": {
    "slideshow": {
     "slide_type": "subslide"
    }
   },
   "source": [
    "## Conda environments should be deactivated\n",
    "\n",
    "```bash\n",
    "(intro_to_python_env) [fido@vmps11 python-job]$ source deactivate\n",
    "[fido@vmps11 python-job]$\n",
    "```"
   ]
  },
  {
   "cell_type": "markdown",
   "metadata": {
    "slideshow": {
     "slide_type": "slide"
    }
   },
   "source": [
    "## Using conda with SLURM\n",
    "\n",
    "Since all conda environments are children of `/home` they are shared across the cluster. This means that the environment only has to be created once and can be used by any node.\n",
    "\n",
    "*Avoid creating the environment within a SLURM script!!*"
   ]
  },
  {
   "cell_type": "markdown",
   "metadata": {
    "slideshow": {
     "slide_type": "subslide"
    }
   },
   "source": [
    "## A typical SLURM batch script\n",
    "```bash\n",
    "#!/bin/bash\n",
    "\n",
    "#SBATCH --nodes=1\n",
    "#SBATCH --ntasks=1\n",
    "#SBATCH --time=00:10:00\n",
    "#SBATCH --mem=500M\n",
    "\n",
    "setpkgs -a anaconda3\n",
    "\n",
    "source activate intro_to_python_env\n",
    "\n",
    "python foo.py\n",
    "```"
   ]
  },
  {
   "cell_type": "markdown",
   "metadata": {
    "slideshow": {
     "slide_type": "subslide"
    }
   },
   "source": [
    "## A typical Python script\n",
    "\n",
    "\n",
    "### Import modules\n",
    "```python\n",
    "#!/usr/bin/env python\n",
    "\n",
    "from random import random\n",
    "\n",
    "s = \"This string belongs to the global namespace\" \\\n",
    "    \"but using globals is discouraged\"\n",
    "\n",
    "```"
   ]
  },
  {
   "cell_type": "markdown",
   "metadata": {
    "slideshow": {
     "slide_type": "subslide"
    }
   },
   "source": [
    "### Define functions, classes, etc.\n",
    "``` python\n",
    "def sub_run(threshold=0.5):\n",
    "    \"\"\" Prints a string determined by the input\n",
    "    \n",
    "    :param threshold: specifies minimum value that prints \"Hello\"; default=0.5\n",
    "    :return None\n",
    "    \"\"\"\n",
    "    \n",
    "    if random() > threshold:\n",
    "        print(\"Hello\")\n",
    "    else:\n",
    "        print(\"World!)\n",
    "\n",
    "def main_fun():\n",
    "    \"\"\" The primary function of the program \"\"\"\n",
    "    sub_fun()\n",
    "```"
   ]
  },
  {
   "cell_type": "markdown",
   "metadata": {
    "slideshow": {
     "slide_type": "subslide"
    }
   },
   "source": [
    "### Define the standalone behavior\n",
    "```python\n",
    "if __name__ == \"__main__\":\n",
    "    \"\"\" __name__ == \"__main__\" is true if the program\n",
    "    is executing as a standalone \"\"\"\n",
    "    main_fun()\n",
    "\n",
    "```"
   ]
  },
  {
   "cell_type": "markdown",
   "metadata": {
    "slideshow": {
     "slide_type": "slide"
    }
   },
   "source": [
    "## Jupyter (formerly IPython) notebooks"
   ]
  },
  {
   "cell_type": "markdown",
   "metadata": {
    "slideshow": {
     "slide_type": "subslide"
    }
   },
   "source": [
    "### What are they?\n",
    "* Working coding document\n",
    "* Integrates Python code and markdown\n",
    "* Tool for presenting your work:\n",
    "    1. HTML/JavaScript interactive notebook\n",
    "    1. statically saved as HTML, PDF, Reveal.js slideshow (Hint: use `jupyter nbconvert`)\n",
    "    1. Renders on GitHub\n",
    "* What this presentation is written in!"
   ]
  },
  {
   "cell_type": "markdown",
   "metadata": {
    "slideshow": {
     "slide_type": "subslide"
    }
   },
   "source": [
    "### How do I use them?\n",
    "1. Download Anaconda locally, then `jupyter notebook` from the command line\n",
    "1. Use them on the cluster\n",
    "    1. Include the ACCRE Anaconda package \n",
    "        * `setpkgs -a anaconda3`\n",
    "    1. Use either `sbatch` or `salloc` to launch a job\n",
    "    1. Launch a notebook\n",
    "        * `jupyter notebook --no-browser -ip='*' --port=8888 [my_notebook.ipynb]`\n",
    "    1. Make note of the node you land on, and `ssh` into it using a seperate process\n",
    "        * `ssh -L 9999:vmpXXX:8888 \\ vunetid@login.accre.vanderbilt.edu`\n",
    "    1. In a web browser, navigate to `localhost:9999`"
   ]
  },
  {
   "cell_type": "markdown",
   "metadata": {
    "nbpresent": {
     "id": "a0c7c7b0-37df-4180-a6a4-16bf9aae41c0"
    },
    "slideshow": {
     "slide_type": "slide"
    }
   },
   "source": [
    "## IPython magic\n",
    "\n",
    "Specific to IPython, primarily `jupyter console` and `jupyter notebook`\n",
    "\n",
    "* `%%sh` - run shell commands\n",
    "* `%%html` - render html\n",
    "* `%%load` - load from file\n",
    "* `%%save` - save lines to file\n",
    "* `%%timeit` - execute code and record execution time"
   ]
  },
  {
   "cell_type": "code",
   "execution_count": 1,
   "metadata": {
    "collapsed": false,
    "slideshow": {
     "slide_type": "subslide"
    }
   },
   "outputs": [
    {
     "name": "stdout",
     "output_type": "stream",
     "text": [
      "100000 loops, best of 3: 19.3 µs per loop\n"
     ]
    }
   ],
   "source": [
    "%%timeit\n",
    "\n",
    "a = []\n",
    "for i in range(100):\n",
    "    a.append(i*i)"
   ]
  },
  {
   "cell_type": "code",
   "execution_count": 18,
   "metadata": {
    "collapsed": false,
    "slideshow": {
     "slide_type": "-"
    }
   },
   "outputs": [
    {
     "name": "stdout",
     "output_type": "stream",
     "text": [
      "100000 loops, best of 3: 9.28 µs per loop\n"
     ]
    }
   ],
   "source": [
    "%timeit a = [i*i for i in range(100)]"
   ]
  },
  {
   "cell_type": "markdown",
   "metadata": {
    "slideshow": {
     "slide_type": "slide"
    }
   },
   "source": [
    "## `timeit` module\n",
    "\n",
    "`timeit` can also be used in Python scripts."
   ]
  },
  {
   "cell_type": "code",
   "execution_count": 33,
   "metadata": {
    "collapsed": false,
    "slideshow": {
     "slide_type": "-"
    }
   },
   "outputs": [
    {
     "name": "stdout",
     "output_type": "stream",
     "text": [
      "native       : 0.540301s\n",
      "comprehension: 0.701319s\n",
      "numpy:         0.800476s\n"
     ]
    }
   ],
   "source": [
    "from timeit import timeit\n",
    "\n",
    "\n",
    "N = 100000\n",
    "loop_string = '''\\\n",
    "s = 0\n",
    "for i in range(100):\n",
    "    s += 1\n",
    "'''\n",
    "print(\"native       : %fs\" % timeit(loop_string, number=N))\n",
    "\n",
    "print(\"comprehension: %fs\" % timeit('sum(i for i in range(100))', number=N) )\n",
    "\n",
    "print(\"numpy:         %fs\" % timeit('numpy.arange(0,100).sum()', number=N, setup=\"import numpy\") )"
   ]
  },
  {
   "cell_type": "markdown",
   "metadata": {
    "nbpresent": {
     "id": "ff271b6e-04a1-4f57-9e87-839b64edbfda"
    },
    "slideshow": {
     "slide_type": "slide"
    }
   },
   "source": [
    "## Numpy\n",
    "\n",
    "1. Analogous to Matlab\n",
    "1. Supports **vectorization** using compile C++ code (can be much faster)\n",
    "\n",
    "*Allows fast development with optimization of the bottlenecks*"
   ]
  },
  {
   "cell_type": "code",
   "execution_count": 30,
   "metadata": {
    "collapsed": false,
    "nbpresent": {
     "id": "577afd17-95ed-4ffe-985b-c00d94e73ccc"
    },
    "slideshow": {
     "slide_type": "subslide"
    }
   },
   "outputs": [
    {
     "data": {
      "text/plain": [
       "array([0, 1, 2, 3, 4, 5, 6, 7, 8, 9])"
      ]
     },
     "execution_count": 30,
     "metadata": {},
     "output_type": "execute_result"
    }
   ],
   "source": [
    "import numpy as np\n",
    "\n",
    "a = np.arange(10)\n",
    "a"
   ]
  },
  {
   "cell_type": "code",
   "execution_count": 27,
   "metadata": {
    "collapsed": false,
    "slideshow": {
     "slide_type": "subslide"
    }
   },
   "outputs": [
    {
     "name": "stdout",
     "output_type": "stream",
     "text": [
      "100000 loops, best of 3: 9.44 µs per loop\n",
      "The slowest run took 11.42 times longer than the fastest. This could mean that an intermediate result is being cached.\n",
      "100000 loops, best of 3: 4.94 µs per loop\n"
     ]
    }
   ],
   "source": [
    "%timeit a = [i * i for i in range(100)]\n",
    "%timeit b = np.power(np.arange(100), 2)\n",
    "\n",
    "assert([ i * i for i in range(100)] == np.power(np.arange(100), 2).tolist())"
   ]
  },
  {
   "cell_type": "markdown",
   "metadata": {
    "slideshow": {
     "slide_type": "slide"
    }
   },
   "source": [
    "## Multi-threaded jobs\n",
    "\n",
    "* Execute on single node across multiple cores\n",
    "* Memory is shared across all threads\n",
    "      #SBATCH --nodes=1\n",
    "      #SBATCH --tasks-per-node=1\n",
    "      #SBATCH --cpus-per-task=8\n",
    "* Supported by the `threading` module (also `multiprocessing`)"
   ]
  },
  {
   "cell_type": "code",
   "execution_count": 12,
   "metadata": {
    "collapsed": false,
    "slideshow": {
     "slide_type": "subslide"
    }
   },
   "outputs": [],
   "source": [
    "import threading\n",
    "import numpy as np\n",
    "import timeit"
   ]
  },
  {
   "cell_type": "code",
   "execution_count": 10,
   "metadata": {
    "collapsed": true,
    "slideshow": {
     "slide_type": "subslide"
    }
   },
   "outputs": [],
   "source": [
    "def worker(result, index, num_elems):\n",
    "    \"\"\" thread worker function \n",
    "\n",
    "    Thread functions do not return values, so instead one or more of the\n",
    "    input arguments must be modified.\n",
    "\n",
    "    :param result: mutable array of floats\n",
    "    :param index: integer index of the result array\n",
    "    :param num_elems: number of elements to compute in this thread\n",
    "    :return None\n",
    "    \"\"\"\n",
    "\n",
    "    xy = np.random.rand(num_elems,2)  \n",
    "    result[index] = 4 * np.mean(xy[:,0] ** 2 + xy[:,1] ** 2 < 1.0)"
   ]
  },
  {
   "cell_type": "code",
   "execution_count": 13,
   "metadata": {
    "collapsed": true,
    "slideshow": {
     "slide_type": "subslide"
    }
   },
   "outputs": [],
   "source": [
    "threads = []\n",
    "num_threads = 32  \n",
    "n_per_thread = 1000000\n",
    "\n",
    "def compute_multi():\n",
    "    r_par = np.empty(num_threads)\n",
    "\n",
    "    # Starts the processes\n",
    "    for i in range(num_threads):\n",
    "        t = threading.Thread(target=worker, \n",
    "                             args=(r_par, i, n_per_thread))\n",
    "        threads.append(t)\n",
    "        t.start()\n",
    "\n",
    "    # Joins the worker threads to the \"master\" thread\n",
    "    for i in range(num_threads):\n",
    "        t.join()\n",
    "\n",
    "    return r_par.mean()"
   ]
  },
  {
   "cell_type": "code",
   "execution_count": 14,
   "metadata": {
    "collapsed": true,
    "slideshow": {
     "slide_type": "subslide"
    }
   },
   "outputs": [],
   "source": [
    "def compute_single():\n",
    "    r_seq = np.empty(1) \n",
    "    worker(r_seq, 0, num_threads * n_per_thread)\n",
    "\n",
    "    return r_seq[0]        "
   ]
  },
  {
   "cell_type": "code",
   "execution_count": 15,
   "metadata": {
    "collapsed": false,
    "slideshow": {
     "slide_type": "subslide"
    }
   },
   "outputs": [
    {
     "name": "stdout",
     "output_type": "stream",
     "text": [
      "Multi-threaded:  1.608150s\n",
      "Single-threaded: 1.490850s\n",
      "\n",
      "Speedup: 0.927059\n"
     ]
    }
   ],
   "source": [
    "n_repetitions = 10\n",
    "t_multi = timeit.timeit(compute_multi, number=n_repetitions)\n",
    "t_single = timeit.timeit(compute_single, number=n_repetitions)\n",
    "\n",
    "print(\"Multi-threaded:  %fs\" % (t_multi / n_repetitions))\n",
    "print(\"Single-threaded: %fs\" % (t_single / n_repetitions))\n",
    "\n",
    "print(\"\\nSpeedup: %f\" % (t_single / t_multi))"
   ]
  },
  {
   "cell_type": "markdown",
   "metadata": {
    "collapsed": true,
    "slideshow": {
     "slide_type": "slide"
    }
   },
   "source": [
    "## Distributed Memory Jobs\n",
    "\n",
    "* Execute on multiple cores across one or more notes\n",
    "* Memory is specific to each task\n",
    "        #SBATCH --ntasks=8\n",
    "        #SBATCH --cpus-per-task=1\n",
    "* Supported by the `ipyparallel` module\n"
   ]
  },
  {
   "cell_type": "markdown",
   "metadata": {
    "slideshow": {
     "slide_type": "slide"
    }
   },
   "source": [
    "## A note on Project Setup\n",
    "\n",
    "Loading ACCRE packages, building/activating the conda environment can be separated into tasks."
   ]
  },
  {
   "cell_type": "code",
   "execution_count": 2,
   "metadata": {
    "collapsed": false,
    "slideshow": {
     "slide_type": "subslide"
    }
   },
   "outputs": [
    {
     "name": "stdout",
     "output_type": "stream",
     "text": [
      "batch_job.slurm\n",
      "compute_pi.py\n",
      "foo15.44.36.out\n",
      "foo15.44.43.out\n",
      "helpers.py\n",
      "__init__.py\n",
      "launcher.sh\n",
      "Makefile\n",
      "pkgs.sh\n",
      "__pycache__\n",
      "README.md\n",
      "slurm-10910565.out\n",
      "source_file.sh\n"
     ]
    }
   ],
   "source": [
    "%%sh\n",
    "cd ~/accre/Python/ipyparallel/\n",
    "ls"
   ]
  },
  {
   "cell_type": "markdown",
   "metadata": {
    "slideshow": {
     "slide_type": "subslide"
    }
   },
   "source": [
    "* `pkgs.sh`: lists the shell commands for loading ACCRE packages"
   ]
  },
  {
   "cell_type": "code",
   "execution_count": 4,
   "metadata": {
    "collapsed": false,
    "slideshow": {
     "slide_type": "-"
    }
   },
   "outputs": [
    {
     "name": "stdout",
     "output_type": "stream",
     "text": [
      "setpkgs -a anaconda3\n"
     ]
    }
   ],
   "source": [
    "%%sh\n",
    "cd ~/accre/Python/ipyparallel/\n",
    "cat pkgs.sh"
   ]
  },
  {
   "cell_type": "markdown",
   "metadata": {
    "collapsed": false,
    "slideshow": {
     "slide_type": "subslide"
    }
   },
   "source": [
    "* `Makefile`: provides rules for building the conda environment, installing additional packages, testing the install, and cleaning up the environment"
   ]
  },
  {
   "cell_type": "code",
   "execution_count": 6,
   "metadata": {
    "collapsed": false,
    "slideshow": {
     "slide_type": "-"
    }
   },
   "outputs": [
    {
     "name": "stdout",
     "output_type": "stream",
     "text": [
      "SHELL := /bin/bash\n",
      "\n",
      "# Creates the new conda environment\n",
      "env: \n",
      "\tconda create -n $(MY_CONDA_ENV) python=3.5 numpy sympy ;\n",
      "\n",
      "# Installs any pip only packages\n",
      "install:\n",
      "\tpip install ipyparallel\n",
      "\n",
      "# Tests that the install proceeded correctly\n",
      "test:\n",
      "\tpython -c \"import ipyparallel\";\n",
      "\n",
      "# Removes the created environment\n",
      "clean:\n",
      "\tconda remove -n $(MY_CONDA_ENV) --all;\n"
     ]
    }
   ],
   "source": [
    "%%sh \n",
    "cd ~/accre/Python/ipyparallel/\n",
    "cat Makefile"
   ]
  },
  {
   "cell_type": "markdown",
   "metadata": {
    "slideshow": {
     "slide_type": "subslide"
    }
   },
   "source": [
    "* `source_file.sh`: sources pkgs.sh and either creates or activates conda environment"
   ]
  },
  {
   "cell_type": "code",
   "execution_count": 7,
   "metadata": {
    "collapsed": false,
    "slideshow": {
     "slide_type": "-"
    }
   },
   "outputs": [
    {
     "name": "stdout",
     "output_type": "stream",
     "text": [
      "#!/bin/bash\n",
      "\n",
      "# This file either loads or creates an appropriate conda environment \n",
      "\n",
      "\n",
      "# Checks for more than one argument and throws an error\n",
      "if [ $# -gt 1 ]; then\n",
      "    (>&2 echo \"Error: did not expect more than one argument.\")\n",
      "    (>&2 echo \"    (Got $@)\")\n",
      "    return 1\n",
      "fi\n",
      "\n",
      "# Sets a default value for the environment name if not present\n",
      "if [ -z \"$1\" ]; then\n",
      "    MY_NAME=\"ipyparallel_env\"\n",
      "else\n",
      "    MY_NAME=\"$1\"\n",
      "fi\n",
      "\n",
      "# Loads necessary ACCRE packages\n",
      "source pkgs.sh\n",
      "\n",
      "# Checks if environment name is valid and, if so, exports name\n",
      "if [[ \"$MY_NAME\" =~ ^[0-9A-Za-z_]+$ ]]; then\n",
      "    export MY_CONDA_ENV=$MY_NAME ;\n",
      "else\n",
      "    echo \"Invalid name $MY_NAME$\";\n",
      "    return 1\n",
      "fi\n",
      "\n",
      "# If the conda environment exists, then activates the environment\n",
      "# else creates the new conda environment with the Makefile\n",
      "if $(conda env list | grep -q $MY_CONDA_ENV); then\n",
      "    echo \"Found existing conda environment $MY_CONDA_ENV\" \n",
      "    source activate $MY_CONDA_ENV \n",
      "else\n",
      "    echo \"Creating conda environment $MY_CONDA_ENV\";\n",
      "    make env\n",
      "    source activate $MY_CONDA_ENV \n",
      "    make install\n",
      "    make test\n",
      "fi\n",
      "\n"
     ]
    }
   ],
   "source": [
    "%%sh\n",
    "cd ~/accre/Python/ipyparallel/\n",
    "cat source_file.sh"
   ]
  },
  {
   "cell_type": "markdown",
   "metadata": {
    "slideshow": {
     "slide_type": "slide"
    }
   },
   "source": [
    "## Usage\n",
    "\n",
    "Using `source source_file.sh [my_env_name]`\n",
    "* First time, creates *my_env_name* or default\n",
    "* Subsequent times, activates the conda environment\n",
    "\n",
    "For example:\n",
    "```\n",
    "[fido@vmps12 ipyparallel]$ source source_file.sh \n",
    "Found existing conda environment ipyparallel_env\n",
    "(ipyparallel_env) [fido@vmps12 ipyparallel]$ \n",
    "```"
   ]
  },
  {
   "cell_type": "markdown",
   "metadata": {
    "collapsed": true,
    "slideshow": {
     "slide_type": "slide"
    }
   },
   "source": [
    "## Distributed Memory Jobs\n",
    "\n",
    "* Execute on multiple cores across one or more notes\n",
    "* Memory is specific to each task\n",
    "        #SBATCH --ntasks=8\n",
    "        #SBATCH --cpus-per-task=1\n",
    "* Supported by the `ipyparallel` module"
   ]
  },
  {
   "cell_type": "markdown",
   "metadata": {
    "slideshow": {
     "slide_type": "subslide"
    }
   },
   "source": [
    "* `batch_job.slurm`: specifes the SLURM configuration and the application"
   ]
  },
  {
   "cell_type": "code",
   "execution_count": 8,
   "metadata": {
    "collapsed": false,
    "slideshow": {
     "slide_type": "-"
    }
   },
   "outputs": [
    {
     "name": "stdout",
     "output_type": "stream",
     "text": [
      "#!/bin/bash\n",
      "\n",
      "#SBATCH --ntasks=14\n",
      "#SBATCH --time=0-03:00:00\n",
      "#SBATCH --mem=10G\n",
      "\n",
      "# Sources the appropriate packages and conda environments\n",
      "source source_file.sh\n",
      "\n",
      "# Sets the profile and starts communication processes \n",
      "source launcher.sh\n",
      "echo Using prfile $profile\n",
      "\n",
      "# Creates output filename including timestamp\n",
      "outfile=pi_estimate$(date +%Y%m%d_%H%M%S).txt\n",
      "echo Using output file $outfile\n",
      "\n",
      "# Runs the application\n",
      "python compute_pi.py --profile ${profile} -n 1e12 -o $outfile \n"
     ]
    }
   ],
   "source": [
    "%%sh\n",
    "cd ~/accre/Python/ipyparallel/\n",
    "cat batch_job.slurm"
   ]
  },
  {
   "cell_type": "markdown",
   "metadata": {
    "slideshow": {
     "slide_type": "subslide"
    }
   },
   "source": [
    "* `launcher.sh`: shell script to be sourced which\n",
    "    1. creates new ipython profile specific to this job\n",
    "    1. launches a *controller* process for coordinating communication\n",
    "    1. launches the compute engines on each available task"
   ]
  },
  {
   "cell_type": "code",
   "execution_count": 9,
   "metadata": {
    "collapsed": false,
    "slideshow": {
     "slide_type": "-"
    }
   },
   "outputs": [
    {
     "name": "stdout",
     "output_type": "stream",
     "text": [
      "#!/bin/bash\n",
      "\n",
      "profile=job_${SLURM_JOB_ID}_$(hostname)\n",
      "\n",
      "echo \"Creating profile ${profile}\"\n",
      "ipython profile create ${profile}\n",
      "\n",
      "echo \"Launching controller\"\n",
      "ipcontroller --ip=\"*\" --profile=${profile} & \n",
      "sleep 10\n",
      "\n",
      "echo \"Launching engines\"\n",
      "srun ipengine --profile=${profile} --location=$(hostname) &\n",
      "sleep 25 \n"
     ]
    }
   ],
   "source": [
    "%%sh\n",
    "cd ~/accre/Python/ipyparallel/\n",
    "cat launcher.sh"
   ]
  },
  {
   "cell_type": "markdown",
   "metadata": {
    "slideshow": {
     "slide_type": "slide"
    }
   },
   "source": [
    "* `compute_pi.py`"
   ]
  },
  {
   "cell_type": "markdown",
   "metadata": {
    "slideshow": {
     "slide_type": "-"
    }
   },
   "source": [
    "```python\n",
    "import argparse\n",
    "from ipyparallel import Client\n",
    "import numpy as np\n",
    "import sympy\n",
    "from helpers import stopwatch, to_numeric\n",
    "import os\n",
    "\n",
    "PI = 3.141592653589793\n",
    "```"
   ]
  },
  {
   "cell_type": "markdown",
   "metadata": {
    "slideshow": {
     "slide_type": "subslide"
    }
   },
   "source": [
    "```python\n",
    "\n",
    "def worker_fun_1(n=1000):\n",
    "  \"\"\" worker function \"\"\"\n",
    "  from random import random\n",
    "  s = 0\n",
    "  for i in range(n):\n",
    "    if random() ** 2 + random() ** 2 <= 1:\n",
    "      s += 1\n",
    "  \n",
    "  return s \n",
    "```"
   ]
  },
  {
   "cell_type": "markdown",
   "metadata": {
    "slideshow": {
     "slide_type": "subslide"
    }
   },
   "source": [
    "```python\n",
    "def worker_fun_2(n=1000):\n",
    "  \"\"\" worker function \"\"\"\n",
    "  import numpy as np\n",
    " \n",
    "  chunksize = 1000000\n",
    "  num_chunks = max(n // chunksize, 1)\n",
    "  slop = n - num_chunks * chunksize\n",
    "  chunks = [chunksize] * num_chunks\n",
    "  if slop > 0:\n",
    "    chunks.append(slop)\n",
    "\n",
    "  s = 0 \n",
    "  for chunk in chunks:\n",
    "    s += int(np.sum(np.sum(np.square(np.random.rand(chunk, 2)), axis=1) < 1.))\n",
    "  \n",
    "  return s \n",
    "\n",
    "```"
   ]
  },
  {
   "cell_type": "markdown",
   "metadata": {
    "slideshow": {
     "slide_type": "subslide"
    }
   },
   "source": [
    "```python\n",
    "def main(profile, ntasks, niter):\n",
    "  rc = Client(profile=profile)\n",
    "  views = rc[:]\n",
    "\n",
    "  n = round(niter / ntasks)\n",
    "\n",
    "  results = views.apply_sync(worker_fun_2, n)\n",
    "  # Uses sypmy to compute the ratio to arbitrary precision\n",
    "  my_pi = 4. * sympy.Rational(sum(results), (n * ntasks)).n(20)\n",
    "\n",
    "  with open(filename, \"w\") as f:\n",
    "    f.write(\"Estimate of pi: %0.16f\\n\" % my_pi)\n",
    "    f.write(\"Actual pi:      %0.16f\\n\" % PI) \n",
    "    f.write(\"Percent error:  %0.16f\\n\" % np.abs(100. * (PI - my_pi) / PI))\n",
    "```"
   ]
  },
  {
   "cell_type": "markdown",
   "metadata": {
    "slideshow": {
     "slide_type": "subslide"
    }
   },
   "source": [
    "```python\n",
    "if __name__ == \"__main__\":\n",
    "  parser = argparse.ArgumentParser()\n",
    "  parser.add_argument(\"-p\", \n",
    "                      \"--profile\", \n",
    "                      type=str, \n",
    "                      required=True,\n",
    "                      help=\"Name of IPython profile to use\")\n",
    "  parser.add_argument(\"-n\", \n",
    "                      \"--niter\", \n",
    "                      type=str, \n",
    "                      required=True,\n",
    "                      help=\"Number of stochastic iterations\")\n",
    "  parser.add_argument(\"-o\", \n",
    "                      \"--output\", \n",
    "                      type=str, \n",
    "                      required=True,\n",
    "                      help=\"Name of output file for writing\")\n",
    "\n",
    "  args = parser.parse_args()\n",
    "\n",
    "  main(args.profile,\n",
    "      to_numeric(os.environ['SLURM_NTASKS']),\n",
    "      to_numeric(args.niter))\n",
    "```"
   ]
  },
  {
   "cell_type": "markdown",
   "metadata": {
    "slideshow": {
     "slide_type": "slide"
    }
   },
   "source": [
    "## Some results\n"
   ]
  },
  {
   "cell_type": "code",
   "execution_count": null,
   "metadata": {
    "collapsed": true,
    "slideshow": {
     "slide_type": "subslide"
    }
   },
   "outputs": [],
   "source": []
  },
  {
   "cell_type": "markdown",
   "metadata": {
    "slideshow": {
     "slide_type": "slide"
    }
   },
   "source": [
    "## github.com/accre/Python\n",
    "\n",
    "![ACCRE Python github repo](images/ACCRE_Python_github.png)\n"
   ]
  }
 ],
 "metadata": {
  "anaconda-cloud": {},
  "celltoolbar": "Slideshow",
  "kernelspec": {
   "display_name": "Python [default]",
   "language": "python",
   "name": "python3"
  },
  "language_info": {
   "codemirror_mode": {
    "name": "ipython",
    "version": 3
   },
   "file_extension": ".py",
   "mimetype": "text/x-python",
   "name": "python",
   "nbconvert_exporter": "python",
   "pygments_lexer": "ipython3",
   "version": "3.5.1"
  },
  "nbpresent": {
   "slides": {
    "160aaef8-e496-4ee2-b73c-7f02ee67a06c": {
     "id": "160aaef8-e496-4ee2-b73c-7f02ee67a06c",
     "prev": "e06cd436-edd1-40ef-8ba1-ae8529693afa",
     "regions": {
      "ee9cfdaf-657b-4ce9-b9ef-de59dba3866c": {
       "attrs": {
        "height": 0.8,
        "width": 0.8,
        "x": 0.1,
        "y": 0.1
       },
       "content": {
        "cell": "83beda93-f02b-4b5a-a1b2-7896e47b9e3d",
        "part": "whole"
       },
       "id": "ee9cfdaf-657b-4ce9-b9ef-de59dba3866c"
      }
     }
    },
    "3e3cc3b3-9d35-4b1f-9ef7-cecf6284d90d": {
     "id": "3e3cc3b3-9d35-4b1f-9ef7-cecf6284d90d",
     "prev": "a016a748-a4b3-4f96-b954-7634ae04dc5c",
     "regions": {
      "6276bcda-bea8-4200-accb-9bf55fe2081e": {
       "attrs": {
        "height": 0.8,
        "width": 0.8,
        "x": 0.1,
        "y": 0.1
       },
       "content": {
        "cell": "ff271b6e-04a1-4f57-9e87-839b64edbfda",
        "part": "whole"
       },
       "id": "6276bcda-bea8-4200-accb-9bf55fe2081e"
      },
      "b8296933-60c4-4646-a2da-5f89cc895507": {
       "attrs": {
        "height": 0.4,
        "width": 0.8,
        "x": 0.1,
        "y": 0.5
       },
       "content": {
        "cell": "1b86963d-d25d-4d38-b5b5-546c75d80131",
        "part": "whole"
       },
       "id": "b8296933-60c4-4646-a2da-5f89cc895507"
      },
      "dd4159f2-df7a-4cec-86e0-0e6781b1c312": {
       "attrs": {
        "height": 0.4,
        "width": 0.8,
        "x": 0.1,
        "y": 0.5
       },
       "content": {
        "cell": "577afd17-95ed-4ffe-985b-c00d94e73ccc",
        "part": "whole"
       },
       "id": "dd4159f2-df7a-4cec-86e0-0e6781b1c312"
      }
     }
    },
    "40325e98-6239-4b45-b69a-3c09d9fb2a4a": {
     "id": "40325e98-6239-4b45-b69a-3c09d9fb2a4a",
     "prev": "5de5f6ab-a527-4035-bb68-3d0d7834f27d",
     "regions": {
      "820e333c-30b0-4b30-80cf-57ad717028c3": {
       "attrs": {
        "height": 0.8,
        "width": 0.8,
        "x": 0.1,
        "y": 0.1
       },
       "content": {
        "cell": "f972bf78-5de4-4415-b9e8-7c8522b6700c",
        "part": "whole"
       },
       "id": "820e333c-30b0-4b30-80cf-57ad717028c3"
      },
      "a87049d6-316d-424e-bb7d-b7412b9e56b4": {
       "attrs": {
        "height": 0.4,
        "width": 0.8,
        "x": 0.1,
        "y": 0.5
       },
       "content": {
        "cell": "83fe38aa-1870-49c8-bc15-d3ec6fc03f68",
        "part": "whole"
       },
       "id": "a87049d6-316d-424e-bb7d-b7412b9e56b4"
      }
     }
    },
    "5de5f6ab-a527-4035-bb68-3d0d7834f27d": {
     "id": "5de5f6ab-a527-4035-bb68-3d0d7834f27d",
     "prev": "7591611e-b720-40e5-bbcc-1c3321a38336",
     "regions": {
      "ba008d3d-4677-4f1c-98a6-8e3cdd0eb806": {
       "attrs": {
        "height": 0.4,
        "width": 0.8,
        "x": 0.1,
        "y": 0.5
       },
       "content": {
        "cell": "11f7d14d-d0fb-4b5a-8a5f-4bb2d358a5c8",
        "part": "whole"
       },
       "id": "ba008d3d-4677-4f1c-98a6-8e3cdd0eb806"
      },
      "ef70c152-2284-4c23-9460-a70e74518f2a": {
       "attrs": {
        "height": 0.8,
        "width": 0.8,
        "x": 0.1,
        "y": 0.1
       },
       "content": {
        "cell": "48627781-a0c9-42ec-85a5-2cd4291caa99",
        "part": "whole"
       },
       "id": "ef70c152-2284-4c23-9460-a70e74518f2a"
      }
     }
    },
    "5fe062be-e2a6-4e19-a73d-eb779e5ddd5c": {
     "id": "5fe062be-e2a6-4e19-a73d-eb779e5ddd5c",
     "prev": "7a771b27-3d38-4cb4-bf18-5ec9368153a7",
     "regions": {
      "0727ac91-90e4-43ec-83ca-430eb284b7fa": {
       "attrs": {
        "height": 0.8,
        "width": 0.8,
        "x": 0.1,
        "y": 0.1
       },
       "content": {
        "cell": "fe98070d-c3a4-4c0a-8f0b-ae7c6f9fea02",
        "part": "whole"
       },
       "id": "0727ac91-90e4-43ec-83ca-430eb284b7fa"
      },
      "33f052fc-a6c8-4239-8860-719ed907f09f": {
       "attrs": {
        "height": 0.4,
        "width": 0.8,
        "x": 0.1,
        "y": 0.5
       },
       "content": {
        "cell": "6c89cadd-ad89-43fc-b500-fa59c049ab17",
        "part": "whole"
       },
       "id": "33f052fc-a6c8-4239-8860-719ed907f09f"
      }
     }
    },
    "74359642-2890-440a-adcc-92b14d733a19": {
     "id": "74359642-2890-440a-adcc-92b14d733a19",
     "prev": "160aaef8-e496-4ee2-b73c-7f02ee67a06c",
     "regions": {
      "0d61dbc7-8674-4ec6-92dd-3f0d49bd79ec": {
       "attrs": {
        "height": 0.8,
        "width": 0.8,
        "x": 0.1,
        "y": 0.1
       },
       "content": {
        "cell": "58efdd1d-a6fa-48f5-8500-725bb8d0b10d",
        "part": "whole"
       },
       "id": "0d61dbc7-8674-4ec6-92dd-3f0d49bd79ec"
      }
     }
    },
    "7591611e-b720-40e5-bbcc-1c3321a38336": {
     "id": "7591611e-b720-40e5-bbcc-1c3321a38336",
     "prev": "5fe062be-e2a6-4e19-a73d-eb779e5ddd5c",
     "regions": {
      "55a13ac5-5842-44bd-bfa7-6b4969318c6e": {
       "attrs": {
        "height": 0.8,
        "width": 0.8,
        "x": 0.1,
        "y": 0.1
       },
       "content": {
        "cell": "17fd4a15-fcc4-44e6-bfe0-587e65c20b63",
        "part": "whole"
       },
       "id": "55a13ac5-5842-44bd-bfa7-6b4969318c6e"
      }
     }
    },
    "7a771b27-3d38-4cb4-bf18-5ec9368153a7": {
     "id": "7a771b27-3d38-4cb4-bf18-5ec9368153a7",
     "prev": "cfa9a68b-12e4-4ecf-afc3-b30b7f690a5d",
     "regions": {
      "1a269904-64fe-4bdf-a889-de169692c69f": {
       "attrs": {
        "height": 0.8,
        "width": 0.8,
        "x": 0.1,
        "y": 0.1
       },
       "content": {
        "cell": "f879fac4-1f80-4689-8ced-eb51b1283b8f",
        "part": "whole"
       },
       "id": "1a269904-64fe-4bdf-a889-de169692c69f"
      }
     }
    },
    "9cd8005a-a98b-4fd3-90f9-bb64360b740c": {
     "id": "9cd8005a-a98b-4fd3-90f9-bb64360b740c",
     "prev": null,
     "regions": {
      "e566a8f0-6813-4a5e-945e-fb7e1dc5734f": {
       "attrs": {
        "height": 0.8,
        "width": 0.8,
        "x": 0.1,
        "y": 0.1
       },
       "content": {
        "cell": "0e7aeb4c-9d53-43fc-91ee-0b132499baf8",
        "part": "whole"
       },
       "id": "e566a8f0-6813-4a5e-945e-fb7e1dc5734f"
      }
     }
    },
    "a016a748-a4b3-4f96-b954-7634ae04dc5c": {
     "id": "a016a748-a4b3-4f96-b954-7634ae04dc5c",
     "prev": "74359642-2890-440a-adcc-92b14d733a19",
     "regions": {
      "0a979e30-093d-4826-b7f5-cfee95a47366": {
       "attrs": {
        "height": 0.4,
        "width": 0.8,
        "x": 0.1,
        "y": 0.5
       },
       "content": {
        "cell": "a0c7c7b0-37df-4180-a6a4-16bf9aae41c0",
        "part": "whole"
       },
       "id": "0a979e30-093d-4826-b7f5-cfee95a47366"
      },
      "2c991720-bfed-45a7-8081-1111f7ae59a2": {
       "attrs": {
        "height": 0.8,
        "width": 0.8,
        "x": 0.1,
        "y": 0.1
       },
       "content": {
        "cell": "5238d6bf-ecb8-418e-b00e-575646df4ce7",
        "part": "whole"
       },
       "id": "2c991720-bfed-45a7-8081-1111f7ae59a2"
      },
      "30627bcc-e329-4181-8217-1437b58ab540": {
       "attrs": {
        "height": 0.4,
        "width": 0.8,
        "x": 0.1,
        "y": 0.5
       },
       "content": {
        "cell": "51f36138-d221-4c68-a0e1-d3f22c7ae6e0",
        "part": "whole"
       },
       "id": "30627bcc-e329-4181-8217-1437b58ab540"
      }
     }
    },
    "b0462f85-ed8f-40e7-b3ff-d5198908dd5e": {
     "id": "b0462f85-ed8f-40e7-b3ff-d5198908dd5e",
     "prev": "9cd8005a-a98b-4fd3-90f9-bb64360b740c",
     "regions": {
      "49282dd7-c2de-4cae-9082-1f308250bb2e": {
       "attrs": {
        "height": 0.8,
        "width": 0.8,
        "x": 0.1,
        "y": 0.1
       },
       "content": {
        "cell": "96b656d9-c390-48ec-96cb-f7a0451e4b33",
        "part": "whole"
       },
       "id": "49282dd7-c2de-4cae-9082-1f308250bb2e"
      }
     }
    },
    "cfa9a68b-12e4-4ecf-afc3-b30b7f690a5d": {
     "id": "cfa9a68b-12e4-4ecf-afc3-b30b7f690a5d",
     "prev": "b0462f85-ed8f-40e7-b3ff-d5198908dd5e",
     "regions": {
      "2b3d0f97-b06e-41e9-bbbd-420db4cdac44": {
       "attrs": {
        "height": 0.8,
        "width": 0.8,
        "x": 0.1,
        "y": 0.1
       },
       "content": {
        "cell": "d9e91f34-bbe5-4592-bc69-c8191788ca43",
        "part": "whole"
       },
       "id": "2b3d0f97-b06e-41e9-bbbd-420db4cdac44"
      },
      "f729af9e-6416-420d-a0ce-778437fa8b59": {
       "attrs": {
        "height": 0.4,
        "width": 0.8,
        "x": 0.1,
        "y": 0.5
       },
       "content": {
        "cell": "f1b001ae-aaaa-4c46-9c7f-66f95a1167f5",
        "part": "whole"
       },
       "id": "f729af9e-6416-420d-a0ce-778437fa8b59"
      }
     }
    },
    "d5221ccb-354e-4375-a502-7608eace8188": {
     "id": "d5221ccb-354e-4375-a502-7608eace8188",
     "prev": "40325e98-6239-4b45-b69a-3c09d9fb2a4a",
     "regions": {
      "f1a4ceae-97bd-431d-bf02-c155a6179aac": {
       "attrs": {
        "height": 0.8,
        "width": 0.8,
        "x": 0.1,
        "y": 0.1
       },
       "content": {
        "cell": "159944f0-b17b-49f7-a15c-c93ae3d08f64",
        "part": "whole"
       },
       "id": "f1a4ceae-97bd-431d-bf02-c155a6179aac"
      }
     }
    },
    "dd9e9d42-9a36-46df-930d-2c81cdbc097f": {
     "id": "dd9e9d42-9a36-46df-930d-2c81cdbc097f",
     "prev": "d5221ccb-354e-4375-a502-7608eace8188",
     "regions": {
      "ef42496a-d54a-4467-851b-186e99615405": {
       "attrs": {
        "height": 0.8,
        "width": 0.8,
        "x": 0.1,
        "y": 0.1
       },
       "content": {
        "cell": "0cec4ba9-a0ba-48f6-b631-0609ddf9de29",
        "part": "whole"
       },
       "id": "ef42496a-d54a-4467-851b-186e99615405"
      }
     }
    },
    "e06cd436-edd1-40ef-8ba1-ae8529693afa": {
     "id": "e06cd436-edd1-40ef-8ba1-ae8529693afa",
     "prev": "dd9e9d42-9a36-46df-930d-2c81cdbc097f",
     "regions": {
      "86800d10-b025-498f-9297-5115bcc51ad5": {
       "attrs": {
        "height": 0.8,
        "width": 0.8,
        "x": 0.1,
        "y": 0.1
       },
       "content": {
        "cell": "fb84332a-4540-47ee-ab0a-e92a09d77bb9",
        "part": "whole"
       },
       "id": "86800d10-b025-498f-9297-5115bcc51ad5"
      }
     }
    }
   },
   "themes": {}
  }
 },
 "nbformat": 4,
 "nbformat_minor": 1
}
