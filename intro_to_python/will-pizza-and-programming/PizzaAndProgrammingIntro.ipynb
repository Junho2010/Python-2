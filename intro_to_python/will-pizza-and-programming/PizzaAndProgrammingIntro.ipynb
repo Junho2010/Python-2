{
 "cells": [
  {
   "cell_type": "markdown",
   "metadata": {
    "slideshow": {
     "slide_type": "slide"
    }
   },
   "source": [
    "# ACCRE Pizza and Programming Seminars"
   ]
  },
  {
   "cell_type": "markdown",
   "metadata": {
    "slideshow": {
     "slide_type": "subslide"
    }
   },
   "source": [
    "![pizza](pizza.jpg)"
   ]
  },
  {
   "cell_type": "markdown",
   "metadata": {
    "slideshow": {
     "slide_type": "slide"
    }
   },
   "source": [
    "# Motivation for P&P Seminars\n",
    "\n",
    "* Advanced, in-depth training for widely used and supported tools\n",
    "* Exposure to and training for new cutting edge tools \n",
    "* Best practices\n",
    "* Collaboration among users\n",
    "* Platform for developers to showcase and demo tools\n",
    "* Better Support\n",
    "* **Pizza!**"
   ]
  },
  {
   "cell_type": "markdown",
   "metadata": {
    "slideshow": {
     "slide_type": "slide"
    }
   },
   "source": [
    "# Aims of P&P Seminars\n",
    "\n",
    "* High frequency (once a month or so)\n",
    "* Relevance (see next slide)\n",
    "* Diversity of topics\n",
    "* Ease of access and participation\n",
    "* Foster opportunities for collaboration\n",
    "* Encourage participation from users"
   ]
  },
  {
   "cell_type": "markdown",
   "metadata": {
    "slideshow": {
     "slide_type": "subslide"
    }
   },
   "source": [
    "![poll](poll.png)"
   ]
  },
  {
   "cell_type": "markdown",
   "metadata": {
    "collapsed": true,
    "slideshow": {
     "slide_type": "slide"
    }
   },
   "source": [
    "# What are you hoping to gain from these seminars?"
   ]
  },
  {
   "cell_type": "markdown",
   "metadata": {
    "slideshow": {
     "slide_type": "slide"
    }
   },
   "source": [
    "# Today's Topic: Python and Python Package/Environment Management\n",
    "\n",
    "* Package management in Python can be a huge time sink and headache, especially in a large shared environment like ACCRE.\n",
    "* **Scenario 1**: Jill is working on multiple projects on the cluster and Python is her tool of choice. Project A requires Pandas version X, while Project B requires Pandas version Y, and version Z is installed with the most recent version of Python 3 on the cluster! \n",
    "* **Scenario 2**: Jack's workflow _was_ working fine before he upgraded the version of NumPy installed in his home directory with Pip. Now SciPy, Matplotlib, and SciKitLearn are broken!\n",
    "* **Scenario 3**: I prefer working with Jupyter Notebooks but the cluster is not notebook-friendly."
   ]
  },
  {
   "cell_type": "markdown",
   "metadata": {
    "slideshow": {
     "slide_type": "slide"
    }
   },
   "source": [
    "# Python Distributions and Virtual Environments\n",
    "\n",
    "* Python virtual environments address many of the versioning and dependency headaches illustrated in the previous slide\n",
    "* The Anaconda distribution of Python in particular is designed to overcome many of these pitfalls\n",
    "* ACCRE manages a top-level Anaconda distribution, providing a robust package management framework (including most of the popular scientific computing packages in the default installation)\n",
    "* ACCRE is also moving toward providing a \"vanilla\" Python installation for cases where Python is needed only as a dependency for another piece of software "
   ]
  }
 ],
 "metadata": {
  "celltoolbar": "Slideshow",
  "kernelspec": {
   "display_name": "Python 2",
   "language": "python",
   "name": "python2"
  },
  "language_info": {
   "codemirror_mode": {
    "name": "ipython",
    "version": 2
   },
   "file_extension": ".py",
   "mimetype": "text/x-python",
   "name": "python",
   "nbconvert_exporter": "python",
   "pygments_lexer": "ipython2",
   "version": "2.7.12"
  }
 },
 "nbformat": 4,
 "nbformat_minor": 1
}
