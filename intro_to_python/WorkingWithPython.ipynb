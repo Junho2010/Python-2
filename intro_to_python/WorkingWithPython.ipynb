{
 "cells": [
  {
   "cell_type": "markdown",
   "metadata": {
    "nbpresent": {
     "id": "0e7aeb4c-9d53-43fc-91ee-0b132499baf8"
    },
    "slideshow": {
     "slide_type": "slide"
    }
   },
   "source": [
    "# Working with Python on the ACCRE Cluster"
   ]
  },
  {
   "cell_type": "markdown",
   "metadata": {
    "nbpresent": {
     "id": "96b656d9-c390-48ec-96cb-f7a0451e4b33"
    },
    "slideshow": {
     "slide_type": "slide"
    }
   },
   "source": [
    "## Overview\n",
    "\n",
    "1. Intro to Python\n",
    "1. Python versions on the cluster\n",
    "1. Virtual Environments\n",
    "1. Anaconda\n",
    "1. Jupyter notebooks"
   ]
  },
  {
   "cell_type": "markdown",
   "metadata": {
    "nbpresent": {
     "id": "d9e91f34-bbe5-4592-bc69-c8191788ca43"
    },
    "slideshow": {
     "slide_type": "slide"
    }
   },
   "source": [
    "## Intro to Python\n",
    "\n",
    "1. Assumes the programmer knows what she/he is doing!\n",
    "1. High-level language\n",
    "1. Generally intuitive syntax\n",
    "1. Highly popular (First appeared Feb. 1991)\n",
    "1. Rich with non-standard libraries\n",
    "    1. numpy -> Matlab-like matrix-vector operations\n",
    "    1. pandas -> R-like data frames\n",
    "    1. matplotlib -> plotting\n",
    "    1. requests -> HTTP getting/posting\n",
    "    1. etc.\n",
    "1. Free!"
   ]
  },
  {
   "cell_type": "markdown",
   "metadata": {
    "slideshow": {
     "slide_type": "subslide"
    }
   },
   "source": [
    "## A typical Python script\n",
    "\n",
    "\n",
    "### Import modules\n",
    "```python\n",
    "#!/usr/bin/env python\n",
    "\n",
    "from random import random\n",
    "\n",
    "s = \"This string belongs to the global namespace\" \\\n",
    "    \"but using globals is discouraged\"\n",
    "\n",
    "```"
   ]
  },
  {
   "cell_type": "markdown",
   "metadata": {
    "slideshow": {
     "slide_type": "subslide"
    }
   },
   "source": [
    "### Define functions, classes, etc.\n",
    "``` python\n",
    "def sub_fun(str1, str2=\"World!\", threshold=0.5):\n",
    "    \"\"\" Prints a string determined by the input\n",
    "    \n",
    "    :param threshold: specifies minimum value that prints \n",
    "        \"Hello\"; default=0.5\n",
    "    :return None\n",
    "    \"\"\"\n",
    "    \n",
    "    if random() > threshold:\n",
    "        print(str1)\n",
    "    else:\n",
    "        print(str2)\n",
    "\n",
    "def main_fun():\n",
    "    \"\"\" The primary function of the program \"\"\"\n",
    "    sub_fun(\"Hello\")\n",
    "    sub_fun(\"Hello\", \"yes\")\n",
    "    sub_fun(\"Hello\", str2=\"this is dog!\", threshold=0.4) \n",
    "```"
   ]
  },
  {
   "cell_type": "markdown",
   "metadata": {
    "slideshow": {
     "slide_type": "subslide"
    }
   },
   "source": [
    "### Define the standalone behavior\n",
    "```python\n",
    "if __name__ == \"__main__\":\n",
    "    \"\"\" __name__ == \"__main__\" is true if the program\n",
    "    is executing as a standalone \"\"\"\n",
    "    main_fun()\n",
    "\n",
    "```"
   ]
  },
  {
   "cell_type": "markdown",
   "metadata": {
    "slideshow": {
     "slide_type": "subslide"
    }
   },
   "source": [
    "![this is dog](images/dog.png)"
   ]
  },
  {
   "cell_type": "markdown",
   "metadata": {
    "slideshow": {
     "slide_type": "subslide"
    }
   },
   "source": [
    "## Python fundamentals"
   ]
  },
  {
   "cell_type": "markdown",
   "metadata": {
    "nbpresent": {
     "id": "6cfb0ab6-c08d-4b2d-9a81-d323f0a5fdbb"
    },
    "slideshow": {
     "slide_type": "subslide"
    }
   },
   "source": [
    "### Duck typing"
   ]
  },
  {
   "cell_type": "code",
   "execution_count": 1,
   "metadata": {
    "collapsed": false,
    "nbpresent": {
     "id": "f1b001ae-aaaa-4c46-9c7f-66f95a1167f5"
    },
    "slideshow": {
     "slide_type": "-"
    }
   },
   "outputs": [
    {
     "data": {
      "text/plain": [
       "42"
      ]
     },
     "execution_count": 1,
     "metadata": {},
     "output_type": "execute_result"
    }
   ],
   "source": [
    "# Comments begin with hashes\n",
    "a = 41\n",
    "b = 1\n",
    "a + b"
   ]
  },
  {
   "cell_type": "code",
   "execution_count": 5,
   "metadata": {
    "collapsed": false,
    "nbpresent": {
     "id": "5a30c1f4-3514-4874-a274-a170927d4e9f"
    },
    "slideshow": {
     "slide_type": "-"
    }
   },
   "outputs": [
    {
     "data": {
      "text/plain": [
       "'411'"
      ]
     },
     "execution_count": 5,
     "metadata": {},
     "output_type": "execute_result"
    }
   ],
   "source": [
    "a = \"41\"\n",
    "b = \"1\"\n",
    "a + b"
   ]
  },
  {
   "cell_type": "markdown",
   "metadata": {
    "nbpresent": {
     "id": "bea70208-2d78-40ef-86e5-e4d221044b19"
    },
    "slideshow": {
     "slide_type": "subslide"
    }
   },
   "source": [
    "### Indentation and punctuation matter"
   ]
  },
  {
   "cell_type": "code",
   "execution_count": 6,
   "metadata": {
    "collapsed": false,
    "nbpresent": {
     "id": "f879fac4-1f80-4689-8ced-eb51b1283b8f"
    },
    "slideshow": {
     "slide_type": "-"
    }
   },
   "outputs": [
    {
     "name": "stdout",
     "output_type": "stream",
     "text": [
      "meaning of life\n"
     ]
    }
   ],
   "source": [
    "a = 42\n",
    "if a == 42: \n",
    "    print(\"meaning of life\")\n",
    "elif a == 24:\n",
    "    print(\"life of meaning\")\n",
    "else:\n",
    "    print(\"just another number\")"
   ]
  },
  {
   "cell_type": "markdown",
   "metadata": {
    "nbpresent": {
     "id": "fe98070d-c3a4-4c0a-8f0b-ae7c6f9fea02"
    },
    "slideshow": {
     "slide_type": "subslide"
    }
   },
   "source": [
    "### For loops exist but are not very *Pythonic*\n",
    "\n",
    "-> Use comprehensions instead"
   ]
  },
  {
   "cell_type": "code",
   "execution_count": 7,
   "metadata": {
    "collapsed": false,
    "nbpresent": {
     "id": "6c89cadd-ad89-43fc-b500-fa59c049ab17"
    },
    "slideshow": {
     "slide_type": "-"
    }
   },
   "outputs": [
    {
     "name": "stdout",
     "output_type": "stream",
     "text": [
      "[0, 1, 2, 3, 4]\n",
      "[0, 1, 2, 3, 4]\n"
     ]
    }
   ],
   "source": [
    "# Prefer comprehensions\n",
    "list0 = [i for i in range(5)]\n",
    "\n",
    "# to for loops\n",
    "list1 = []\n",
    "for i in range(5):\n",
    "    list1.append(i)\n",
    "    \n",
    "print(list0)\n",
    "print(list1)"
   ]
  },
  {
   "cell_type": "markdown",
   "metadata": {
    "nbpresent": {
     "id": "48627781-a0c9-42ec-85a5-2cd4291caa99"
    },
    "slideshow": {
     "slide_type": "subslide"
    }
   },
   "source": [
    "### Comprehensions and Types\n",
    "\n",
    "Everything has a type"
   ]
  },
  {
   "cell_type": "code",
   "execution_count": 3,
   "metadata": {
    "collapsed": false,
    "nbpresent": {
     "id": "11f7d14d-d0fb-4b5a-8a5f-4bb2d358a5c8"
    },
    "slideshow": {
     "slide_type": "-"
    }
   },
   "outputs": [
    {
     "name": "stdout",
     "output_type": "stream",
     "text": [
      "<class 'generator'>\n",
      "<class 'list'>\n",
      "<class 'set'>\n",
      "<class 'dict'>\n"
     ]
    }
   ],
   "source": [
    "print(type( (i for i in range(10)) ))\n",
    "print(type( [i for i in range(10)] ))\n",
    "print(type( {i for i in range(10)} ))\n",
    "print(type( {i: \"some_value\" for i in range(10)} ))"
   ]
  },
  {
   "cell_type": "markdown",
   "metadata": {
    "nbpresent": {
     "id": "f972bf78-5de4-4415-b9e8-7c8522b6700c"
    },
    "slideshow": {
     "slide_type": "subslide"
    }
   },
   "source": [
    "### Comprehensions can be filtered"
   ]
  },
  {
   "cell_type": "code",
   "execution_count": 8,
   "metadata": {
    "collapsed": false,
    "nbpresent": {
     "id": "83fe38aa-1870-49c8-bc15-d3ec6fc03f68"
    },
    "slideshow": {
     "slide_type": "-"
    }
   },
   "outputs": [
    {
     "name": "stdout",
     "output_type": "stream",
     "text": [
      "[1, 2, 4, 5, 7, 8]\n",
      "[1, 2, 4, 5, 7, 8]\n"
     ]
    }
   ],
   "source": [
    "# filter a list\n",
    "print([i for i in range(10) if i % 3 != 0 ])\n",
    "\n",
    "# nonzero ints evaluate to true\n",
    "print([i for i in range(10) if i % 3])"
   ]
  },
  {
   "cell_type": "markdown",
   "metadata": {
    "nbpresent": {
     "id": "159944f0-b17b-49f7-a15c-c93ae3d08f64"
    },
    "slideshow": {
     "slide_type": "subslide"
    }
   },
   "source": [
    "### Dictionaries\n",
    "\n",
    "The type `dict`:\n",
    "1. supports very fast lookup\n",
    "1. does not preserve order\n",
    "1. keys are unique"
   ]
  },
  {
   "cell_type": "code",
   "execution_count": 54,
   "metadata": {
    "collapsed": false,
    "nbpresent": {
     "id": "aafc0371-b330-45de-98c8-259e82752aa3"
    },
    "slideshow": {
     "slide_type": "subslide"
    }
   },
   "outputs": [
    {
     "name": "stdout",
     "output_type": "stream",
     "text": [
      "The variable animals is of type <class 'dict'>:\n",
      "The original dict: {'badger': 99, 'wolverine': 100}\n",
      "\n"
     ]
    }
   ],
   "source": [
    "animals = {\"wolverine\":100, \"badger\": 99}\n",
    "print(\"The variable animals is of type %s:\" % type(animals))\n",
    "print(\"The original dict:\", animals)\n",
    "print()"
   ]
  },
  {
   "cell_type": "markdown",
   "metadata": {
    "slideshow": {
     "slide_type": "subslide"
    }
   },
   "source": [
    "### Exception handling"
   ]
  },
  {
   "cell_type": "code",
   "execution_count": 55,
   "metadata": {
    "collapsed": false,
    "slideshow": {
     "slide_type": "-"
    }
   },
   "outputs": [
    {
     "ename": "KeyError",
     "evalue": "'puma'",
     "output_type": "error",
     "traceback": [
      "\u001b[1;31m---------------------------------------------------------------------------\u001b[0m",
      "\u001b[1;31mKeyError\u001b[0m                                  Traceback (most recent call last)",
      "\u001b[1;32m<ipython-input-55-f6ebb08b2538>\u001b[0m in \u001b[0;36m<module>\u001b[1;34m()\u001b[0m\n\u001b[1;32m----> 1\u001b[1;33m \u001b[0manimals\u001b[0m\u001b[1;33m[\u001b[0m\u001b[1;34m\"puma\"\u001b[0m\u001b[1;33m]\u001b[0m\u001b[1;33m\u001b[0m\u001b[0m\n\u001b[0m",
      "\u001b[1;31mKeyError\u001b[0m: 'puma'"
     ]
    }
   ],
   "source": [
    "animals[\"puma\"]"
   ]
  },
  {
   "cell_type": "code",
   "execution_count": 56,
   "metadata": {
    "collapsed": false,
    "nbpresent": {
     "id": "c2f39cd8-9a88-4d32-a2a5-09207af17566"
    },
    "slideshow": {
     "slide_type": "-"
    }
   },
   "outputs": [
    {
     "name": "stdout",
     "output_type": "stream",
     "text": [
      "Couldn't get puma, but I can specify a default value 50\n"
     ]
    }
   ],
   "source": [
    "try:\n",
    "    animals[\"puma\"]\n",
    "except:\n",
    "    print(\"Couldn't get puma, but I can \" \\\n",
    "          \"specify a default value\",\n",
    "         animals.get(\"puma\", 50))"
   ]
  },
  {
   "cell_type": "code",
   "execution_count": null,
   "metadata": {
    "collapsed": true,
    "slideshow": {
     "slide_type": "subslide"
    }
   },
   "outputs": [],
   "source": [
    "def exception_safe_fun(fun):\n",
    "    try:\n",
    "        fun()\n",
    "    except KeyError:\n",
    "        print(\"Couldn't get puma, but I can \" \\\n",
    "              \"specify a default value\",\n",
    "             animals.get(\"puma\", 50))\n",
    "    except:\n",
    "        print(\"I didn't expect this error\")\n",
    "        raise"
   ]
  },
  {
   "cell_type": "code",
   "execution_count": 61,
   "metadata": {
    "collapsed": false,
    "slideshow": {
     "slide_type": "subslide"
    }
   },
   "outputs": [
    {
     "name": "stdout",
     "output_type": "stream",
     "text": [
      "Couldn't get puma, but I can specify a default value 50\n",
      "--------------------------------------------------------------------------------\n",
      "I didn't expect this error\n"
     ]
    },
    {
     "ename": "NameError",
     "evalue": "name 'manimals' is not defined",
     "output_type": "error",
     "traceback": [
      "\u001b[1;31m---------------------------------------------------------------------------\u001b[0m",
      "\u001b[1;31mNameError\u001b[0m                                 Traceback (most recent call last)",
      "\u001b[1;32m<ipython-input-61-01a3c4782053>\u001b[0m in \u001b[0;36m<module>\u001b[1;34m()\u001b[0m\n\u001b[0;32m      7\u001b[0m \u001b[0mexception_safe_fun\u001b[0m\u001b[1;33m(\u001b[0m\u001b[0mf0\u001b[0m\u001b[1;33m)\u001b[0m\u001b[1;33m\u001b[0m\u001b[0m\n\u001b[0;32m      8\u001b[0m \u001b[0mprint\u001b[0m\u001b[1;33m(\u001b[0m\u001b[1;34m\"-\"\u001b[0m\u001b[1;33m*\u001b[0m\u001b[1;36m80\u001b[0m\u001b[1;33m)\u001b[0m\u001b[1;33m\u001b[0m\u001b[0m\n\u001b[1;32m----> 9\u001b[1;33m \u001b[0mexception_safe_fun\u001b[0m\u001b[1;33m(\u001b[0m\u001b[0mf1\u001b[0m\u001b[1;33m)\u001b[0m\u001b[1;33m\u001b[0m\u001b[0m\n\u001b[0m",
      "\u001b[1;32m<ipython-input-60-923642ae2a81>\u001b[0m in \u001b[0;36mexception_safe_fun\u001b[1;34m(fun)\u001b[0m\n\u001b[0;32m      1\u001b[0m \u001b[1;32mdef\u001b[0m \u001b[0mexception_safe_fun\u001b[0m\u001b[1;33m(\u001b[0m\u001b[0mfun\u001b[0m\u001b[1;33m)\u001b[0m\u001b[1;33m:\u001b[0m\u001b[1;33m\u001b[0m\u001b[0m\n\u001b[0;32m      2\u001b[0m     \u001b[1;32mtry\u001b[0m\u001b[1;33m:\u001b[0m\u001b[1;33m\u001b[0m\u001b[0m\n\u001b[1;32m----> 3\u001b[1;33m         \u001b[0mfun\u001b[0m\u001b[1;33m(\u001b[0m\u001b[1;33m)\u001b[0m\u001b[1;33m\u001b[0m\u001b[0m\n\u001b[0m\u001b[0;32m      4\u001b[0m     \u001b[1;32mexcept\u001b[0m \u001b[0mKeyError\u001b[0m\u001b[1;33m:\u001b[0m\u001b[1;33m\u001b[0m\u001b[0m\n\u001b[0;32m      5\u001b[0m         print(\"Couldn't get puma, but I can \"               \"specify a default value\",\n",
      "\u001b[1;32m<ipython-input-61-01a3c4782053>\u001b[0m in \u001b[0;36mf1\u001b[1;34m()\u001b[0m\n\u001b[0;32m      3\u001b[0m \u001b[1;33m\u001b[0m\u001b[0m\n\u001b[0;32m      4\u001b[0m \u001b[1;32mdef\u001b[0m \u001b[0mf1\u001b[0m\u001b[1;33m(\u001b[0m\u001b[1;33m)\u001b[0m\u001b[1;33m:\u001b[0m\u001b[1;33m\u001b[0m\u001b[0m\n\u001b[1;32m----> 5\u001b[1;33m     \u001b[0mmanimals\u001b[0m\u001b[1;33m[\u001b[0m\u001b[1;34m\"puma\"\u001b[0m\u001b[1;33m]\u001b[0m\u001b[1;33m\u001b[0m\u001b[0m\n\u001b[0m\u001b[0;32m      6\u001b[0m \u001b[1;33m\u001b[0m\u001b[0m\n\u001b[0;32m      7\u001b[0m \u001b[0mexception_safe_fun\u001b[0m\u001b[1;33m(\u001b[0m\u001b[0mf0\u001b[0m\u001b[1;33m)\u001b[0m\u001b[1;33m\u001b[0m\u001b[0m\n",
      "\u001b[1;31mNameError\u001b[0m: name 'manimals' is not defined"
     ]
    }
   ],
   "source": [
    "def f0():\n",
    "    animals[\"puma\"]\n",
    "    \n",
    "def f1():\n",
    "    manimals[\"puma\"]\n",
    "    \n",
    "exception_safe_fun(f0)\n",
    "print(\"-\"*80)\n",
    "exception_safe_fun(f1)"
   ]
  },
  {
   "cell_type": "markdown",
   "metadata": {
    "slideshow": {
     "slide_type": "subslide"
    }
   },
   "source": [
    "### Appending to `dict`s"
   ]
  },
  {
   "cell_type": "code",
   "execution_count": 14,
   "metadata": {
    "collapsed": false,
    "nbpresent": {
     "id": "d31e370e-1d2d-4bbb-816a-a692e1ce01a5"
    },
    "slideshow": {
     "slide_type": "subslide"
    }
   },
   "outputs": [
    {
     "name": "stdout",
     "output_type": "stream",
     "text": [
      "The updated dict: {'badger': 99, 'wolverine': 100, 'puma': 85} \n",
      "\n"
     ]
    }
   ],
   "source": [
    "animals.update({\"puma\": 85})\n",
    "print(\"The updated dict:\", animals, \"\\n\")"
   ]
  },
  {
   "cell_type": "code",
   "execution_count": 15,
   "metadata": {
    "collapsed": false,
    "nbpresent": {
     "id": "0cec4ba9-a0ba-48f6-b631-0609ddf9de29"
    },
    "slideshow": {
     "slide_type": "subslide"
    }
   },
   "outputs": [
    {
     "name": "stdout",
     "output_type": "stream",
     "text": [
      "I can iterate over dicts as key, value pairs:\n",
      "The badger has ferocity 99\n",
      "The wolverine has ferocity 100\n",
      "The puma has ferocity 85\n"
     ]
    }
   ],
   "source": [
    "print(\"I can iterate over dicts as key, value pairs:\")\n",
    "for k, v in animals.items():\n",
    "    print(\"The %s has ferocity %d\" % (k, v))"
   ]
  },
  {
   "cell_type": "markdown",
   "metadata": {
    "nbpresent": {
     "id": "a81338a9-9cc8-4af0-98a9-92a2a9476cfd"
    },
    "slideshow": {
     "slide_type": "subslide"
    }
   },
   "source": [
    "### `set`s and `dict`s are unique"
   ]
  },
  {
   "cell_type": "code",
   "execution_count": 16,
   "metadata": {
    "collapsed": false,
    "nbpresent": {
     "id": "0bee224a-3712-4df3-b3d1-3628558c6bac"
    },
    "slideshow": {
     "slide_type": "subslide"
    }
   },
   "outputs": [
    {
     "name": "stdout",
     "output_type": "stream",
     "text": [
      "[0, 1, 2, 0, 1, 2, 0, 1, 2, 0]\n",
      "{0, 1, 2}\n"
     ]
    }
   ],
   "source": [
    "foo = [i % 3 for i in range(10)]\n",
    "print(foo)\n",
    "print(set(foo))"
   ]
  },
  {
   "cell_type": "code",
   "execution_count": 12,
   "metadata": {
    "collapsed": false,
    "nbpresent": {
     "id": "e87ab137-2ab7-45d6-a2c0-bdaac8867c40"
    },
    "slideshow": {
     "slide_type": "subslide"
    }
   },
   "outputs": [
    {
     "name": "stdout",
     "output_type": "stream",
     "text": [
      "[0, 1, 2, 0, 1, 2, 0, 1, 2, 0]\n",
      "{0, 1, 2}\n",
      "{'c': 5, 'b': 2, 'a': 1}\n"
     ]
    }
   ],
   "source": [
    "bar = dict(a=1, b=2, c=3)\n",
    "bar.update({\"c\":5})\n",
    "print(bar)"
   ]
  },
  {
   "cell_type": "markdown",
   "metadata": {
    "nbpresent": {
     "id": "fb84332a-4540-47ee-ab0a-e92a09d77bb9"
    },
    "slideshow": {
     "slide_type": "slide"
    }
   },
   "source": [
    "## A note on Python2 v. Python3\n",
    "\n",
    "1. If you have the choice, use Python3\n",
    "1. Python2 code can be transformed to Python3 code before integration into a project\n",
    "1. Gotchas: \n",
    "    * `print something` v. `print(something)`\n",
    "    * integer division v. floating point division\n",
    "    * etc.\n",
    "1. To avoid gotchas, use `from __future__ import `...:\n",
    "    * `from __future__ import print_function`\n",
    "    * `from __future__ import division`\n",
    "   "
   ]
  },
  {
   "cell_type": "markdown",
   "metadata": {
    "slideshow": {
     "slide_type": "slide"
    }
   },
   "source": [
    "## Python versions on the cluster\n",
    "\n",
    "Note that `%%sh` is a Jupyter notebook *magic* command which invokes a shell environment. You will want to run this from a terminal session logged into the cluster as usual."
   ]
  },
  {
   "cell_type": "code",
   "execution_count": 1,
   "metadata": {
    "collapsed": false,
    "slideshow": {
     "slide_type": "-"
    }
   },
   "outputs": [
    {
     "name": "stdout",
     "output_type": "stream",
     "text": [
      "                        python   Python (2.7.2)\n",
      "                       python2   Python (2.7.2)\n",
      "                  python2.7.12   Python (2.7.12)\n",
      "                   python2.7.4   Python (2.7.4)\n",
      "                   python2.7.8   Python (2.7.8)\n",
      "           python2.7.8_intel14   Python (2.7.8, Intel-compiled + Intel MKL)\n",
      "                       python3   Python (3.2.2)\n",
      "                   python3.4.2   Python (3.4.2)\n",
      "                   python_xnat   python_xnat for NI research (2.7.3)\n"
     ]
    }
   ],
   "source": [
    "%%sh\n",
    "pkginfo | grep python | grep -v boost"
   ]
  },
  {
   "cell_type": "markdown",
   "metadata": {
    "slideshow": {
     "slide_type": "subslide"
    }
   },
   "source": [
    "### Using a Python version"
   ]
  },
  {
   "cell_type": "markdown",
   "metadata": {
    "slideshow": {
     "slide_type": "-"
    }
   },
   "source": [
    "```accre\n",
    "[fido@vmps11 ~]$ which python\n",
    "    /usr/local/bin/python\n",
    "```\n",
    "### Please dont' use this version!!!!!!!!!!!"
   ]
  },
  {
   "cell_type": "markdown",
   "metadata": {
    "slideshow": {
     "slide_type": "-"
    }
   },
   "source": [
    "```accre\n",
    "[fido@vmps11 ~]$ setpkgs -a python3.4.2\n",
    "[fido@vmps11 ~]$ which python\n",
    "    /usr/local/python3/3.4.2/x86_64/gcc46/nonet/bin/python\n",
    "```"
   ]
  },
  {
   "cell_type": "markdown",
   "metadata": {
    "collapsed": false,
    "slideshow": {
     "slide_type": "-"
    }
   },
   "source": [
    "```accre\n",
    "[fido@vmps11 ~]$ which python\n",
    "    /usr/local/bin/python\n",
    "[fido@vmps11 ~]$ setpkgs -a python3.4.2\n",
    "[fido@vmps11 ~]$ which python\n",
    "    /usr/local/python3/3.4.2/x86_64/gcc46/nonet/bin/python\n",
    "```"
   ]
  },
  {
   "cell_type": "markdown",
   "metadata": {
    "slideshow": {
     "slide_type": "subslide"
    }
   },
   "source": [
    "### Which Python packages are available to me?\n",
    "Use `pip list` (**P**ip **I**nstalls **P**ackages)"
   ]
  },
  {
   "cell_type": "markdown",
   "metadata": {
    "slideshow": {
     "slide_type": "-"
    }
   },
   "source": [
    "```accre\n",
    "[fido@vmps11 ~]$ which pip\n",
    "    /usr/local/python3/3.4.2/x86_64/gcc46/nonet/bin/pip\n",
    "[fido@vmps11 ~]$ pip list\n",
    "    biopython (1.65)\n",
    "    certifi (14.05.14)\n",
    "    Cython (0.21.2)\n",
    "    decorator (4.0.2)\n",
    "    docutils (0.12)\n",
    "    ipykernel (4.0.3)\n",
    "    ipython (2.3.1)\n",
    "    ipython-genutils (0.1.0)\n",
    "    ipywidgets (4.0.2)\n",
    "    Jinja2 (2.7.3)\n",
    "    jsonschema (2.5.1)\n",
    "    jupyter (1.0.0)\n",
    "    jupyter-client (4.0.0)\n",
    "    jupyter-console (4.0.0)\n",
    "    jupyter-core (4.0.3)\n",
    "    MarkupSafe (0.23)\n",
    "    virtualenv (13.1.2)\n",
    "```"
   ]
  },
  {
   "cell_type": "markdown",
   "metadata": {
    "collapsed": false,
    "slideshow": {
     "slide_type": "subslide"
    }
   },
   "source": [
    "```accre\n",
    "[fido@vmps11 ~]$ pip list | grep numpy\n",
    "    numpy (1.9.1)\n",
    "```"
   ]
  },
  {
   "cell_type": "markdown",
   "metadata": {},
   "source": [
    "### What if the library I want isn't installed?"
   ]
  },
  {
   "cell_type": "markdown",
   "metadata": {
    "slideshow": {
     "slide_type": "subslide"
    }
   },
   "source": [
    "#### An anti-example:"
   ]
  },
  {
   "cell_type": "code",
   "execution_count": 24,
   "metadata": {
    "collapsed": false,
    "slideshow": {
     "slide_type": "-"
    }
   },
   "outputs": [
    {
     "name": "stdout",
     "output_type": "stream",
     "text": [
      "[fido@vmps11 ~]$ pip install requests\n",
      "Downloading/unpacking requests\n",
      "  Downloading requests-2.11.1-py2.py3-none-any.whl (514kB): 514kB downloaded\n",
      "Installing collected packages: requests\n",
      "Cleaning up...\n",
      "Exception:\n",
      "Traceback (most recent call last):\n",
      "  File \"/usr/local/python3/3.4.2/x86_64/gcc46/nonet/lib/python3.4/site-packages/pip/basecommand.py\", line 122, in main\n",
      "    status = self.run(options, args)\n",
      "  File \"/usr/local/python3/3.4.2/x86_64/gcc46/nonet/lib/python3.4/site-packages/pip/commands/install.py\", line 283, in run\n",
      "    requirement_set.install(install_options, global_options, root=options.root_path)\n",
      "  File \"/usr/local/python3/3.4.2/x86_64/gcc46/nonet/lib/python3.4/site-packages/pip/req.py\", line 1435, in install\n",
      "    requirement.install(install_options, global_options, *args, **kwargs)\n",
      "  File \"/usr/local/python3/3.4.2/x86_64/gcc46/nonet/lib/python3.4/site-packages/pip/req.py\", line 671, in install\n",
      "    self.move_wheel_files(self.source_dir, root=root)\n",
      "  File \"/usr/local/python3/3.4.2/x86_64/gcc46/nonet/lib/python3.4/site-packages/pip/req.py\", line 901, in move_wheel_files\n",
      "    pycompile=self.pycompile,\n",
      "  File \"/usr/local/python3/3.4.2/x86_64/gcc46/nonet/lib/python3.4/site-packages/pip/wheel.py\", line 215, in move_wheel_files\n",
      "    clobber(source, lib_dir, True)\n",
      "  File \"/usr/local/python3/3.4.2/x86_64/gcc46/nonet/lib/python3.4/site-packages/pip/wheel.py\", line 205, in clobber\n",
      "    os.makedirs(destdir)\n",
      "  File \"/usr/local/python3/3.4.2/x86_64/gcc46/nonet/lib/python3.4/os.py\", line 237, in makedirs\n",
      "    mkdir(name, mode)\n",
      "PermissionError: [Errno 13] Permission denied: '/usr/local/python3/3.4.2/x86_64/gcc46/nonet/lib/python3.4/site-packages/requests'\n",
      "\n",
      "Storing debug log for failure in /home/fido/.pip/pip.log\n"
     ]
    }
   ],
   "source": [
    "%%sh\n",
    "cat texts/pip_install.txt"
   ]
  },
  {
   "cell_type": "markdown",
   "metadata": {
    "slideshow": {
     "slide_type": "subslide"
    }
   },
   "source": [
    "*Cluster users don't have write access to* `usr/local/python*`"
   ]
  },
  {
   "cell_type": "code",
   "execution_count": 32,
   "metadata": {
    "collapsed": false,
    "slideshow": {
     "slide_type": "subslide"
    }
   },
   "outputs": [
    {
     "name": "stdout",
     "output_type": "stream",
     "text": [
      "/usr/local/python:\n",
      "total 4\n",
      "drwxr-xr-x. 4 root root 512 Apr 11  2016 2.7.11\n",
      "lrwxrwxrwx  1 root root  17 Mar 12  2012 latest -> ../python2/2.7.2/\n",
      "\n",
      "/usr/local/python2:\n",
      "total 542656\n",
      "drwxr-xr-x   3 root root      2048 Jun 12  2012 2.5.1\n",
      "drwxr-xr-x.  3 root root       512 Jul 19 13:46 2.7.12\n",
      "drwxr-xr-x   3 root root      2048 Oct 20  2011 2.7.2\n",
      "drwxr-xr-x   3 root root      2048 Apr 12  2013 2.7.4\n",
      "drwxr-xr-x   3 root root       512 Jan  8  2015 2.7.8\n",
      "drwxr-xr-x. 19 root root      2048 Oct 12 17:47 anaconda2\n",
      "-rw-r--r--.  1 root root 277827702 Dec  8  2015 Anaconda2-2.4.1-Linux-x86_64.sh\n",
      "lrwxrwxrwx   1 root root         6 Feb 26  2012 latest -> 2.7.2/\n",
      "\n",
      "/usr/local/python3:\n",
      "total 554304\n",
      "drwxr-xr-x   3 root root      2048 Oct 20  2011 3.2.2\n",
      "drwxr-xr-x   3 root root       512 Jan 28  2015 3.4.2\n",
      "drwxr-xr-x. 16 root root      2048 Oct 28 16:31 anaconda3\n",
      "-rw-r--r--.  1 root root 283797156 Dec  8  2015 Anaconda3-2.4.1-Linux-x86_64.sh\n",
      "lrwxrwxrwx   1 root root         6 Feb 27  2012 latest -> 3.2.2/\n",
      "\n",
      "/usr/local/python_xnat:\n",
      "total 8\n",
      "drwxr-xr-x 3 root root 2048 Dec 13  2012 1.0\n",
      "lrwxrwxrwx 1 root root    3 Dec 13  2012 latest -> 1.0\n"
     ]
    },
    {
     "name": "stderr",
     "output_type": "stream",
     "text": [
      "ls: cannot open directory /usr/local/python-modules: Permission denied\n"
     ]
    }
   ],
   "source": [
    "%%sh\n",
    "ls -l /usr/local/python*"
   ]
  },
  {
   "cell_type": "markdown",
   "metadata": {
    "slideshow": {
     "slide_type": "slide"
    }
   },
   "source": [
    "## Virtual Environments"
   ]
  },
  {
   "cell_type": "markdown",
   "metadata": {
    "slideshow": {
     "slide_type": "subslide"
    }
   },
   "source": [
    "### What is a virtual environment?\n",
    "1. a means of keeping the dependencies required by different projects in separate places\n",
    "1. solves the “Project X depends on version 1.x but, Project Y needs 4.x” dilemma\n",
    "1. owned by the user"
   ]
  },
  {
   "cell_type": "markdown",
   "metadata": {
    "slideshow": {
     "slide_type": "subslide"
    }
   },
   "source": [
    "### How do I use virtual environments?"
   ]
  },
  {
   "cell_type": "markdown",
   "metadata": {
    "collapsed": false,
    "slideshow": {
     "slide_type": "-"
    }
   },
   "source": [
    "```accre\n",
    "[fido@vmps11 ~]$ pip list | grep virtual\n",
    "    virtualenv (13.1.2)\n",
    "[fido@vmps11 ~]$ mkdir foo ; cd foo\n",
    "[fido@vmps11 foo]$ virtualenv venv\n",
    "    Using base prefix '/usr/local/python3/3.4.2/x86_64/gcc46/nonet'\n",
    "    New python executable in venv/bin/python3.4\n",
    "    Also creating executable in venv/bin/python\n",
    "    Installing setuptools, pip, wheel...done.\n",
    "[fido@vmps11 foo]$ ls\n",
    "    venv\n",
    "[fido@vmps11 foo]$ which python\n",
    "    /usr/local/python3/3.4.2/x86_64/gcc46/nonet/bin/python\n",
    "```"
   ]
  },
  {
   "cell_type": "markdown",
   "metadata": {
    "collapsed": false,
    "slideshow": {
     "slide_type": "subslide"
    }
   },
   "source": [
    "```accre\n",
    "[fido@vmps11 foo]$ ls venv/bin/\n",
    "    activate      activate.fish     easy_install      pip   pip3.4  python3    wheel\n",
    "    activate.csh  activate_this.py  easy_install-3.4  pip3  python  python3.4\n",
    "[fido@vmps11 foo]$ source venv/bin/activate\n",
    "(venv)[fido@vmps11 foo]$ which python\n",
    "    /gpfs22/home/fido/foo/venv/bin/python\n",
    "```"
   ]
  },
  {
   "cell_type": "markdown",
   "metadata": {
    "collapsed": false,
    "slideshow": {
     "slide_type": "subslide"
    }
   },
   "source": [
    "```accre\n",
    "(venv)[fido@vmps11 foo]$ which pip\n",
    "    /gpfs22/home/fido/foo/venv/bin/pip\n",
    "(venv)[fido@vmps11 foo]$ pip list\n",
    "    pip (7.1.2)\n",
    "    setuptools (18.2)\n",
    "    wheel (0.24.0)\n",
    "```"
   ]
  },
  {
   "cell_type": "markdown",
   "metadata": {
    "collapsed": false,
    "slideshow": {
     "slide_type": "subslide"
    }
   },
   "source": [
    "```accre\n",
    "(venv)[fido@vmps11 foo]$ pip install requests\n",
    "    Collecting requests\n",
    "      Downloading requests-2.11.1-py2.py3-none-any.whl (514kB)\n",
    "        100% |████████████████████████████████| 516kB 453kB/s \n",
    "    Installing collected packages: requests\n",
    "    Successfully installed requests-2.11.1\n",
    "(venv)[fido@vmps11 foo]$ pip list\n",
    "    pip (7.1.2)\n",
    "    requests (2.11.1)\n",
    "    setuptools (18.2)\n",
    "    wheel (0.24.0)\n",
    "```"
   ]
  },
  {
   "cell_type": "markdown",
   "metadata": {
    "slideshow": {
     "slide_type": "subslide"
    }
   },
   "source": [
    "### To deactivate a virtual environment\n",
    "\n",
    "```accre\n",
    "(venv)[fido@vmps11 foo]$ deactivate\n",
    "[fido@vmps11 foo]$ \n",
    "```\n"
   ]
  },
  {
   "cell_type": "markdown",
   "metadata": {
    "nbpresent": {
     "id": "51598786-56e1-4b85-8b4f-23b8241301ab"
    },
    "slideshow": {
     "slide_type": "slide"
    }
   },
   "source": [
    "## Anaconda"
   ]
  },
  {
   "cell_type": "markdown",
   "metadata": {
    "nbpresent": {
     "id": "83beda93-f02b-4b5a-a1b2-7896e47b9e3d"
    },
    "slideshow": {
     "slide_type": "subslide"
    }
   },
   "source": [
    "### What is Anaconda?\n",
    "1. package manager -> import code from others (don't reinvent the wheel)\n",
    "1. environment manager -> isolate projects and their **dependencies**\n",
    "1. Python distribution\n",
    "1. collection of over 720 open source packages with free community support\n",
    "1. platform-agnostic (Windows, OS X and Linux)\n",
    "1. free!"
   ]
  },
  {
   "cell_type": "markdown",
   "metadata": {
    "slideshow": {
     "slide_type": "subslide"
    }
   },
   "source": [
    "### Why should I use Anaconda?\n",
    "1. Anaconda combines the functionality of `pip` and `virtualenv`\n",
    "1. Can create any available version of Python in its own environment!\n",
    "1. Allows installation of any package and resolves depencies automatically!!\n"
   ]
  },
  {
   "cell_type": "markdown",
   "metadata": {
    "nbpresent": {
     "id": "58efdd1d-a6fa-48f5-8500-725bb8d0b10d"
    },
    "slideshow": {
     "slide_type": "subslide"
    }
   },
   "source": [
    "### How do I use Anaconda on the cluster?\n",
    "\n",
    "1. Initial Setup\n",
    "    1. Set the anaconda ACCRE package \n",
    "    1. Create a conda virtual environment and source it\n",
    "    1. Install additional dependencies via `conda` (preferred) or `pip`\n",
    "1. Using with SLURM\n",
    "    1. Set the anaconda ACCRE package\n",
    "    1. Source the (existing) conda environment\n",
    "    1. Execute Python code"
   ]
  },
  {
   "cell_type": "code",
   "execution_count": 45,
   "metadata": {
    "collapsed": false,
    "slideshow": {
     "slide_type": "subslide"
    }
   },
   "outputs": [
    {
     "name": "stdout",
     "output_type": "stream",
     "text": [
      "                     anaconda2   Anaconda2 Python (2.7.8)\n",
      "                     anaconda3   Anaconda3 Python (3.5.1)\n"
     ]
    }
   ],
   "source": [
    "%%sh\n",
    "pkginfo | grep conda"
   ]
  },
  {
   "cell_type": "markdown",
   "metadata": {
    "slideshow": {
     "slide_type": "-"
    }
   },
   "source": [
    "*Note that Anaconda3 can run Python2 versions.*"
   ]
  },
  {
   "cell_type": "markdown",
   "metadata": {
    "nbpresent": {
     "id": "5238d6bf-ecb8-418e-b00e-575646df4ce7"
    },
    "slideshow": {
     "slide_type": "subslide"
    }
   },
   "source": [
    "### Conda environment initial setup"
   ]
  },
  {
   "cell_type": "code",
   "execution_count": 41,
   "metadata": {
    "collapsed": false,
    "nbpresent": {
     "id": "281a66fb-5662-473e-a783-c612c5d7c50b"
    },
    "slideshow": {
     "slide_type": "-"
    }
   },
   "outputs": [
    {
     "name": "stdout",
     "output_type": "stream",
     "text": [
      "conda 4.2.11\n",
      "# conda environments:\n",
      "#\n",
      "intro2python_env         /home/arnoldjr/.conda/envs/intro2python_env\n",
      "ipyparallel_env          /home/arnoldjr/.conda/envs/ipyparallel_env\n",
      "lasagne_env              /home/arnoldjr/.conda/envs/lasagne_env\n",
      "mpi4py_env               /home/arnoldjr/.conda/envs/mpi4py_env\n",
      "multi-gpu                /home/arnoldjr/.conda/envs/multi-gpu\n",
      "my_root                  /home/arnoldjr/.conda/envs/my_root\n",
      "myenvironment            /home/arnoldjr/.conda/envs/myenvironment\n",
      "nb_conda_kernels         /home/arnoldjr/.conda/envs/nb_conda_kernels\n",
      "neural_nets              /home/arnoldjr/.conda/envs/neural_nets\n",
      "pycuda                   /home/arnoldjr/.conda/envs/pycuda\n",
      "tensorflow               /home/arnoldjr/.conda/envs/tensorflow\n",
      "test_github              /home/arnoldjr/.conda/envs/test_github\n",
      "theano_env               /home/arnoldjr/.conda/envs/theano_env\n",
      "theano_nomkl             /home/arnoldjr/.conda/envs/theano_nomkl\n",
      "threading_env            /home/arnoldjr/.conda/envs/threading_env\n",
      "root                  *  /usr/local/python3/anaconda3\n",
      "\n"
     ]
    }
   ],
   "source": [
    "%%sh\n",
    "setpkgs -a anaconda3\n",
    "conda -V\n",
    "conda info -e"
   ]
  },
  {
   "cell_type": "markdown",
   "metadata": {
    "slideshow": {
     "slide_type": "subslide"
    }
   },
   "source": [
    "## Conda environment creation"
   ]
  },
  {
   "cell_type": "code",
   "execution_count": 42,
   "metadata": {
    "collapsed": false,
    "slideshow": {
     "slide_type": "-"
    }
   },
   "outputs": [
    {
     "name": "stdout",
     "output_type": "stream",
     "text": [
      "Fetching package metadata .......\n",
      "Solving package specifications: ..........\n",
      "\n",
      "Package plan for installation in environment /home/arnoldjr/.conda/envs/bar:\n",
      "\n",
      "The following NEW packages will be INSTALLED:\n",
      "\n",
      "    openssl:    1.0.2j-0     \n",
      "    pip:        8.1.2-py34_0 \n",
      "    python:     3.4.5-0      \n",
      "    readline:   6.2-2        \n",
      "    requests:   2.11.1-py34_0\n",
      "    setuptools: 27.2.0-py34_0\n",
      "    sqlite:     3.13.0-0     \n",
      "    tk:         8.5.18-0     \n",
      "    wheel:      0.29.0-py34_0\n",
      "    xz:         5.2.2-0      \n",
      "    zlib:       1.2.8-3      \n",
      "\n",
      "Proceed ([y]/n)? \n",
      "Linking packages ...\n",
      "[                    ]|                                                     |   0%\r",
      "[openssl             ]|                                                     |   0%\r",
      "[readline            ]|####                                                 |   9%\r",
      "[sqlite              ]|#########                                            |  18%\r",
      "[tk                  ]|##############                                       |  27%\r",
      "[xz                  ]|###################                                  |  36%\r",
      "[zlib                ]|########################                             |  45%\r",
      "[python              ]|############################                         |  54%\r",
      "[requests            ]|#################################                    |  63%\r",
      "[setuptools          ]|######################################               |  72%\r",
      "[wheel               ]|###########################################          |  81%\r",
      "[pip                 ]|################################################     |  90%\r",
      "[      COMPLETE      ]|#####################################################| 100%\r\n",
      "#\n",
      "# To activate this environment, use:\n",
      "# > source activate bar\n",
      "#\n",
      "# To deactivate this environment, use:\n",
      "# > source deactivate bar\n",
      "#\n",
      "\n"
     ]
    },
    {
     "name": "stderr",
     "output_type": "stream",
     "text": [
      "WARNING conda.lock:touch(53): Failed to create lock, do not run conda in parallel processes [errno 13]\n",
      "WARNING conda.lock:touch(53): Failed to create lock, do not run conda in parallel processes [errno 13]\n"
     ]
    }
   ],
   "source": [
    "%%sh\n",
    "conda create -n bar python=3.4 requests"
   ]
  },
  {
   "cell_type": "code",
   "execution_count": 43,
   "metadata": {
    "collapsed": false,
    "slideshow": {
     "slide_type": "subslide"
    }
   },
   "outputs": [
    {
     "name": "stdout",
     "output_type": "stream",
     "text": [
      "# conda environments:\n",
      "#\n",
      "bar                      /home/arnoldjr/.conda/envs/bar\n",
      "intro2python_env         /home/arnoldjr/.conda/envs/intro2python_env\n",
      "ipyparallel_env          /home/arnoldjr/.conda/envs/ipyparallel_env\n",
      "lasagne_env              /home/arnoldjr/.conda/envs/lasagne_env\n",
      "mpi4py_env               /home/arnoldjr/.conda/envs/mpi4py_env\n",
      "multi-gpu                /home/arnoldjr/.conda/envs/multi-gpu\n",
      "my_root                  /home/arnoldjr/.conda/envs/my_root\n",
      "myenvironment            /home/arnoldjr/.conda/envs/myenvironment\n",
      "nb_conda_kernels         /home/arnoldjr/.conda/envs/nb_conda_kernels\n",
      "neural_nets              /home/arnoldjr/.conda/envs/neural_nets\n",
      "pycuda                   /home/arnoldjr/.conda/envs/pycuda\n",
      "tensorflow               /home/arnoldjr/.conda/envs/tensorflow\n",
      "test_github              /home/arnoldjr/.conda/envs/test_github\n",
      "theano_env               /home/arnoldjr/.conda/envs/theano_env\n",
      "theano_nomkl             /home/arnoldjr/.conda/envs/theano_nomkl\n",
      "threading_env            /home/arnoldjr/.conda/envs/threading_env\n",
      "root                  *  /usr/local/python3/anaconda3\n",
      "\n"
     ]
    }
   ],
   "source": [
    "%%sh \n",
    "conda info -e"
   ]
  },
  {
   "cell_type": "markdown",
   "metadata": {
    "slideshow": {
     "slide_type": "subslide"
    }
   },
   "source": [
    "## List installed packages"
   ]
  },
  {
   "cell_type": "code",
   "execution_count": 44,
   "metadata": {
    "collapsed": false,
    "slideshow": {
     "slide_type": "-"
    }
   },
   "outputs": [
    {
     "name": "stdout",
     "output_type": "stream",
     "text": [
      "# packages in environment at /home/arnoldjr/.conda/envs/bar:\n",
      "#\n",
      "openssl                   1.0.2j                        0  \n",
      "pip                       8.1.2                    py34_0  \n",
      "python                    3.4.5                         0  \n",
      "readline                  6.2                           2  \n",
      "requests                  2.11.1                   py34_0  \n",
      "setuptools                27.2.0                   py34_0  \n",
      "sqlite                    3.13.0                        0  \n",
      "tk                        8.5.18                        0  \n",
      "wheel                     0.29.0                   py34_0  \n",
      "xz                        5.2.2                         0  \n",
      "zlib                      1.2.8                         3  \n"
     ]
    }
   ],
   "source": [
    "%%sh\n",
    "conda list -n bar"
   ]
  },
  {
   "cell_type": "markdown",
   "metadata": {
    "nbpresent": {
     "id": "3da36cf5-f674-416a-9ea4-d92ecae7cf0e"
    },
    "slideshow": {
     "slide_type": "subslide"
    }
   },
   "source": [
    "## Conda environments must be activated\n",
    "\n",
    "Use `source activate <conda_env>`"
   ]
  },
  {
   "cell_type": "markdown",
   "metadata": {
    "collapsed": false,
    "slideshow": {
     "slide_type": "subslide"
    }
   },
   "source": [
    "```accre\n",
    "[fido@vmps11 ~]$ setpkgs -a anaconda3\n",
    "[fido@vmps11 ~]$ source activate bar\n",
    "(bar) [fido@vmps11 ~]$\n",
    "```"
   ]
  },
  {
   "cell_type": "markdown",
   "metadata": {
    "nbpresent": {
     "id": "284d7601-c22a-41f0-970f-d3b64c9a14be"
    },
    "slideshow": {
     "slide_type": "subslide"
    }
   },
   "source": [
    "## Search for available packages"
   ]
  },
  {
   "cell_type": "code",
   "execution_count": 48,
   "metadata": {
    "collapsed": false,
    "nbpresent": {
     "id": "a267e533-50b0-4bf3-b17d-0d5733788839"
    },
    "slideshow": {
     "slide_type": "-"
    }
   },
   "outputs": [
    {
     "name": "stdout",
     "output_type": "stream",
     "text": [
      "Fetching package metadata .......\n",
      "beautifulsoup4               4.4.0                    py27_0  defaults        \n",
      "                             4.4.0                    py34_0  defaults        \n",
      "                             4.4.0                    py35_0  defaults        \n",
      "                             4.4.1                    py27_0  defaults        \n",
      "                             4.4.1                    py34_0  defaults        \n",
      "                          *  4.4.1                    py35_0  defaults        \n",
      "                          .  4.5.1                    py27_0  defaults        \n",
      "                          .  4.5.1                    py34_0  defaults        \n",
      "                          .  4.5.1                    py35_0  defaults        \n"
     ]
    }
   ],
   "source": [
    "%%sh\n",
    "conda search beautifulsoup"
   ]
  },
  {
   "cell_type": "markdown",
   "metadata": {
    "nbpresent": {
     "id": "ff0e6958-a4b6-4859-a6dc-8f7fe38edeee"
    },
    "slideshow": {
     "slide_type": "subslide"
    }
   },
   "source": [
    "## Install a package (into a *specific* environment)"
   ]
  },
  {
   "cell_type": "code",
   "execution_count": 50,
   "metadata": {
    "collapsed": false,
    "nbpresent": {
     "id": "129a831e-262d-4939-9f95-c612374f03bf"
    },
    "slideshow": {
     "slide_type": "-"
    }
   },
   "outputs": [
    {
     "name": "stdout",
     "output_type": "stream",
     "text": [
      "Fetching package metadata .......\n",
      "Solving package specifications: ..........\n",
      "\n",
      "Package plan for installation in environment /home/arnoldjr/.conda/envs/bar:\n",
      "\n",
      "The following NEW packages will be INSTALLED:\n",
      "\n",
      "    beautifulsoup4: 4.5.1-py34_0\n",
      "\n",
      "Proceed ([y]/n)? \n",
      "Linking packages ...\n",
      "[                    ]|                                                     |   0%\r",
      "[beautifulsoup4      ]|                                                     |   0%\r",
      "[      COMPLETE      ]|#####################################################| 100%\r\n"
     ]
    }
   ],
   "source": [
    "%%sh\n",
    "conda install beautifulsoup4 -n bar"
   ]
  },
  {
   "cell_type": "markdown",
   "metadata": {
    "nbpresent": {
     "id": "c7a9e929-6433-4bec-b600-ba53f972304a"
    },
    "slideshow": {
     "slide_type": "subslide"
    }
   },
   "source": [
    "## Conda environments should be deactivated"
   ]
  },
  {
   "cell_type": "markdown",
   "metadata": {
    "collapsed": false,
    "slideshow": {
     "slide_type": "-"
    }
   },
   "source": [
    "```accre\n",
    "(bar) [fido@vmps11 ~]$ source deactivate\n",
    "[fido@vmps11 ~]$ \n",
    "```"
   ]
  },
  {
   "cell_type": "markdown",
   "metadata": {
    "nbpresent": {
     "id": "0ef1a177-cd80-4d4f-99a7-a64e8261df7a"
    },
    "slideshow": {
     "slide_type": "slide"
    }
   },
   "source": [
    "## Using conda with SLURM\n",
    "\n",
    "Since all conda environments are children of `/home` they are shared across the cluster. This means that the environment only has to be created once and can be used by any node.\n",
    "\n",
    "*Avoid creating the environment within a SLURM script!!*"
   ]
  },
  {
   "cell_type": "markdown",
   "metadata": {
    "nbpresent": {
     "id": "15a4ea2f-4c90-4167-89f9-47d43d31ed35"
    },
    "slideshow": {
     "slide_type": "subslide"
    }
   },
   "source": [
    "## A typical SLURM batch script\n",
    "```bash\n",
    "#!/bin/bash\n",
    "\n",
    "#SBATCH --nodes=1\n",
    "#SBATCH --ntasks=1\n",
    "#SBATCH --time=00:10:00\n",
    "#SBATCH --mem=500M\n",
    "\n",
    "setpkgs -a anaconda3\n",
    "\n",
    "source activate bar\n",
    "\n",
    "python foo.py\n",
    "```"
   ]
  },
  {
   "cell_type": "markdown",
   "metadata": {
    "slideshow": {
     "slide_type": "slide"
    }
   },
   "source": [
    "## Project setup\n",
    "\n",
    "Loading ACCRE packages, building/activating the conda environment can be separated into tasks."
   ]
  },
  {
   "cell_type": "code",
   "execution_count": 2,
   "metadata": {
    "collapsed": false,
    "slideshow": {
     "slide_type": "subslide"
    }
   },
   "outputs": [
    {
     "name": "stdout",
     "output_type": "stream",
     "text": [
      "batch_job.slurm\n",
      "compute_pi.py\n",
      "foo15.44.36.out\n",
      "foo15.44.43.out\n",
      "helpers.py\n",
      "__init__.py\n",
      "launcher.sh\n",
      "Makefile\n",
      "pkgs.sh\n",
      "__pycache__\n",
      "README.md\n",
      "slurm-10910565.out\n",
      "source_file.sh\n"
     ]
    }
   ],
   "source": [
    "%%sh\n",
    "cd ~/accre/Python/ipyparallel/\n",
    "ls"
   ]
  },
  {
   "cell_type": "markdown",
   "metadata": {
    "slideshow": {
     "slide_type": "subslide"
    }
   },
   "source": [
    "* `pkgs.sh`: lists the shell commands for loading ACCRE packages"
   ]
  },
  {
   "cell_type": "code",
   "execution_count": 4,
   "metadata": {
    "collapsed": false,
    "slideshow": {
     "slide_type": "-"
    }
   },
   "outputs": [
    {
     "name": "stdout",
     "output_type": "stream",
     "text": [
      "setpkgs -a anaconda3\n"
     ]
    }
   ],
   "source": [
    "%%sh\n",
    "cd ~/accre/Python/ipyparallel/\n",
    "cat pkgs.sh"
   ]
  },
  {
   "cell_type": "markdown",
   "metadata": {
    "collapsed": false,
    "slideshow": {
     "slide_type": "subslide"
    }
   },
   "source": [
    "* `Makefile`: provides rules for building the conda environment, installing additional packages, testing the install, and cleaning up the environment"
   ]
  },
  {
   "cell_type": "code",
   "execution_count": 6,
   "metadata": {
    "collapsed": false,
    "slideshow": {
     "slide_type": "-"
    }
   },
   "outputs": [
    {
     "name": "stdout",
     "output_type": "stream",
     "text": [
      "SHELL := /bin/bash\n",
      "\n",
      "# Creates the new conda environment\n",
      "env: \n",
      "\tconda create -n $(MY_CONDA_ENV) python=3.5 numpy sympy ;\n",
      "\n",
      "# Installs any pip only packages\n",
      "install:\n",
      "\tpip install ipyparallel\n",
      "\n",
      "# Tests that the install proceeded correctly\n",
      "test:\n",
      "\tpython -c \"import ipyparallel\";\n",
      "\n",
      "# Removes the created environment\n",
      "clean:\n",
      "\tconda remove -n $(MY_CONDA_ENV) --all;\n"
     ]
    }
   ],
   "source": [
    "%%sh \n",
    "cd ~/accre/Python/ipyparallel/\n",
    "cat Makefile"
   ]
  },
  {
   "cell_type": "markdown",
   "metadata": {
    "slideshow": {
     "slide_type": "subslide"
    }
   },
   "source": [
    "* `source_file.sh`: sources pkgs.sh and either creates or activates conda environment"
   ]
  },
  {
   "cell_type": "code",
   "execution_count": 7,
   "metadata": {
    "collapsed": false,
    "slideshow": {
     "slide_type": "-"
    }
   },
   "outputs": [
    {
     "name": "stdout",
     "output_type": "stream",
     "text": [
      "#!/bin/bash\n",
      "\n",
      "# This file either loads or creates an appropriate conda environment \n",
      "\n",
      "\n",
      "# Checks for more than one argument and throws an error\n",
      "if [ $# -gt 1 ]; then\n",
      "    (>&2 echo \"Error: did not expect more than one argument.\")\n",
      "    (>&2 echo \"    (Got $@)\")\n",
      "    return 1\n",
      "fi\n",
      "\n",
      "# Sets a default value for the environment name if not present\n",
      "if [ -z \"$1\" ]; then\n",
      "    MY_NAME=\"ipyparallel_env\"\n",
      "else\n",
      "    MY_NAME=\"$1\"\n",
      "fi\n",
      "\n",
      "# Loads necessary ACCRE packages\n",
      "source pkgs.sh\n",
      "\n",
      "# Checks if environment name is valid and, if so, exports name\n",
      "if [[ \"$MY_NAME\" =~ ^[0-9A-Za-z_]+$ ]]; then\n",
      "    export MY_CONDA_ENV=$MY_NAME ;\n",
      "else\n",
      "    echo \"Invalid name $MY_NAME$\";\n",
      "    return 1\n",
      "fi\n",
      "\n",
      "# If the conda environment exists, then activates the environment\n",
      "# else creates the new conda environment with the Makefile\n",
      "if $(conda env list | grep -q $MY_CONDA_ENV); then\n",
      "    echo \"Found existing conda environment $MY_CONDA_ENV\" \n",
      "    source activate $MY_CONDA_ENV \n",
      "else\n",
      "    echo \"Creating conda environment $MY_CONDA_ENV\";\n",
      "    make env\n",
      "    source activate $MY_CONDA_ENV \n",
      "    make install\n",
      "    make test\n",
      "fi\n",
      "\n"
     ]
    }
   ],
   "source": [
    "%%sh\n",
    "cd ~/accre/Python/ipyparallel/\n",
    "cat source_file.sh"
   ]
  },
  {
   "cell_type": "markdown",
   "metadata": {
    "slideshow": {
     "slide_type": "subslide"
    }
   },
   "source": [
    "## Usage\n",
    "\n",
    "`source source_file.sh [my_env_name]`\n",
    "* First time, creates *my_env_name* or default\n",
    "* Subsequent times, activates the conda environment\n",
    "\n",
    "For example:\n",
    "```accre\n",
    "[fido@vmps12 ipyparallel]$ source source_file.sh \n",
    "    Found existing conda environment ipyparallel_env\n",
    "(ipyparallel_env) [fido@vmps12 ipyparallel]$ \n",
    "```"
   ]
  },
  {
   "cell_type": "markdown",
   "metadata": {
    "nbpresent": {
     "id": "16f12da8-7f55-48c5-82a0-d0e0e483cbf1"
    },
    "slideshow": {
     "slide_type": "slide"
    }
   },
   "source": [
    "## Timing code \n",
    "\n",
    "`timeit` module:\n",
    "1. in Python Standard Library\n",
    "1. used to execute code snippets "
   ]
  },
  {
   "cell_type": "code",
   "execution_count": 1,
   "metadata": {
    "collapsed": false,
    "nbpresent": {
     "id": "499f0723-a55b-4e67-8ac9-a268bbcba30b"
    },
    "slideshow": {
     "slide_type": "-"
    }
   },
   "outputs": [
    {
     "name": "stdout",
     "output_type": "stream",
     "text": [
      "native       : 2.106511s\n",
      "comprehension: 1.102827s\n",
      "numpy:         0.799985s\n"
     ]
    }
   ],
   "source": [
    "from timeit import timeit\n",
    "\n",
    "\n",
    "N = 100000\n",
    "loop_string = '''\\\n",
    "s = []\n",
    "for i in range(100):\n",
    "    s.append(i)\n",
    "sum(s)\n",
    "'''\n",
    "print(\"native       : %fs\" % timeit(loop_string, number=N))\n",
    "\n",
    "print(\"comprehension: %fs\" % timeit('sum(i for i in range(100))', number=N) )\n",
    "\n",
    "print(\"numpy:         %fs\" % timeit('numpy.arange(0,100).sum()', number=N, setup=\"import numpy\") )"
   ]
  },
  {
   "cell_type": "markdown",
   "metadata": {
    "nbpresent": {
     "id": "ff271b6e-04a1-4f57-9e87-839b64edbfda"
    },
    "slideshow": {
     "slide_type": "slide"
    }
   },
   "source": [
    "## Numpy\n",
    "\n",
    "1. Analogous to Matlab\n",
    "1. Supports **vectorization** using compiled C++ code (can be much faster)\n",
    "\n",
    "*Allows fast development with optimization of the bottlenecks*"
   ]
  },
  {
   "cell_type": "code",
   "execution_count": 30,
   "metadata": {
    "collapsed": false,
    "nbpresent": {
     "id": "577afd17-95ed-4ffe-985b-c00d94e73ccc"
    },
    "slideshow": {
     "slide_type": "subslide"
    }
   },
   "outputs": [
    {
     "data": {
      "text/plain": [
       "array([0, 1, 2, 3, 4, 5, 6, 7, 8, 9])"
      ]
     },
     "execution_count": 30,
     "metadata": {},
     "output_type": "execute_result"
    }
   ],
   "source": [
    "import numpy as np\n",
    "\n",
    "a = np.arange(10)\n",
    "a"
   ]
  },
  {
   "cell_type": "code",
   "execution_count": 27,
   "metadata": {
    "collapsed": false,
    "nbpresent": {
     "id": "b38f384d-8cdb-4943-ac1b-ee2e4f003c3c"
    },
    "slideshow": {
     "slide_type": "subslide"
    }
   },
   "outputs": [
    {
     "name": "stdout",
     "output_type": "stream",
     "text": [
      "100000 loops, best of 3: 9.44 µs per loop\n",
      "The slowest run took 11.42 times longer than the fastest. This could mean that an intermediate result is being cached.\n",
      "100000 loops, best of 3: 4.94 µs per loop\n"
     ]
    }
   ],
   "source": [
    "%timeit a = [i * i for i in range(100)]\n",
    "%timeit b = np.power(np.arange(100), 2)\n",
    "\n",
    "assert([ i * i for i in range(100)] == np.power(np.arange(100), 2).tolist())"
   ]
  },
  {
   "cell_type": "markdown",
   "metadata": {
    "nbpresent": {
     "id": "ff370152-6c03-4aad-ab19-23343984e452"
    },
    "slideshow": {
     "slide_type": "slide"
    }
   },
   "source": [
    "## Multi-threaded jobs\n",
    "\n",
    "* Execute on single node across multiple cores\n",
    "* Memory is shared across all threads\n",
    "      #SBATCH --nodes=1\n",
    "      #SBATCH --tasks-per-node=1\n",
    "      #SBATCH --cpus-per-task=8\n",
    "* Supported by the `threading` module (also `multiprocessing`)"
   ]
  },
  {
   "cell_type": "code",
   "execution_count": 19,
   "metadata": {
    "collapsed": false,
    "nbpresent": {
     "id": "c2406a95-e300-48ee-ba57-5ec7080268ed"
    },
    "slideshow": {
     "slide_type": "subslide"
    }
   },
   "outputs": [],
   "source": [
    "import threading\n",
    "import numpy as np\n",
    "from random import random\n",
    "import timeit"
   ]
  },
  {
   "cell_type": "code",
   "execution_count": 18,
   "metadata": {
    "collapsed": true,
    "nbpresent": {
     "id": "1fbc84ba-f9f7-4c9d-a0a6-2eac627c4ea3"
    },
    "slideshow": {
     "slide_type": "subslide"
    }
   },
   "outputs": [],
   "source": [
    "def worker_naive(result, index, num_elems):\n",
    "    \"\"\" thread worker function \n",
    "\n",
    "    Thread functions do not return values, so instead one or more of the\n",
    "    input arguments must be modified.\n",
    "\n",
    "    :param result: mutable array of floats\n",
    "    :param index: integer index of the result array\n",
    "    :param num_elems: number of elements to compute in this thread\n",
    "    :return None\n",
    "    \"\"\"\n",
    "\n",
    "    s = 0\n",
    "    for _ in range(num_elems):\n",
    "        a, b = (random(), random())\n",
    "        s += 4 * a * a + b * b <= 1.0\n",
    "    \n",
    "    result[index] = s"
   ]
  },
  {
   "cell_type": "code",
   "execution_count": 20,
   "metadata": {
    "collapsed": true,
    "nbpresent": {
     "id": "eeb2396d-05e3-4d07-bb31-efef642f4417"
    },
    "slideshow": {
     "slide_type": "subslide"
    }
   },
   "outputs": [],
   "source": [
    "def worker_mem_unguarded(result, index, num_elems):\n",
    "    \"\"\" thread worker function \n",
    "\n",
    "    Thread functions do not return values, so instead one or more of the\n",
    "    input arguments must be modified.\n",
    "\n",
    "    :param result: mutable array of floats\n",
    "    :param index: integer index of the result array\n",
    "    :param num_elems: number of elements to compute in this thread\n",
    "    :return None\n",
    "    \"\"\"\n",
    "\n",
    "    xy = np.random.rand(num_elems,2)  \n",
    "    result[index] = 4 * np.mean(xy[:,0] ** 2 + xy[:,1] ** 2 < 1.0)"
   ]
  },
  {
   "cell_type": "code",
   "execution_count": 21,
   "metadata": {
    "collapsed": true,
    "nbpresent": {
     "id": "571215a6-ae78-4e90-bf21-218bfe78233f"
    },
    "slideshow": {
     "slide_type": "subslide"
    }
   },
   "outputs": [],
   "source": [
    "def worker(result, index, num_elems):\n",
    "    \"\"\" worker function \"\"\"\n",
    "\n",
    "    # caps the chunksize to prevent memory overflow\n",
    "    chunksize = min(int(1e8), num_elems)\n",
    "    \n",
    "    num_chunks, remainder = divmod(num_elems, chunksize)\n",
    "    \n",
    "    chunks = [chunksize]*num_chunks + ([remainder] if remainder else [])\n",
    "\n",
    "    s = 0 \n",
    "    for chunk in chunks:\n",
    "        s += int(np.sum(np.sum(np.square(np.random.rand(chunk, 2)), axis=1) < 1.))\n",
    "\n",
    "    result[index] = 4 * s / num_elems\n",
    "\n"
   ]
  },
  {
   "cell_type": "code",
   "execution_count": 22,
   "metadata": {
    "collapsed": true,
    "nbpresent": {
     "id": "8637ede5-8011-4977-88fb-ddd5b9e4f595"
    },
    "slideshow": {
     "slide_type": "subslide"
    }
   },
   "outputs": [],
   "source": [
    "threads = []\n",
    "num_threads = 7\n",
    "N = int(num_threads * 1e8)\n",
    "\n",
    "def compute_multi():\n",
    "    r_par = np.empty(num_threads)\n",
    "\n",
    "    # Sets size of thread job\n",
    "    n_per_thread = N // num_threads\n",
    "\n",
    "    # Launches each thread with a target function\n",
    "    for i in range(num_threads):\n",
    "        t = threading.Thread(target=worker, \n",
    "                             args=(r_par, i, n_per_thread))\n",
    "        threads.append(t)\n",
    "        t.start()\n",
    "\n",
    "    # Joins the worker threads to the \"master\" thread\n",
    "    for i in range(num_threads):\n",
    "        t.join()\n",
    "\n",
    "    return r_par.mean()\n",
    "\n",
    "def compute_single():\n",
    "    r_seq = np.empty(1) \n",
    "    worker(r_seq, 0, N)\n",
    "\n",
    "    return r_seq[0]        "
   ]
  },
  {
   "cell_type": "code",
   "execution_count": 23,
   "metadata": {
    "collapsed": false,
    "nbpresent": {
     "id": "769ed38a-c1b3-4a7e-b8da-153fa65f2d05"
    },
    "slideshow": {
     "slide_type": "subslide"
    }
   },
   "outputs": [
    {
     "name": "stdout",
     "output_type": "stream",
     "text": [
      "Multi-threaded:  19.589249s\n",
      "Single-threaded: 31.637871s\n",
      "\n",
      "Speedup: 1.615063\n"
     ]
    }
   ],
   "source": [
    "n_repetitions = 3\n",
    "\n",
    "t_multi = timeit.timeit(compute_multi, number=n_repetitions)\n",
    "print(\"Multi-threaded:  %fs\" % (t_multi / n_repetitions))\n",
    "\n",
    "t_single = timeit.timeit(compute_single, number=n_repetitions)\n",
    "print(\"Single-threaded: %fs\" % (t_single / n_repetitions))\n",
    "\n",
    "print(\"\\nSpeedup: %f\" % (t_single / t_multi))"
   ]
  },
  {
   "cell_type": "markdown",
   "metadata": {
    "collapsed": true,
    "nbpresent": {
     "id": "bd684949-a2cc-4b05-80d3-bc8f4fc49ed8"
    },
    "slideshow": {
     "slide_type": "slide"
    }
   },
   "source": [
    "## Distributed Memory Jobs\n",
    "\n",
    "* Execute on multiple cores across one or more notes\n",
    "* Memory is specific to each task\n",
    "        #SBATCH --ntasks=8\n",
    "        #SBATCH --cpus-per-task=1\n",
    "* Supported by the `ipyparallel` module"
   ]
  },
  {
   "cell_type": "markdown",
   "metadata": {
    "nbpresent": {
     "id": "bea5c668-8532-45df-9bdf-0f15c244eeba"
    },
    "slideshow": {
     "slide_type": "subslide"
    }
   },
   "source": [
    "* `batch_job.slurm`: specifes the SLURM configuration and the application"
   ]
  },
  {
   "cell_type": "code",
   "execution_count": 8,
   "metadata": {
    "collapsed": false,
    "nbpresent": {
     "id": "62001240-888c-4f5e-a5a8-f7b652cde3c3"
    },
    "slideshow": {
     "slide_type": "-"
    }
   },
   "outputs": [
    {
     "name": "stdout",
     "output_type": "stream",
     "text": [
      "#!/bin/bash\n",
      "\n",
      "#SBATCH --ntasks=14\n",
      "#SBATCH --time=0-03:00:00\n",
      "#SBATCH --mem=10G\n",
      "\n",
      "# Sources the appropriate packages and conda environments\n",
      "source source_file.sh\n",
      "\n",
      "# Sets the profile and starts communication processes \n",
      "source launcher.sh\n",
      "echo Using prfile $profile\n",
      "\n",
      "# Creates output filename including timestamp\n",
      "outfile=pi_estimate$(date +%Y%m%d_%H%M%S).txt\n",
      "echo Using output file $outfile\n",
      "\n",
      "# Runs the application\n",
      "python compute_pi.py --profile ${profile} -n 1e12 -o $outfile \n"
     ]
    }
   ],
   "source": [
    "%%sh\n",
    "cd ~/accre/Python/ipyparallel/\n",
    "cat batch_job.slurm"
   ]
  },
  {
   "cell_type": "markdown",
   "metadata": {
    "nbpresent": {
     "id": "4756ea4c-06a3-4715-870a-baa84c03b1ca"
    },
    "slideshow": {
     "slide_type": "subslide"
    }
   },
   "source": [
    "* `launcher.sh`: shell script to be sourced which\n",
    "    1. creates new ipython profile specific to this job\n",
    "    1. launches a *controller* process for coordinating communication\n",
    "    1. launches the compute engines on each available task"
   ]
  },
  {
   "cell_type": "code",
   "execution_count": 9,
   "metadata": {
    "collapsed": false,
    "nbpresent": {
     "id": "7ffce477-c0ad-42c0-a810-f551f500d64f"
    },
    "slideshow": {
     "slide_type": "-"
    }
   },
   "outputs": [
    {
     "name": "stdout",
     "output_type": "stream",
     "text": [
      "#!/bin/bash\n",
      "\n",
      "profile=job_${SLURM_JOB_ID}_$(hostname)\n",
      "\n",
      "echo \"Creating profile ${profile}\"\n",
      "ipython profile create ${profile}\n",
      "\n",
      "echo \"Launching controller\"\n",
      "ipcontroller --ip=\"*\" --profile=${profile} & \n",
      "sleep 10\n",
      "\n",
      "echo \"Launching engines\"\n",
      "srun ipengine --profile=${profile} --location=$(hostname) &\n",
      "sleep 25 \n"
     ]
    }
   ],
   "source": [
    "%%sh\n",
    "cd ~/accre/Python/ipyparallel/\n",
    "cat launcher.sh"
   ]
  },
  {
   "cell_type": "markdown",
   "metadata": {
    "nbpresent": {
     "id": "b80cbd36-3da2-4c7e-8334-64b99a073d98"
    },
    "slideshow": {
     "slide_type": "subslide"
    }
   },
   "source": [
    "* `compute_pi.py`"
   ]
  },
  {
   "cell_type": "markdown",
   "metadata": {
    "nbpresent": {
     "id": "e8084b6c-1514-4e62-89c3-4d7a1412ff0c"
    },
    "slideshow": {
     "slide_type": "-"
    }
   },
   "source": [
    "```python\n",
    "import argparse\n",
    "from ipyparallel import Client\n",
    "import numpy as np\n",
    "import sympy\n",
    "from helpers import stopwatch, to_numeric\n",
    "import os\n",
    "\n",
    "PI = 3.141592653589793\n",
    "```"
   ]
  },
  {
   "cell_type": "markdown",
   "metadata": {
    "nbpresent": {
     "id": "158f86c7-f004-4804-8f38-a06e90b0c28f"
    },
    "slideshow": {
     "slide_type": "subslide"
    }
   },
   "source": [
    "```python\n",
    "\n",
    "def worker_fun_1(n=1000):\n",
    "  \"\"\" worker function \"\"\"\n",
    "  from random import random\n",
    "  s = 0\n",
    "  for i in range(n):\n",
    "    if random() ** 2 + random() ** 2 <= 1:\n",
    "      s += 1\n",
    "  \n",
    "  return s \n",
    "```"
   ]
  },
  {
   "cell_type": "markdown",
   "metadata": {
    "nbpresent": {
     "id": "8d644479-c6e5-41ec-bf84-66df900abd16"
    },
    "slideshow": {
     "slide_type": "subslide"
    }
   },
   "source": [
    "```python\n",
    "def worker_fun_2(n=1000):\n",
    "  \"\"\" worker function \"\"\"\n",
    "  import numpy as np\n",
    " \n",
    "  chunksize = 1000000\n",
    "  num_chunks = max(n // chunksize, 1)\n",
    "  slop = n - num_chunks * chunksize\n",
    "  chunks = [chunksize] * num_chunks\n",
    "  if slop > 0:\n",
    "    chunks.append(slop)\n",
    "\n",
    "  s = 0 \n",
    "  for chunk in chunks:\n",
    "    s += int(np.sum(np.sum(np.square(np.random.rand(chunk, 2)), axis=1) < 1.))\n",
    "  \n",
    "  return s \n",
    "\n",
    "```"
   ]
  },
  {
   "cell_type": "markdown",
   "metadata": {
    "nbpresent": {
     "id": "6abd7807-8816-48d8-af24-1748074153b7"
    },
    "slideshow": {
     "slide_type": "subslide"
    }
   },
   "source": [
    "```python\n",
    "def main(profile, ntasks, niter):\n",
    "  rc = Client(profile=profile)\n",
    "  views = rc[:]\n",
    "\n",
    "  n = round(niter / ntasks)\n",
    "\n",
    "  results = views.apply_sync(worker_fun_2, n)\n",
    "  # Uses sypmy to compute the ratio to arbitrary precision\n",
    "  my_pi = 4. * sympy.Rational(sum(results), (n * ntasks)).n(20)\n",
    "\n",
    "  with open(filename, \"w\") as f:\n",
    "    f.write(\"Estimate of pi: %0.16f\\n\" % my_pi)\n",
    "    f.write(\"Actual pi:      %0.16f\\n\" % PI) \n",
    "    f.write(\"Percent error:  %0.16f\\n\" % np.abs(100. * (PI - my_pi) / PI))\n",
    "```"
   ]
  },
  {
   "cell_type": "markdown",
   "metadata": {
    "nbpresent": {
     "id": "32d16a2d-61de-4951-8a1a-286284bd34a6"
    },
    "slideshow": {
     "slide_type": "subslide"
    }
   },
   "source": [
    "```python\n",
    "if __name__ == \"__main__\":\n",
    "  parser = argparse.ArgumentParser()\n",
    "  parser.add_argument(\"-p\", \n",
    "                      \"--profile\", \n",
    "                      type=str, \n",
    "                      required=True,\n",
    "                      help=\"Name of IPython profile to use\")\n",
    "  parser.add_argument(\"-n\", \n",
    "                      \"--niter\", \n",
    "                      type=str, \n",
    "                      required=True,\n",
    "                      help=\"Number of stochastic iterations\")\n",
    "  parser.add_argument(\"-o\", \n",
    "                      \"--output\", \n",
    "                      type=str, \n",
    "                      required=True,\n",
    "                      help=\"Name of output file for writing\")\n",
    "\n",
    "  args = parser.parse_args()\n",
    "\n",
    "  main(args.profile,\n",
    "      to_numeric(os.environ['SLURM_NTASKS']),\n",
    "      to_numeric(args.niter))\n",
    "```"
   ]
  },
  {
   "cell_type": "markdown",
   "metadata": {
    "nbpresent": {
     "id": "5dbf3393-1a4a-4d0f-92e4-cb84ac830069"
    },
    "slideshow": {
     "slide_type": "subslide"
    }
   },
   "source": [
    "## Some results\n"
   ]
  },
  {
   "cell_type": "code",
   "execution_count": null,
   "metadata": {
    "collapsed": true,
    "nbpresent": {
     "id": "1d4a02df-b7c0-47e6-ae01-352662d2093d"
    },
    "slideshow": {
     "slide_type": "-"
    }
   },
   "outputs": [],
   "source": []
  },
  {
   "cell_type": "markdown",
   "metadata": {
    "slideshow": {
     "slide_type": "slide"
    }
   },
   "source": [
    "## Jupyter (formerly IPython) notebooks"
   ]
  },
  {
   "cell_type": "markdown",
   "metadata": {
    "slideshow": {
     "slide_type": "subslide"
    }
   },
   "source": [
    "### What are Jupyter notebooks?\n",
    "* Working coding document\n",
    "* Integrates Python code and markdown\n",
    "* Allows for inline plotting\n",
    "* Tool for presenting your work:\n",
    "    1. HTML/JavaScript interactive notebook\n",
    "    1. statically saved as HTML, PDF, Reveal.js slideshow (Hint: use `jupyter nbconvert`)\n",
    "    1. renders on GitHub\n",
    "* What this presentation is written in!"
   ]
  },
  {
   "cell_type": "markdown",
   "metadata": {
    "slideshow": {
     "slide_type": "subslide"
    }
   },
   "source": [
    "### How do I use Jupyter notebooks?\n",
    "Option1: Download Anaconda locally, then `jupyter notebook` from the command line"
   ]
  },
  {
   "cell_type": "markdown",
   "metadata": {
    "slideshow": {
     "slide_type": "subslide"
    }
   },
   "source": [
    "Option2. Use them on the cluster\n",
    "* `setpkgs -a anaconda3`\n",
    "* `sbatch` or `salloc` to launch a job\n",
    "* Launch a notebook\n",
    "```accre\n",
    "jupyter notebook --no-browser -ip='*' --port=8888 [my_notebook.ipynb]\n",
    "```\n",
    "    \n",
    "* Make note of the compute node you land on\n",
    "* `ssh` into it using a seperate process\n",
    "```accre\n",
    "ssh -L 9999:vmpXXX:8888 vunetid@login.accre.vanderbilt.edu\n",
    "```\n",
    "* Navigate to `localhost:9999`"
   ]
  },
  {
   "cell_type": "markdown",
   "metadata": {
    "slideshow": {
     "slide_type": "subslide"
    }
   },
   "source": [
    "![jupyter notebook screenshot](images/jupyter.png)"
   ]
  },
  {
   "cell_type": "markdown",
   "metadata": {
    "slideshow": {
     "slide_type": "slide"
    }
   },
   "source": [
    "## IPython magic\n",
    "\n",
    "Specific to IPython, primarily `jupyter console` and `jupyter notebook`\n",
    "\n",
    "* `%%sh` - run shell commands\n",
    "* `%%timeit` - execute code and record execution time\n",
    "* `%who`\n",
    "\n",
    "[Built-in magic commands](https://ipython.org/ipython-doc/3/interactive/magics.html)"
   ]
  },
  {
   "cell_type": "markdown",
   "metadata": {
    "slideshow": {
     "slide_type": "subslide"
    }
   },
   "source": [
    "## `timeit`"
   ]
  },
  {
   "cell_type": "code",
   "execution_count": 6,
   "metadata": {
    "collapsed": false,
    "slideshow": {
     "slide_type": "-"
    }
   },
   "outputs": [
    {
     "name": "stdout",
     "output_type": "stream",
     "text": [
      "10000 loops, best of 3: 21.3 µs per loop\n"
     ]
    }
   ],
   "source": [
    "%%timeit\n",
    "\n",
    "a = []\n",
    "for i in range(100):\n",
    "    a.append(i*i)"
   ]
  },
  {
   "cell_type": "code",
   "execution_count": 7,
   "metadata": {
    "collapsed": false,
    "slideshow": {
     "slide_type": "-"
    }
   },
   "outputs": [
    {
     "name": "stdout",
     "output_type": "stream",
     "text": [
      "100000 loops, best of 3: 12.6 µs per loop\n"
     ]
    }
   ],
   "source": [
    "%timeit a = [i*i for i in range(100)]"
   ]
  },
  {
   "cell_type": "code",
   "execution_count": 9,
   "metadata": {
    "collapsed": false,
    "slideshow": {
     "slide_type": "-"
    }
   },
   "outputs": [
    {
     "name": "stdout",
     "output_type": "stream",
     "text": [
      "The slowest run took 6.94 times longer than the fastest. This could mean that an intermediate result is being cached \n",
      "100000 loops, best of 3: 7.57 µs per loop\n"
     ]
    }
   ],
   "source": [
    "%%timeit \n",
    "import numpy as np\n",
    "a = np.power(np.arange(100),2)"
   ]
  },
  {
   "cell_type": "markdown",
   "metadata": {
    "slideshow": {
     "slide_type": "subslide"
    }
   },
   "source": [
    "## `who`"
   ]
  },
  {
   "cell_type": "code",
   "execution_count": 13,
   "metadata": {
    "collapsed": false,
    "slideshow": {
     "slide_type": "-"
    }
   },
   "outputs": [],
   "source": [
    "a = 42\n",
    "b = \"forty-two\""
   ]
  },
  {
   "cell_type": "code",
   "execution_count": 14,
   "metadata": {
    "collapsed": false,
    "slideshow": {
     "slide_type": "-"
    }
   },
   "outputs": [
    {
     "name": "stdout",
     "output_type": "stream",
     "text": [
      "a\t b\t \n"
     ]
    }
   ],
   "source": [
    "%who"
   ]
  },
  {
   "cell_type": "code",
   "execution_count": 16,
   "metadata": {
    "collapsed": false,
    "slideshow": {
     "slide_type": "-"
    }
   },
   "outputs": [
    {
     "name": "stdout",
     "output_type": "stream",
     "text": [
      "a\t \n"
     ]
    }
   ],
   "source": [
    "%who int"
   ]
  },
  {
   "cell_type": "code",
   "execution_count": 22,
   "metadata": {
    "collapsed": false,
    "slideshow": {
     "slide_type": "-"
    }
   },
   "outputs": [
    {
     "name": "stdout",
     "output_type": "stream",
     "text": [
      "b\t \n"
     ]
    }
   ],
   "source": [
    "%who str"
   ]
  },
  {
   "cell_type": "code",
   "execution_count": 26,
   "metadata": {
    "collapsed": true,
    "slideshow": {
     "slide_type": "subslide"
    }
   },
   "outputs": [],
   "source": [
    "class Foo:\n",
    "    pass\n",
    "\n",
    "foo = Foo()"
   ]
  },
  {
   "cell_type": "code",
   "execution_count": 27,
   "metadata": {
    "collapsed": false,
    "slideshow": {
     "slide_type": "-"
    }
   },
   "outputs": [
    {
     "name": "stdout",
     "output_type": "stream",
     "text": [
      "Variable   Type    Data/Info\n",
      "----------------------------\n",
      "Foo        type    <class '__main__.Foo'>\n",
      "a          int     42\n",
      "b          str     forty-two\n",
      "foo        Foo     <__main__.Foo object at 0x7f7f736f7358>\n"
     ]
    }
   ],
   "source": [
    "%whos"
   ]
  },
  {
   "cell_type": "code",
   "execution_count": 28,
   "metadata": {
    "collapsed": false,
    "slideshow": {
     "slide_type": "-"
    }
   },
   "outputs": [
    {
     "data": {
      "text/plain": [
       "['Foo', 'a', 'b', 'foo']"
      ]
     },
     "execution_count": 28,
     "metadata": {},
     "output_type": "execute_result"
    }
   ],
   "source": [
    "%who_ls"
   ]
  },
  {
   "cell_type": "markdown",
   "metadata": {
    "slideshow": {
     "slide_type": "subslide"
    }
   },
   "source": [
    "## `history`"
   ]
  },
  {
   "cell_type": "code",
   "execution_count": 34,
   "metadata": {
    "collapsed": false,
    "slideshow": {
     "slide_type": "-"
    }
   },
   "outputs": [
    {
     "name": "stdout",
     "output_type": "stream",
     "text": [
      "  24:\n",
      "class Foo:\n",
      "    pass\n",
      "  25: %whos\n",
      "  26:\n",
      "class Foo:\n",
      "    pass\n",
      "\n",
      "foo = Foo()\n",
      "  27: %whos\n",
      "  28: %who_ls\n",
      "  29:\n",
      "%%svg\n",
      "<svg width=\"10cm\" height=\"5cm\" viewBox=\"0 0 1000 500\">\n",
      "    <rect x=\"200\" y=\"100\" width=\"600\" height=\"300\"/>\n",
      "    </svg>\n",
      "  30:\n",
      "%%svg\n",
      "    <rect x=\"200\" y=\"100\" width=\"600\" height=\"300\"/>\n",
      "  31:\n",
      "%%svg\n",
      "<svg height=\"200\" width=\"500\">\n",
      "  <polyline points=\"20,20 40,25 60,40 80,120 120,140 200,180\" style=\"fill:none;stroke:black;stroke-width:3\" />\n",
      "  Sorry, your browser does not support inline SVG.\n",
      "</svg>\n",
      "  32:\n",
      "%%svg\n",
      "<svg height=\"120\" width=\"120\">\n",
      "  <defs>\n",
      "    <filter id=\"filter\" x=\"0\" y=\"0\">\n",
      "      <feGaussianBlur stdDeviation=\"5\" />\n",
      "      <feOffset dx=\"5\" dy=\"5\" />\n",
      "    </filter>\n",
      "  </defs>\n",
      "  <rect width=\"90\" height=\"90\" fill=\"grey\" filter=\"url(#filter)\" />\n",
      "  <rect width=\"90\" height=\"90\" fill=\"yellow\" stroke=\"black\" />\n",
      "  Sorry, your browser does not support inline SVG.  \n",
      "</svg>\n",
      "  33: %history\n"
     ]
    }
   ],
   "source": [
    "%history -n -l 10"
   ]
  },
  {
   "cell_type": "markdown",
   "metadata": {
    "slideshow": {
     "slide_type": "subslide"
    }
   },
   "source": [
    "## `load`"
   ]
  },
  {
   "cell_type": "code",
   "execution_count": null,
   "metadata": {
    "collapsed": true,
    "slideshow": {
     "slide_type": "-"
    }
   },
   "outputs": [],
   "source": [
    "%load ../vectorization/vectorization.py"
   ]
  },
  {
   "cell_type": "code",
   "execution_count": null,
   "metadata": {
    "collapsed": true,
    "slideshow": {
     "slide_type": "-"
    }
   },
   "outputs": [],
   "source": [
    "# %load ../vectorization/vectorization.py\n",
    "#!/usr/bin/env python\n",
    "#\n",
    "# Python 2.7 script demonstrating vectorized execution\n",
    "#\n",
    "import numpy as np\n",
    "import time\n",
    "\n",
    "# 10 million entries\n",
    "t = np.linspace(-10,10,10000000)\n",
    "x1 = np.zeros(len(t))\n",
    "x2 = np.zeros(len(t))\n",
    "\n",
    "time1 = time.clock()\n",
    "# naive, non-vectorized implementation\n",
    "for i,ti in enumerate(t):\n",
    "\tx1[i] = np.sin(ti)\n",
    "time2 = time.clock()\n",
    "print '%s: %0.2f seconds elapsed' % (\"naive implementation\", time2-time1)\n",
    "\n",
    "# vectorized implementation\n",
    "time1 = time.clock()\n",
    "x2 = np.sin(t)\n",
    "time2 = time.clock()\n",
    "print '%s: %0.2f seconds elapsed' % (\"vectorized implementation\", time2-time1)\n",
    "\n",
    "if ( np.array_equal(x1,x2) ):\n",
    "\tprint \"arrays equal!\"\n"
   ]
  },
  {
   "cell_type": "markdown",
   "metadata": {
    "slideshow": {
     "slide_type": "subslide"
    }
   },
   "source": [
    "## `save`"
   ]
  },
  {
   "cell_type": "code",
   "execution_count": 37,
   "metadata": {
    "collapsed": true,
    "slideshow": {
     "slide_type": "-"
    }
   },
   "outputs": [],
   "source": [
    "bar = 1234"
   ]
  },
  {
   "cell_type": "code",
   "execution_count": 38,
   "metadata": {
    "collapsed": false,
    "slideshow": {
     "slide_type": "-"
    }
   },
   "outputs": [
    {
     "name": "stdout",
     "output_type": "stream",
     "text": [
      "Foo\t a\t b\t bar\t foo\t i\t \n"
     ]
    }
   ],
   "source": [
    "%who"
   ]
  },
  {
   "cell_type": "code",
   "execution_count": 39,
   "metadata": {
    "collapsed": false,
    "slideshow": {
     "slide_type": "-"
    }
   },
   "outputs": [
    {
     "name": "stdout",
     "output_type": "stream",
     "text": [
      "The following commands were written to file `foo.py`:\n",
      "bar = 1234\n",
      "get_ipython().magic('who')\n"
     ]
    }
   ],
   "source": [
    "%save foo.py 37-38"
   ]
  },
  {
   "cell_type": "markdown",
   "metadata": {
    "slideshow": {
     "slide_type": "subslide"
    }
   },
   "source": [
    "## Bonus! `svg`"
   ]
  },
  {
   "cell_type": "code",
   "execution_count": 10,
   "metadata": {
    "collapsed": false,
    "slideshow": {
     "slide_type": "-"
    }
   },
   "outputs": [
    {
     "data": {
      "image/svg+xml": [
       "<svg height=\"200\" width=\"500\">\n",
       "  <polyline points=\"20,20 40,25 60,40 80,120 120,140 200,180\" style=\"fill:none;stroke:black;stroke-width:3\"/>\n",
       "  Sorry, your browser does not support inline SVG.\n",
       "</svg>"
      ],
      "text/plain": [
       "<IPython.core.display.SVG object>"
      ]
     },
     "metadata": {},
     "output_type": "display_data"
    }
   ],
   "source": [
    "%%svg\n",
    "<svg height=\"200\" width=\"500\">\n",
    "  <polyline points=\"20,20 40,25 60,40 80,120 120,140 200,180\" style=\"fill:none;stroke:black;stroke-width:3\" />\n",
    "  Sorry, your browser does not support inline SVG.\n",
    "</svg>"
   ]
  },
  {
   "cell_type": "code",
   "execution_count": 11,
   "metadata": {
    "collapsed": false,
    "slideshow": {
     "slide_type": "-"
    }
   },
   "outputs": [
    {
     "data": {
      "image/svg+xml": [
       "<svg height=\"120\" width=\"120\">\n",
       "  <defs>\n",
       "    <filter id=\"filter\" x=\"0\" y=\"0\">\n",
       "      <feGaussianBlur stdDeviation=\"5\"/>\n",
       "      <feOffset dx=\"5\" dy=\"5\"/>\n",
       "    </filter>\n",
       "  </defs>\n",
       "  <rect fill=\"grey\" filter=\"url(#filter)\" height=\"90\" width=\"90\"/>\n",
       "  <rect fill=\"yellow\" height=\"90\" stroke=\"black\" width=\"90\"/>\n",
       "  Sorry, your browser does not support inline SVG.  \n",
       "</svg>"
      ],
      "text/plain": [
       "<IPython.core.display.SVG object>"
      ]
     },
     "metadata": {},
     "output_type": "display_data"
    }
   ],
   "source": [
    "%%svg\n",
    "<svg height=\"120\" width=\"120\">\n",
    "  <defs>\n",
    "    <filter id=\"filter\" x=\"0\" y=\"0\">\n",
    "      <feGaussianBlur stdDeviation=\"5\" />\n",
    "      <feOffset dx=\"5\" dy=\"5\" />\n",
    "    </filter>\n",
    "  </defs>\n",
    "  <rect width=\"90\" height=\"90\" fill=\"grey\" filter=\"url(#filter)\" />\n",
    "  <rect width=\"90\" height=\"90\" fill=\"yellow\" stroke=\"black\" />\n",
    "  Sorry, your browser does not support inline SVG.  \n",
    "</svg>"
   ]
  },
  {
   "cell_type": "markdown",
   "metadata": {
    "slideshow": {
     "slide_type": "slide"
    }
   },
   "source": [
    "## Plotting with matplotlib\n",
    "\n",
    "* python 2D plotting library \n",
    "* produces publication quality figures \n",
    "* hardcopy formats and **interactive environments**\n",
    "* platform agnostic\n",
    "* [examples](http://matplotlib.org/examples/index.html)"
   ]
  },
  {
   "cell_type": "markdown",
   "metadata": {
    "slideshow": {
     "slide_type": "subslide"
    }
   },
   "source": [
    "### Import necessary packages"
   ]
  },
  {
   "cell_type": "code",
   "execution_count": 1,
   "metadata": {
    "collapsed": true,
    "slideshow": {
     "slide_type": "-"
    }
   },
   "outputs": [],
   "source": [
    "%matplotlib inline\n",
    "import matplotlib\n",
    "import numpy as np\n",
    "import matplotlib.pylab as plt"
   ]
  },
  {
   "cell_type": "markdown",
   "metadata": {
    "slideshow": {
     "slide_type": "fragment"
    }
   },
   "source": [
    "### An easier way"
   ]
  },
  {
   "cell_type": "code",
   "execution_count": 2,
   "metadata": {
    "collapsed": false,
    "slideshow": {
     "slide_type": "-"
    }
   },
   "outputs": [
    {
     "name": "stdout",
     "output_type": "stream",
     "text": [
      "Populating the interactive namespace from numpy and matplotlib\n"
     ]
    },
    {
     "name": "stderr",
     "output_type": "stream",
     "text": [
      "WARNING: pylab import has clobbered these variables: ['plt']\n",
      "`%matplotlib` prevents importing * from pylab and numpy\n"
     ]
    }
   ],
   "source": [
    "%pylab inline"
   ]
  },
  {
   "cell_type": "markdown",
   "metadata": {
    "slideshow": {
     "slide_type": "subslide"
    }
   },
   "source": [
    "### Examples"
   ]
  },
  {
   "cell_type": "code",
   "execution_count": 3,
   "metadata": {
    "collapsed": false,
    "slideshow": {
     "slide_type": "-"
    }
   },
   "outputs": [
    {
     "data": {
      "text/plain": [
       "<matplotlib.collections.PathCollection at 0x7f017bfc49b0>"
      ]
     },
     "execution_count": 3,
     "metadata": {},
     "output_type": "execute_result"
    },
    {
     "data": {
      "image/png": "[encoded data removed]",
      "text/plain": [
       "<matplotlib.figure.Figure at 0x7f017bfc4978>"
      ]
     },
     "metadata": {},
     "output_type": "display_data"
    }
   ],
   "source": [
    "# Create some data\n",
    "x = np.arange(100)\n",
    "y = np.random.randint(0, 100, size=(100, 1))\n",
    "\n",
    "# Create scatter plot\n",
    "plt.scatter(x,y)"
   ]
  },
  {
   "cell_type": "markdown",
   "metadata": {
    "slideshow": {
     "slide_type": "subslide"
    }
   },
   "source": [
    "### Stylize"
   ]
  },
  {
   "cell_type": "code",
   "execution_count": 4,
   "metadata": {
    "collapsed": true,
    "slideshow": {
     "slide_type": "-"
    }
   },
   "outputs": [],
   "source": [
    "import seaborn as sns\n",
    "matplotlib.rcParams['savefig.dpi'] = 2 * matplotlib.rcParams['savefig.dpi']"
   ]
  },
  {
   "cell_type": "code",
   "execution_count": 5,
   "metadata": {
    "collapsed": false,
    "slideshow": {
     "slide_type": "fragment"
    }
   },
   "outputs": [
    {
     "data": {
      "text/plain": [
       "<matplotlib.collections.PathCollection at 0x7f01acdc0860>"
      ]
     },
     "execution_count": 5,
     "metadata": {},
     "output_type": "execute_result"
    },
    {
     "data": {
      "image/png": "[encoded data removed]",
      "text/plain": [
       "<matplotlib.figure.Figure at 0x7f017bd606a0>"
      ]
     },
     "metadata": {},
     "output_type": "display_data"
    }
   ],
   "source": [
    "plt.scatter(x, y)\n",
    "\n",
    "from mpl_toolkits.mplot3d import Axes3D\n",
    "matplotlib.rcParams['legend.fontsize'] = 10"
   ]
  },
  {
   "cell_type": "code",
   "execution_count": 9,
   "metadata": {
    "collapsed": false,
    "slideshow": {
     "slide_type": "subslide"
    }
   },
   "outputs": [
    {
     "data": {
      "image/png": "[encoded data removed]",
      "text/plain": [
       "<matplotlib.figure.Figure at 0x7f01ac67b518>"
      ]
     },
     "metadata": {},
     "output_type": "display_data"
    }
   ],
   "source": [
    "from mpl_toolkits.mplot3d import Axes3D\n",
    "matplotlib.rcParams['legend.fontsize'] = 10\n",
    "\n",
    "fig = plt.figure()\n",
    "ax = fig.gca(projection='3d')\n",
    "theta = np.linspace(-4 * np.pi, 4 * np.pi, 100)\n",
    "z = np.linspace(-2, 2, 100)\n",
    "r = z**2 + 1\n",
    "x, y = (r * np.sin(theta), r * np.cos(theta))\n",
    "ax.plot(x, y, z, label='parametric curve')\n",
    "ax.legend()\n",
    "\n",
    "plt.show()"
   ]
  },
  {
   "cell_type": "markdown",
   "metadata": {
    "nbpresent": {
     "id": "027fe3b0-c8b1-4fe6-b3c5-7e88ec59d507"
    },
    "slideshow": {
     "slide_type": "slide"
    }
   },
   "source": [
    "## github.com/accre/Python\n",
    "\n",
    "![ACCRE Python github repo](images/ACCRE_Python_github.png)\n"
   ]
  }
 ],
 "metadata": {
  "anaconda-cloud": {},
  "celltoolbar": "Slideshow",
  "kernelspec": {
   "display_name": "Python [default]",
   "language": "python",
   "name": "python3"
  },
  "language_info": {
   "codemirror_mode": {
    "name": "ipython",
    "version": 3
   },
   "file_extension": ".py",
   "mimetype": "text/x-python",
   "name": "python",
   "nbconvert_exporter": "python",
   "pygments_lexer": "ipython3",
   "version": "3.5.1"
  },
  "nbpresent": {
   "slides": {
    "02e1bb85-db27-4138-badc-f28f183d4ab8": {
     "id": "02e1bb85-db27-4138-badc-f28f183d4ab8",
     "prev": "73c8c483-86eb-44ba-a0b2-1fc5ed1beb6e",
     "regions": {
      "925ef00f-93a9-4f87-99d0-19d414d3b604": {
       "attrs": {
        "height": 0.4,
        "width": 0.8,
        "x": 0.1,
        "y": 0.5
       },
       "content": {
        "cell": "e8084b6c-1514-4e62-89c3-4d7a1412ff0c",
        "part": "whole"
       },
       "id": "925ef00f-93a9-4f87-99d0-19d414d3b604"
      },
      "a19d627f-bf33-42ee-b643-5aaa514ef806": {
       "attrs": {
        "height": 0.8,
        "width": 0.8,
        "x": 0.1,
        "y": 0.1
       },
       "content": {
        "cell": "b80cbd36-3da2-4c7e-8334-64b99a073d98",
        "part": "whole"
       },
       "id": "a19d627f-bf33-42ee-b643-5aaa514ef806"
      }
     }
    },
    "0852b2be-a3ea-4a96-ba9b-d91c55f9ba7b": {
     "id": "0852b2be-a3ea-4a96-ba9b-d91c55f9ba7b",
     "prev": "490200c7-e789-426e-a1bd-ede39ec33d6a",
     "regions": {
      "803a2978-82d2-4ea1-8b68-fcd583f06092": {
       "attrs": {
        "height": 0.4,
        "width": 0.8,
        "x": 0.1,
        "y": 0.5
       },
       "content": {
        "cell": "281a66fb-5662-473e-a783-c612c5d7c50b",
        "part": "whole"
       },
       "id": "803a2978-82d2-4ea1-8b68-fcd583f06092"
      },
      "b665a032-a5fe-4224-843f-a128b635bd15": {
       "attrs": {
        "height": 0.8,
        "width": 0.8,
        "x": 0.1,
        "y": 0.1
       },
       "content": {
        "cell": "5238d6bf-ecb8-418e-b00e-575646df4ce7",
        "part": "whole"
       },
       "id": "b665a032-a5fe-4224-843f-a128b635bd15"
      }
     }
    },
    "08f8d773-4a76-40a7-ad3e-f3e22f3cb353": {
     "id": "08f8d773-4a76-40a7-ad3e-f3e22f3cb353",
     "prev": "a327b758-fde1-4b88-b86b-20f2d527185b",
     "regions": {
      "2dd20bc6-2c8e-43e9-83ae-f495848142aa": {
       "attrs": {
        "height": 0.8,
        "width": 0.8,
        "x": 0.1,
        "y": 0.1
       },
       "content": {
        "cell": "3a64becb-54fc-4b57-ad61-815be49c183b",
        "part": "whole"
       },
       "id": "2dd20bc6-2c8e-43e9-83ae-f495848142aa"
      }
     }
    },
    "126d15da-2f5d-4d51-bb5d-22d68058f065": {
     "id": "126d15da-2f5d-4d51-bb5d-22d68058f065",
     "prev": "27871166-1752-485b-8450-88a07bc0f079",
     "regions": {
      "76faf6b4-19ae-4662-a02c-054d11c7ba50": {
       "attrs": {
        "height": 0.8,
        "width": 0.8,
        "x": 0.1,
        "y": 0.1
       },
       "content": {
        "cell": "a81338a9-9cc8-4af0-98a9-92a2a9476cfd",
        "part": "whole"
       },
       "id": "76faf6b4-19ae-4662-a02c-054d11c7ba50"
      }
     }
    },
    "16f745f8-f383-4b53-af8e-eeeb7efdd6a3": {
     "id": "16f745f8-f383-4b53-af8e-eeeb7efdd6a3",
     "prev": "65de3e4a-803d-4dfa-9819-9271e10ce374",
     "regions": {
      "2ad6ea04-b832-4ca3-ba73-a38f435db4bf": {
       "attrs": {
        "height": 0.8,
        "width": 0.8,
        "x": 0.1,
        "y": 0.1
       },
       "content": {
        "cell": "1fbc84ba-f9f7-4c9d-a0a6-2eac627c4ea3",
        "part": "whole"
       },
       "id": "2ad6ea04-b832-4ca3-ba73-a38f435db4bf"
      }
     }
    },
    "19afa6f9-aaae-4279-82ec-1ab294d7832e": {
     "id": "19afa6f9-aaae-4279-82ec-1ab294d7832e",
     "prev": "d792c348-431f-4ba6-bd8b-ecd72e4fdc9e",
     "regions": {
      "08aa0f0d-46c8-4d85-848a-db4b44ce851d": {
       "attrs": {
        "height": 0.8,
        "width": 0.8,
        "x": 0.1,
        "y": 0.1
       },
       "content": {
        "cell": "6cfb0ab6-c08d-4b2d-9a81-d323f0a5fdbb",
        "part": "whole"
       },
       "id": "08aa0f0d-46c8-4d85-848a-db4b44ce851d"
      },
      "9cf8349c-0d97-430f-9972-e6e1c9555907": {
       "attrs": {
        "height": 0.4,
        "width": 0.8,
        "x": 0.1,
        "y": 0.5
       },
       "content": {
        "cell": "5a30c1f4-3514-4874-a274-a170927d4e9f",
        "part": "whole"
       },
       "id": "9cf8349c-0d97-430f-9972-e6e1c9555907"
      },
      "e422aff1-8f04-42e9-a286-d732bd592a2b": {
       "attrs": {
        "height": 0.4,
        "width": 0.8,
        "x": 0.1,
        "y": 0.5
       },
       "content": {
        "cell": "f1b001ae-aaaa-4c46-9c7f-66f95a1167f5",
        "part": "whole"
       },
       "id": "e422aff1-8f04-42e9-a286-d732bd592a2b"
      }
     }
    },
    "26d376e8-ed5b-429f-8a95-9748b4fec431": {
     "id": "26d376e8-ed5b-429f-8a95-9748b4fec431",
     "prev": "c5331eff-5119-4555-ae20-772538f5cbe0",
     "regions": {
      "5bb0cd30-55cf-40da-a1fa-9f4ff1da600b": {
       "attrs": {
        "height": 0.8,
        "width": 0.8,
        "x": 0.1,
        "y": 0.1
       },
       "content": {
        "cell": "577afd17-95ed-4ffe-985b-c00d94e73ccc",
        "part": "whole"
       },
       "id": "5bb0cd30-55cf-40da-a1fa-9f4ff1da600b"
      }
     }
    },
    "27871166-1752-485b-8450-88a07bc0f079": {
     "id": "27871166-1752-485b-8450-88a07bc0f079",
     "prev": "ce8b300b-3755-4b01-b87f-88eee5ef683f",
     "regions": {
      "d7e6d130-3168-4b27-a1c2-8cb89982e4d2": {
       "attrs": {
        "height": 0.8,
        "width": 0.8,
        "x": 0.1,
        "y": 0.1
       },
       "content": {
        "cell": "0cec4ba9-a0ba-48f6-b631-0609ddf9de29",
        "part": "whole"
       },
       "id": "d7e6d130-3168-4b27-a1c2-8cb89982e4d2"
      }
     }
    },
    "2c85efad-2c13-48cc-a142-3a0ce77ca5ca": {
     "id": "2c85efad-2c13-48cc-a142-3a0ce77ca5ca",
     "prev": "b4ead774-60ac-4bda-a1d8-04232bd3b66e",
     "regions": {
      "116eabf5-eddd-4fc9-90e6-c7977ed53b3b": {
       "attrs": {
        "height": 0.8,
        "width": 0.8,
        "x": 0.1,
        "y": 0.1
       },
       "content": {
        "cell": "96b656d9-c390-48ec-96cb-f7a0451e4b33",
        "part": "whole"
       },
       "id": "116eabf5-eddd-4fc9-90e6-c7977ed53b3b"
      }
     }
    },
    "2d4ae415-d643-4fd1-b084-8a74a696579f": {
     "id": "2d4ae415-d643-4fd1-b084-8a74a696579f",
     "prev": "b4ab260b-8055-46c3-934c-e56b1d1ce1b1",
     "regions": {
      "3761fb42-8a54-4206-9284-a2827f631cfd": {
       "attrs": {
        "height": 0.4,
        "width": 0.8,
        "x": 0.1,
        "y": 0.5
       },
       "content": {
        "cell": "499f0723-a55b-4e67-8ac9-a268bbcba30b",
        "part": "whole"
       },
       "id": "3761fb42-8a54-4206-9284-a2827f631cfd"
      },
      "49348ba5-a14a-4dc2-88ac-d501967d094b": {
       "attrs": {
        "height": 0.8,
        "width": 0.8,
        "x": 0.1,
        "y": 0.1
       },
       "content": {
        "cell": "16f12da8-7f55-48c5-82a0-d0e0e483cbf1",
        "part": "whole"
       },
       "id": "49348ba5-a14a-4dc2-88ac-d501967d094b"
      }
     }
    },
    "321fe278-a98c-45b5-8192-70ab6f2910ad": {
     "id": "321fe278-a98c-45b5-8192-70ab6f2910ad",
     "prev": "b99d030a-26de-4ba6-9d07-85e315c6a22f",
     "regions": {
      "a4db863b-ae89-4d95-8d1b-8c1e05653f96": {
       "attrs": {
        "height": 0.8,
        "width": 0.8,
        "x": 0.1,
        "y": 0.1
       },
       "content": {
        "cell": "f972bf78-5de4-4415-b9e8-7c8522b6700c",
        "part": "whole"
       },
       "id": "a4db863b-ae89-4d95-8d1b-8c1e05653f96"
      },
      "febdbb49-a1d2-4162-9fbe-6b2c18c1bc20": {
       "attrs": {
        "height": 0.4,
        "width": 0.8,
        "x": 0.1,
        "y": 0.5
       },
       "content": {
        "cell": "83fe38aa-1870-49c8-bc15-d3ec6fc03f68",
        "part": "whole"
       },
       "id": "febdbb49-a1d2-4162-9fbe-6b2c18c1bc20"
      }
     }
    },
    "34914a41-f34b-4e50-b698-bfa62fc39c09": {
     "id": "34914a41-f34b-4e50-b698-bfa62fc39c09",
     "prev": "321fe278-a98c-45b5-8192-70ab6f2910ad",
     "regions": {
      "af5f5842-1746-44ff-8727-0f17b4d9599a": {
       "attrs": {
        "height": 0.8,
        "width": 0.8,
        "x": 0.1,
        "y": 0.1
       },
       "content": {
        "cell": "159944f0-b17b-49f7-a15c-c93ae3d08f64",
        "part": "whole"
       },
       "id": "af5f5842-1746-44ff-8727-0f17b4d9599a"
      }
     }
    },
    "39c69b82-efc0-403b-97b9-1131ac5b546d": {
     "id": "39c69b82-efc0-403b-97b9-1131ac5b546d",
     "prev": "af251283-fa3e-4bd4-ae58-3344a5ffa234",
     "regions": {
      "4b9296ae-b5b2-49c2-b284-910bc905058d": {
       "attrs": {
        "height": 0.4,
        "width": 0.8,
        "x": 0.1,
        "y": 0.5
       },
       "content": {
        "cell": "3edc1385-1c16-4c08-a008-da381e04aae3",
        "part": "whole"
       },
       "id": "4b9296ae-b5b2-49c2-b284-910bc905058d"
      },
      "b0b9c56c-c4cf-44a7-9f57-70831b5ddd9a": {
       "attrs": {
        "height": 0.8,
        "width": 0.8,
        "x": 0.1,
        "y": 0.1
       },
       "content": {
        "cell": "2517080b-29f4-42dc-a07f-2f0a2602cb89",
        "part": "whole"
       },
       "id": "b0b9c56c-c4cf-44a7-9f57-70831b5ddd9a"
      }
     }
    },
    "3c54c47e-361d-4bca-a56e-296c0cf70367": {
     "id": "3c54c47e-361d-4bca-a56e-296c0cf70367",
     "prev": "c52c3a34-c7cb-4747-8e84-621b45eaa08c",
     "regions": {
      "a5ca3f6a-4b6e-427d-9b63-de90a60b285f": {
       "attrs": {
        "height": 0.8,
        "width": 0.8,
        "x": 0.1,
        "y": 0.1
       },
       "content": {
        "cell": "e87ab137-2ab7-45d6-a2c0-bdaac8867c40",
        "part": "whole"
       },
       "id": "a5ca3f6a-4b6e-427d-9b63-de90a60b285f"
      }
     }
    },
    "40151e98-7228-473d-a290-6a176434c1a6": {
     "id": "40151e98-7228-473d-a290-6a176434c1a6",
     "prev": "b373993d-69a1-41c4-9b93-c44c442d3b3c",
     "regions": {
      "0c0f00bf-bd70-4375-b434-a1d0c56fa377": {
       "attrs": {
        "height": 0.4,
        "width": 0.8,
        "x": 0.1,
        "y": 0.5
       },
       "content": {
        "cell": "6752a766-f47e-49bf-b8b0-ba45a2bcec05",
        "part": "whole"
       },
       "id": "0c0f00bf-bd70-4375-b434-a1d0c56fa377"
      },
      "a5bc4669-f761-4d02-94ef-a967a1306beb": {
       "attrs": {
        "height": 0.8,
        "width": 0.8,
        "x": 0.1,
        "y": 0.1
       },
       "content": {
        "cell": "63e27531-02f3-4bf5-a840-48677ea74170",
        "part": "whole"
       },
       "id": "a5bc4669-f761-4d02-94ef-a967a1306beb"
      }
     }
    },
    "4060102b-32ad-40b6-85f1-256ab9fd6b9f": {
     "id": "4060102b-32ad-40b6-85f1-256ab9fd6b9f",
     "prev": "a15bfe24-fdef-499d-a58c-a949f9ce7179",
     "regions": {
      "8c2ed012-8bc2-43a7-a13e-010f685059b4": {
       "attrs": {
        "height": 0.8,
        "width": 0.8,
        "x": 0.1,
        "y": 0.1
       },
       "content": {
        "cell": "e1d18d96-b63f-4efa-af2e-2d209cf4e7d9",
        "part": "whole"
       },
       "id": "8c2ed012-8bc2-43a7-a13e-010f685059b4"
      }
     }
    },
    "4348ea0b-fdc5-425c-9396-eed81e1d7690": {
     "id": "4348ea0b-fdc5-425c-9396-eed81e1d7690",
     "prev": "02e1bb85-db27-4138-badc-f28f183d4ab8",
     "regions": {
      "2cf04faa-b864-4da4-bf4b-c30ad3b0ea22": {
       "attrs": {
        "height": 0.8,
        "width": 0.8,
        "x": 0.1,
        "y": 0.1
       },
       "content": {
        "cell": "158f86c7-f004-4804-8f38-a06e90b0c28f",
        "part": "whole"
       },
       "id": "2cf04faa-b864-4da4-bf4b-c30ad3b0ea22"
      }
     }
    },
    "45c1f6c6-a563-40f2-ad56-2a129d2fb303": {
     "id": "45c1f6c6-a563-40f2-ad56-2a129d2fb303",
     "prev": "39c69b82-efc0-403b-97b9-1131ac5b546d",
     "regions": {
      "4a090a7e-dc1c-4b58-be1c-af98ba8fed9a": {
       "attrs": {
        "height": 0.4,
        "width": 0.8,
        "x": 0.1,
        "y": 0.5
       },
       "content": {
        "cell": "f47ca8a6-f998-4030-bb27-458587a6d34e",
        "part": "whole"
       },
       "id": "4a090a7e-dc1c-4b58-be1c-af98ba8fed9a"
      },
      "fd934468-af57-4072-9284-89539e31fbaf": {
       "attrs": {
        "height": 0.8,
        "width": 0.8,
        "x": 0.1,
        "y": 0.1
       },
       "content": {
        "cell": "f6051814-cea7-4e6d-b933-3bcad74e3f9b",
        "part": "whole"
       },
       "id": "fd934468-af57-4072-9284-89539e31fbaf"
      }
     }
    },
    "4606bb78-39d9-440f-b15d-3fcea8619200": {
     "id": "4606bb78-39d9-440f-b15d-3fcea8619200",
     "prev": "4d9838b1-38b6-419f-bdcf-6baba3670214",
     "regions": {
      "cbb4264e-0fca-44e0-9713-32f6b9c94300": {
       "attrs": {
        "height": 0.8,
        "width": 0.8,
        "x": 0.1,
        "y": 0.1
       },
       "content": {
        "cell": "c7a9e929-6433-4bec-b600-ba53f972304a",
        "part": "whole"
       },
       "id": "cbb4264e-0fca-44e0-9713-32f6b9c94300"
      }
     }
    },
    "490200c7-e789-426e-a1bd-ede39ec33d6a": {
     "id": "490200c7-e789-426e-a1bd-ede39ec33d6a",
     "prev": "e5d88188-3578-4f7c-9f9b-d3d635bf5e38",
     "regions": {
      "f0df957f-0bf2-4034-bb89-bef9e58d0ccf": {
       "attrs": {
        "height": 0.8,
        "width": 0.8,
        "x": 0.1,
        "y": 0.1
       },
       "content": {
        "cell": "58efdd1d-a6fa-48f5-8500-725bb8d0b10d",
        "part": "whole"
       },
       "id": "f0df957f-0bf2-4034-bb89-bef9e58d0ccf"
      }
     }
    },
    "495e3060-f495-4049-a322-bb935e102d11": {
     "id": "495e3060-f495-4049-a322-bb935e102d11",
     "prev": "cb33d972-16dd-44d8-91f7-e801dc0504e2",
     "regions": {
      "0aa2f9ec-55cc-48ba-b45f-fc866df03f6e": {
       "attrs": {
        "height": 0.8,
        "width": 0.8,
        "x": 0.1,
        "y": 0.1
       },
       "content": {
        "cell": "ff370152-6c03-4aad-ab19-23343984e452",
        "part": "whole"
       },
       "id": "0aa2f9ec-55cc-48ba-b45f-fc866df03f6e"
      }
     }
    },
    "4d9838b1-38b6-419f-bdcf-6baba3670214": {
     "id": "4d9838b1-38b6-419f-bdcf-6baba3670214",
     "prev": "6b10d40e-a88d-49c0-bd92-2a30652f9ec2",
     "regions": {
      "b93ef39b-18f9-460b-8f9a-fe30035c71e6": {
       "attrs": {
        "height": 0.4,
        "width": 0.8,
        "x": 0.1,
        "y": 0.5
       },
       "content": {
        "cell": "129a831e-262d-4939-9f95-c612374f03bf",
        "part": "whole"
       },
       "id": "b93ef39b-18f9-460b-8f9a-fe30035c71e6"
      },
      "c7e55263-4432-4979-8e06-98f3cf23b9d4": {
       "attrs": {
        "height": 0.8,
        "width": 0.8,
        "x": 0.1,
        "y": 0.1
       },
       "content": {
        "cell": "ff0e6958-a4b6-4859-a6dc-8f7fe38edeee",
        "part": "whole"
       },
       "id": "c7e55263-4432-4979-8e06-98f3cf23b9d4"
      }
     }
    },
    "4e59fb63-17e3-49b8-8df3-25f775ce4d9f": {
     "id": "4e59fb63-17e3-49b8-8df3-25f775ce4d9f",
     "prev": "34914a41-f34b-4e50-b698-bfa62fc39c09",
     "regions": {
      "91b3155d-8d78-49ab-9f10-02644f4ce272": {
       "attrs": {
        "height": 0.8,
        "width": 0.8,
        "x": 0.1,
        "y": 0.1
       },
       "content": {
        "cell": "aafc0371-b330-45de-98c8-259e82752aa3",
        "part": "whole"
       },
       "id": "91b3155d-8d78-49ab-9f10-02644f4ce272"
      }
     }
    },
    "59f51a00-7028-487f-b3a4-fc06372d383b": {
     "id": "59f51a00-7028-487f-b3a4-fc06372d383b",
     "prev": "8c385c5e-1506-4845-b057-c3646b00ac56",
     "regions": {
      "369fa46a-fe22-45d5-afd1-ffbe8f67d9cc": {
       "attrs": {
        "height": 0.8,
        "width": 0.8,
        "x": 0.1,
        "y": 0.1
       },
       "content": {
        "cell": "15a4ea2f-4c90-4167-89f9-47d43d31ed35",
        "part": "whole"
       },
       "id": "369fa46a-fe22-45d5-afd1-ffbe8f67d9cc"
      }
     }
    },
    "606963aa-7aab-48b5-af6d-534fbf87a6fd": {
     "id": "606963aa-7aab-48b5-af6d-534fbf87a6fd",
     "prev": "19afa6f9-aaae-4279-82ec-1ab294d7832e",
     "regions": {
      "4b6d6866-1598-4ae4-af1f-13e9c20a45a8": {
       "attrs": {
        "height": 0.8,
        "width": 0.8,
        "x": 0.1,
        "y": 0.1
       },
       "content": {
        "cell": "bea70208-2d78-40ef-86e5-e4d221044b19",
        "part": "whole"
       },
       "id": "4b6d6866-1598-4ae4-af1f-13e9c20a45a8"
      },
      "fff6d9b3-9950-4f2a-b1cf-8afda4dc3453": {
       "attrs": {
        "height": 0.4,
        "width": 0.8,
        "x": 0.1,
        "y": 0.5
       },
       "content": {
        "cell": "f879fac4-1f80-4689-8ced-eb51b1283b8f",
        "part": "whole"
       },
       "id": "fff6d9b3-9950-4f2a-b1cf-8afda4dc3453"
      }
     }
    },
    "61cf8594-cb9e-4812-b688-1a78e27f8aca": {
     "id": "61cf8594-cb9e-4812-b688-1a78e27f8aca",
     "prev": "16f745f8-f383-4b53-af8e-eeeb7efdd6a3",
     "regions": {
      "a2947b3a-5383-460e-8176-c46d452af15f": {
       "attrs": {
        "height": 0.8,
        "width": 0.8,
        "x": 0.1,
        "y": 0.1
       },
       "content": {
        "cell": "eeb2396d-05e3-4d07-bb31-efef642f4417",
        "part": "whole"
       },
       "id": "a2947b3a-5383-460e-8176-c46d452af15f"
      }
     }
    },
    "632d57fa-389c-4bff-8ba4-f5cfd88c3944": {
     "id": "632d57fa-389c-4bff-8ba4-f5cfd88c3944",
     "prev": "45c1f6c6-a563-40f2-ad56-2a129d2fb303",
     "regions": {
      "38ad3ff1-9823-4713-ab79-a104511a82be": {
       "attrs": {
        "height": 0.8,
        "width": 0.8,
        "x": 0.1,
        "y": 0.1
       },
       "content": {
        "cell": "628a15b7-a0aa-4799-ad94-1ff8456724e5",
        "part": "whole"
       },
       "id": "38ad3ff1-9823-4713-ab79-a104511a82be"
      }
     }
    },
    "65de3e4a-803d-4dfa-9819-9271e10ce374": {
     "id": "65de3e4a-803d-4dfa-9819-9271e10ce374",
     "prev": "495e3060-f495-4049-a322-bb935e102d11",
     "regions": {
      "34b72da1-9817-465f-911d-70bd0a36b0e1": {
       "attrs": {
        "height": 0.8,
        "width": 0.8,
        "x": 0.1,
        "y": 0.1
       },
       "content": {
        "cell": "c2406a95-e300-48ee-ba57-5ec7080268ed",
        "part": "whole"
       },
       "id": "34b72da1-9817-465f-911d-70bd0a36b0e1"
      }
     }
    },
    "6620042d-2cc6-4817-a9cd-ceba9e4f423c": {
     "id": "6620042d-2cc6-4817-a9cd-ceba9e4f423c",
     "prev": "4060102b-32ad-40b6-85f1-256ab9fd6b9f",
     "regions": {
      "59ed7725-520a-4424-83ab-df16e7098f9a": {
       "attrs": {
        "height": 0.8,
        "width": 0.8,
        "x": 0.1,
        "y": 0.1
       },
       "content": {
        "cell": "a0c7c7b0-37df-4180-a6a4-16bf9aae41c0",
        "part": "whole"
       },
       "id": "59ed7725-520a-4424-83ab-df16e7098f9a"
      }
     }
    },
    "66738924-0739-4ab9-8ef0-2eadb5bf87c5": {
     "id": "66738924-0739-4ab9-8ef0-2eadb5bf87c5",
     "prev": "dc5818aa-b961-43d8-a827-7c0f65e68855",
     "regions": {
      "ff025749-abfc-464a-a87c-b5de31f8253e": {
       "attrs": {
        "height": 0.8,
        "width": 0.8,
        "x": 0.1,
        "y": 0.1
       },
       "content": {
        "cell": "1d4a02df-b7c0-47e6-ae01-352662d2093d",
        "part": "whole"
       },
       "id": "ff025749-abfc-464a-a87c-b5de31f8253e"
      }
     }
    },
    "691176a2-a618-4b35-89f6-63767216e864": {
     "id": "691176a2-a618-4b35-89f6-63767216e864",
     "prev": "cbea8d29-56ef-44d8-b5ea-3a5bcf14f9a8",
     "regions": {
      "d5808e42-71ad-4e93-90bf-5a60a452bfc9": {
       "attrs": {
        "height": 0.8,
        "width": 0.8,
        "x": 0.1,
        "y": 0.1
       },
       "content": {
        "cell": "2b3a5830-0b09-4ebc-bb44-be34251e7573",
        "part": "whole"
       },
       "id": "d5808e42-71ad-4e93-90bf-5a60a452bfc9"
      }
     }
    },
    "6b10d40e-a88d-49c0-bd92-2a30652f9ec2": {
     "id": "6b10d40e-a88d-49c0-bd92-2a30652f9ec2",
     "prev": "40151e98-7228-473d-a290-6a176434c1a6",
     "regions": {
      "58c6573d-3a4c-4fb0-8ed6-242cabf6d95c": {
       "attrs": {
        "height": 0.8,
        "width": 0.8,
        "x": 0.1,
        "y": 0.1
       },
       "content": {
        "cell": "284d7601-c22a-41f0-970f-d3b64c9a14be",
        "part": "whole"
       },
       "id": "58c6573d-3a4c-4fb0-8ed6-242cabf6d95c"
      },
      "77eb1892-5ceb-4b7f-997c-bffd037dffd3": {
       "attrs": {
        "height": 0.4,
        "width": 0.8,
        "x": 0.1,
        "y": 0.5
       },
       "content": {
        "cell": "a267e533-50b0-4bf3-b17d-0d5733788839",
        "part": "whole"
       },
       "id": "77eb1892-5ceb-4b7f-997c-bffd037dffd3"
      }
     }
    },
    "7299a657-1df0-428e-b8b9-5de59a09509b": {
     "id": "7299a657-1df0-428e-b8b9-5de59a09509b",
     "prev": "66738924-0739-4ab9-8ef0-2eadb5bf87c5",
     "regions": {
      "f644b4eb-fa6a-4341-8576-175bca40c314": {
       "attrs": {
        "height": 0.8,
        "width": 0.8,
        "x": 0.1,
        "y": 0.1
       },
       "content": {
        "cell": "027fe3b0-c8b1-4fe6-b3c5-7e88ec59d507",
        "part": "whole"
       },
       "id": "f644b4eb-fa6a-4341-8576-175bca40c314"
      }
     }
    },
    "73c8c483-86eb-44ba-a0b2-1fc5ed1beb6e": {
     "id": "73c8c483-86eb-44ba-a0b2-1fc5ed1beb6e",
     "prev": "95d8f52c-7acc-472d-8bc3-86b499aadce5",
     "regions": {
      "8b7a67b2-5ab4-4fc6-927e-dba82156322b": {
       "attrs": {
        "height": 0.8,
        "width": 0.8,
        "x": 0.1,
        "y": 0.1
       },
       "content": {
        "cell": "4756ea4c-06a3-4715-870a-baa84c03b1ca",
        "part": "whole"
       },
       "id": "8b7a67b2-5ab4-4fc6-927e-dba82156322b"
      },
      "cd0b9112-f2f7-4d08-83d1-8546a0ef7648": {
       "attrs": {
        "height": 0.4,
        "width": 0.8,
        "x": 0.1,
        "y": 0.5
       },
       "content": {
        "cell": "7ffce477-c0ad-42c0-a810-f551f500d64f",
        "part": "whole"
       },
       "id": "cd0b9112-f2f7-4d08-83d1-8546a0ef7648"
      }
     }
    },
    "766462ac-d9cb-4c6c-b44b-ca6199d29b07": {
     "id": "766462ac-d9cb-4c6c-b44b-ca6199d29b07",
     "prev": "d303bf7b-e42e-4102-bcda-88fc860c29b5",
     "regions": {
      "e2afd7af-b30a-4272-8a8c-0613aaba904e": {
       "attrs": {
        "height": 0.8,
        "width": 0.8,
        "x": 0.1,
        "y": 0.1
       },
       "content": {
        "cell": "591ab97c-e741-4c6c-baa2-ea000628f938",
        "part": "whole"
       },
       "id": "e2afd7af-b30a-4272-8a8c-0613aaba904e"
      }
     }
    },
    "7da11401-f9b7-4a4b-9207-60ce3782989c": {
     "id": "7da11401-f9b7-4a4b-9207-60ce3782989c",
     "prev": "59f51a00-7028-487f-b3a4-fc06372d383b",
     "regions": {
      "6de8e87d-41e7-4211-b064-e97c587ff0d8": {
       "attrs": {
        "height": 0.8,
        "width": 0.8,
        "x": 0.1,
        "y": 0.1
       },
       "content": {
        "cell": "91374481-6083-416c-9cc0-91bb7adeec13",
        "part": "whole"
       },
       "id": "6de8e87d-41e7-4211-b064-e97c587ff0d8"
      }
     }
    },
    "85619bc9-afbf-43e8-b8d0-6a281f3ebcff": {
     "id": "85619bc9-afbf-43e8-b8d0-6a281f3ebcff",
     "prev": "606963aa-7aab-48b5-af6d-534fbf87a6fd",
     "regions": {
      "388fc553-83db-4577-b5c3-3192c2ac510a": {
       "attrs": {
        "height": 0.8,
        "width": 0.8,
        "x": 0.1,
        "y": 0.1
       },
       "content": {
        "cell": "fe98070d-c3a4-4c0a-8f0b-ae7c6f9fea02",
        "part": "whole"
       },
       "id": "388fc553-83db-4577-b5c3-3192c2ac510a"
      },
      "fb2cfa8b-ea1a-47a2-a4c7-212579786345": {
       "attrs": {
        "height": 0.4,
        "width": 0.8,
        "x": 0.1,
        "y": 0.5
       },
       "content": {
        "cell": "6c89cadd-ad89-43fc-b500-fa59c049ab17",
        "part": "whole"
       },
       "id": "fb2cfa8b-ea1a-47a2-a4c7-212579786345"
      }
     }
    },
    "8c385c5e-1506-4845-b057-c3646b00ac56": {
     "id": "8c385c5e-1506-4845-b057-c3646b00ac56",
     "prev": "4606bb78-39d9-440f-b15d-3fcea8619200",
     "regions": {
      "a3f4ef93-a444-45b7-8b1b-1af67cf0cb99": {
       "attrs": {
        "height": 0.8,
        "width": 0.8,
        "x": 0.1,
        "y": 0.1
       },
       "content": {
        "cell": "0ef1a177-cd80-4d4f-99a7-a64e8261df7a",
        "part": "whole"
       },
       "id": "a3f4ef93-a444-45b7-8b1b-1af67cf0cb99"
      }
     }
    },
    "95d8f52c-7acc-472d-8bc3-86b499aadce5": {
     "id": "95d8f52c-7acc-472d-8bc3-86b499aadce5",
     "prev": "e89255d9-964e-4bfa-ac96-1d762ff0f404",
     "regions": {
      "6d018e48-69ae-4598-8458-961e788b01d4": {
       "attrs": {
        "height": 0.8,
        "width": 0.8,
        "x": 0.1,
        "y": 0.1
       },
       "content": {
        "cell": "bea5c668-8532-45df-9bdf-0f15c244eeba",
        "part": "whole"
       },
       "id": "6d018e48-69ae-4598-8458-961e788b01d4"
      },
      "9d1de333-0e47-455a-be1b-c2213da982e1": {
       "attrs": {
        "height": 0.4,
        "width": 0.8,
        "x": 0.1,
        "y": 0.5
       },
       "content": {
        "cell": "62001240-888c-4f5e-a5a8-f7b652cde3c3",
        "part": "whole"
       },
       "id": "9d1de333-0e47-455a-be1b-c2213da982e1"
      }
     }
    },
    "9c69e691-6800-4c0b-8554-6d1d27d6cae9": {
     "id": "9c69e691-6800-4c0b-8554-6d1d27d6cae9",
     "prev": "4e59fb63-17e3-49b8-8df3-25f775ce4d9f",
     "regions": {
      "9484cd3c-3cf8-4d56-8118-f7c87a846f6b": {
       "attrs": {
        "height": 0.8,
        "width": 0.8,
        "x": 0.1,
        "y": 0.1
       },
       "content": {
        "cell": "c2f39cd8-9a88-4d32-a2a5-09207af17566",
        "part": "whole"
       },
       "id": "9484cd3c-3cf8-4d56-8118-f7c87a846f6b"
      }
     }
    },
    "9daa3a0b-3639-43bb-9551-3793651afc38": {
     "id": "9daa3a0b-3639-43bb-9551-3793651afc38",
     "prev": "766462ac-d9cb-4c6c-b44b-ca6199d29b07",
     "regions": {
      "4cb59b3c-26aa-4964-9e0e-29a5ae3b2cbd": {
       "attrs": {
        "height": 0.8,
        "width": 0.8,
        "x": 0.1,
        "y": 0.1
       },
       "content": {
        "cell": "6deac39a-cc1c-4c57-a524-319416ced8c8",
        "part": "whole"
       },
       "id": "4cb59b3c-26aa-4964-9e0e-29a5ae3b2cbd"
      }
     }
    },
    "a15bfe24-fdef-499d-a58c-a949f9ce7179": {
     "id": "a15bfe24-fdef-499d-a58c-a949f9ce7179",
     "prev": "691176a2-a618-4b35-89f6-63767216e864",
     "regions": {
      "93ee1141-24a9-42ab-8fa1-be11f680ad7e": {
       "attrs": {
        "height": 0.8,
        "width": 0.8,
        "x": 0.1,
        "y": 0.1
       },
       "content": {
        "cell": "55a7137c-365e-4f6c-b0ca-2f360d2db76e",
        "part": "whole"
       },
       "id": "93ee1141-24a9-42ab-8fa1-be11f680ad7e"
      }
     }
    },
    "a327b758-fde1-4b88-b86b-20f2d527185b": {
     "id": "a327b758-fde1-4b88-b86b-20f2d527185b",
     "prev": "3c54c47e-361d-4bca-a56e-296c0cf70367",
     "regions": {
      "eac03e28-25d0-431e-83e8-f81bef4b426c": {
       "attrs": {
        "height": 0.8,
        "width": 0.8,
        "x": 0.1,
        "y": 0.1
       },
       "content": {
        "cell": "fb84332a-4540-47ee-ab0a-e92a09d77bb9",
        "part": "whole"
       },
       "id": "eac03e28-25d0-431e-83e8-f81bef4b426c"
      }
     }
    },
    "a7f0ac03-85dc-42e0-9b29-957dbe8ae529": {
     "id": "a7f0ac03-85dc-42e0-9b29-957dbe8ae529",
     "prev": "ae4097ef-9af1-4a60-a11d-b74917f9b74c",
     "regions": {
      "790e81b3-596c-4c91-a42c-4cd6409d1598": {
       "attrs": {
        "height": 0.8,
        "width": 0.8,
        "x": 0.1,
        "y": 0.1
       },
       "content": {
        "cell": "6abd7807-8816-48d8-af24-1748074153b7",
        "part": "whole"
       },
       "id": "790e81b3-596c-4c91-a42c-4cd6409d1598"
      }
     }
    },
    "acd24020-fbe5-4074-959b-dab48f7d880d": {
     "id": "acd24020-fbe5-4074-959b-dab48f7d880d",
     "prev": "a7f0ac03-85dc-42e0-9b29-957dbe8ae529",
     "regions": {
      "ea20777f-f300-489c-9440-eae2c3ae3bf0": {
       "attrs": {
        "height": 0.8,
        "width": 0.8,
        "x": 0.1,
        "y": 0.1
       },
       "content": {
        "cell": "32d16a2d-61de-4951-8a1a-286284bd34a6",
        "part": "whole"
       },
       "id": "ea20777f-f300-489c-9440-eae2c3ae3bf0"
      }
     }
    },
    "ae4097ef-9af1-4a60-a11d-b74917f9b74c": {
     "id": "ae4097ef-9af1-4a60-a11d-b74917f9b74c",
     "prev": "4348ea0b-fdc5-425c-9396-eed81e1d7690",
     "regions": {
      "0f091be1-7bd7-4279-a549-6e83461540fd": {
       "attrs": {
        "height": 0.8,
        "width": 0.8,
        "x": 0.1,
        "y": 0.1
       },
       "content": {
        "cell": "8d644479-c6e5-41ec-bf84-66df900abd16",
        "part": "whole"
       },
       "id": "0f091be1-7bd7-4279-a549-6e83461540fd"
      }
     }
    },
    "af251283-fa3e-4bd4-ae58-3344a5ffa234": {
     "id": "af251283-fa3e-4bd4-ae58-3344a5ffa234",
     "prev": "9daa3a0b-3639-43bb-9551-3793651afc38",
     "regions": {
      "6eb4d8a5-4f88-4a9e-a44b-8f5459d7679f": {
       "attrs": {
        "height": 0.4,
        "width": 0.8,
        "x": 0.1,
        "y": 0.5
       },
       "content": {
        "cell": "80d23c3a-01f9-439e-9e43-56b551d7ddc8",
        "part": "whole"
       },
       "id": "6eb4d8a5-4f88-4a9e-a44b-8f5459d7679f"
      },
      "7f6c3ba0-2b6c-4b58-b46b-53c0aa660736": {
       "attrs": {
        "height": 0.8,
        "width": 0.8,
        "x": 0.1,
        "y": 0.1
       },
       "content": {
        "cell": "747b7d42-f30f-407a-9e8f-76eb9f8a4568",
        "part": "whole"
       },
       "id": "7f6c3ba0-2b6c-4b58-b46b-53c0aa660736"
      }
     }
    },
    "b373993d-69a1-41c4-9b93-c44c442d3b3c": {
     "id": "b373993d-69a1-41c4-9b93-c44c442d3b3c",
     "prev": "b7c98bae-e2ae-421c-82d3-e56f551700e4",
     "regions": {
      "a723e7e7-233b-4309-bb9d-8075df41e6a3": {
       "attrs": {
        "height": 0.8,
        "width": 0.8,
        "x": 0.1,
        "y": 0.1
       },
       "content": {
        "cell": "c6ee8dce-48d6-4eba-9295-69dc5888e78c",
        "part": "whole"
       },
       "id": "a723e7e7-233b-4309-bb9d-8075df41e6a3"
      }
     }
    },
    "b4ab260b-8055-46c3-934c-e56b1d1ce1b1": {
     "id": "b4ab260b-8055-46c3-934c-e56b1d1ce1b1",
     "prev": "6620042d-2cc6-4817-a9cd-ceba9e4f423c",
     "regions": {
      "51fe5de1-8527-4e8a-a86e-ac976e4b8f7c": {
       "attrs": {
        "height": 0.8,
        "width": 0.8,
        "x": 0.1,
        "y": 0.1
       },
       "content": {
        "cell": "c086a6bd-200d-4c3c-adc9-52340ecf0856",
        "part": "whole"
       },
       "id": "51fe5de1-8527-4e8a-a86e-ac976e4b8f7c"
      },
      "ee7a4b10-0172-4d71-9e07-3c72c0f43574": {
       "attrs": {
        "height": 0.4,
        "width": 0.8,
        "x": 0.1,
        "y": 0.5
       },
       "content": {
        "cell": "8e76fdd1-6e5b-4e1b-97be-17628a558b12",
        "part": "whole"
       },
       "id": "ee7a4b10-0172-4d71-9e07-3c72c0f43574"
      }
     }
    },
    "b4ead774-60ac-4bda-a1d8-04232bd3b66e": {
     "id": "b4ead774-60ac-4bda-a1d8-04232bd3b66e",
     "prev": null,
     "regions": {
      "81fc0ee9-a43a-4176-bf02-679e90f6f85a": {
       "attrs": {
        "height": 0.8,
        "width": 0.8,
        "x": 0.1,
        "y": 0.1
       },
       "content": {
        "cell": "0e7aeb4c-9d53-43fc-91ee-0b132499baf8",
        "part": "whole"
       },
       "id": "81fc0ee9-a43a-4176-bf02-679e90f6f85a"
      }
     }
    },
    "b7c98bae-e2ae-421c-82d3-e56f551700e4": {
     "id": "b7c98bae-e2ae-421c-82d3-e56f551700e4",
     "prev": "0852b2be-a3ea-4a96-ba9b-d91c55f9ba7b",
     "regions": {
      "70d855da-e726-462b-bd21-d5dbcdcf4e59": {
       "attrs": {
        "height": 0.8,
        "width": 0.8,
        "x": 0.1,
        "y": 0.1
       },
       "content": {
        "cell": "3da36cf5-f674-416a-9ea4-d92ecae7cf0e",
        "part": "whole"
       },
       "id": "70d855da-e726-462b-bd21-d5dbcdcf4e59"
      }
     }
    },
    "b99d030a-26de-4ba6-9d07-85e315c6a22f": {
     "id": "b99d030a-26de-4ba6-9d07-85e315c6a22f",
     "prev": "85619bc9-afbf-43e8-b8d0-6a281f3ebcff",
     "regions": {
      "ad69e1be-a6bb-4d2d-a1a4-fae8be0fb906": {
       "attrs": {
        "height": 0.4,
        "width": 0.8,
        "x": 0.1,
        "y": 0.5
       },
       "content": {
        "cell": "11f7d14d-d0fb-4b5a-8a5f-4bb2d358a5c8",
        "part": "whole"
       },
       "id": "ad69e1be-a6bb-4d2d-a1a4-fae8be0fb906"
      },
      "caa426af-20e7-4b2a-ba98-99383b7e597b": {
       "attrs": {
        "height": 0.8,
        "width": 0.8,
        "x": 0.1,
        "y": 0.1
       },
       "content": {
        "cell": "48627781-a0c9-42ec-85a5-2cd4291caa99",
        "part": "whole"
       },
       "id": "caa426af-20e7-4b2a-ba98-99383b7e597b"
      }
     }
    },
    "c00e8c16-5a68-4ed4-aa9c-b8dd2663cad2": {
     "id": "c00e8c16-5a68-4ed4-aa9c-b8dd2663cad2",
     "prev": "7da11401-f9b7-4a4b-9207-60ce3782989c",
     "regions": {
      "407aca4f-5637-4a02-a982-562f5577c4d5": {
       "attrs": {
        "height": 0.8,
        "width": 0.8,
        "x": 0.1,
        "y": 0.1
       },
       "content": {
        "cell": "5705d6b4-6e18-4c10-90e0-fdc0a00ace8a",
        "part": "whole"
       },
       "id": "407aca4f-5637-4a02-a982-562f5577c4d5"
      }
     }
    },
    "c52c3a34-c7cb-4747-8e84-621b45eaa08c": {
     "id": "c52c3a34-c7cb-4747-8e84-621b45eaa08c",
     "prev": "126d15da-2f5d-4d51-bb5d-22d68058f065",
     "regions": {
      "b8614d60-d201-49ea-b697-3fe0dadce3df": {
       "attrs": {
        "height": 0.8,
        "width": 0.8,
        "x": 0.1,
        "y": 0.1
       },
       "content": {
        "cell": "0bee224a-3712-4df3-b3d1-3628558c6bac",
        "part": "whole"
       },
       "id": "b8614d60-d201-49ea-b697-3fe0dadce3df"
      }
     }
    },
    "c5331eff-5119-4555-ae20-772538f5cbe0": {
     "id": "c5331eff-5119-4555-ae20-772538f5cbe0",
     "prev": "2d4ae415-d643-4fd1-b084-8a74a696579f",
     "regions": {
      "079c7bf3-8933-4491-871e-4d7c126887d2": {
       "attrs": {
        "height": 0.8,
        "width": 0.8,
        "x": 0.1,
        "y": 0.1
       },
       "content": {
        "cell": "ff271b6e-04a1-4f57-9e87-839b64edbfda",
        "part": "whole"
       },
       "id": "079c7bf3-8933-4491-871e-4d7c126887d2"
      }
     }
    },
    "cb33d972-16dd-44d8-91f7-e801dc0504e2": {
     "id": "cb33d972-16dd-44d8-91f7-e801dc0504e2",
     "prev": "26d376e8-ed5b-429f-8a95-9748b4fec431",
     "regions": {
      "c4205284-27f8-402b-82d4-fb538fc34410": {
       "attrs": {
        "height": 0.8,
        "width": 0.8,
        "x": 0.1,
        "y": 0.1
       },
       "content": {
        "cell": "b38f384d-8cdb-4943-ac1b-ee2e4f003c3c",
        "part": "whole"
       },
       "id": "c4205284-27f8-402b-82d4-fb538fc34410"
      }
     }
    },
    "cbea8d29-56ef-44d8-b5ea-3a5bcf14f9a8": {
     "id": "cbea8d29-56ef-44d8-b5ea-3a5bcf14f9a8",
     "prev": "dbf2942d-8fdb-4061-bef6-ca33cb8df6f9",
     "regions": {
      "e0886589-994b-417b-aef8-bd8c71fb6644": {
       "attrs": {
        "height": 0.8,
        "width": 0.8,
        "x": 0.1,
        "y": 0.1
       },
       "content": {
        "cell": "c356baa9-03d3-48fd-8aed-50d168d278b5",
        "part": "whole"
       },
       "id": "e0886589-994b-417b-aef8-bd8c71fb6644"
      }
     }
    },
    "cc41ffdd-fcf2-41c2-8eb9-46a54899640f": {
     "id": "cc41ffdd-fcf2-41c2-8eb9-46a54899640f",
     "prev": "08f8d773-4a76-40a7-ad3e-f3e22f3cb353",
     "regions": {
      "f930eefe-3ffe-486e-aaa9-43c74b86e53f": {
       "attrs": {
        "height": 0.8,
        "width": 0.8,
        "x": 0.1,
        "y": 0.1
       },
       "content": {
        "cell": "51598786-56e1-4b85-8b4f-23b8241301ab",
        "part": "whole"
       },
       "id": "f930eefe-3ffe-486e-aaa9-43c74b86e53f"
      }
     }
    },
    "ce8b300b-3755-4b01-b87f-88eee5ef683f": {
     "id": "ce8b300b-3755-4b01-b87f-88eee5ef683f",
     "prev": "9c69e691-6800-4c0b-8554-6d1d27d6cae9",
     "regions": {
      "83dc86e6-8fb4-4ba0-b6ac-a00c1059b588": {
       "attrs": {
        "height": 0.8,
        "width": 0.8,
        "x": 0.1,
        "y": 0.1
       },
       "content": {
        "cell": "d31e370e-1d2d-4bbb-816a-a692e1ce01a5",
        "part": "whole"
       },
       "id": "83dc86e6-8fb4-4ba0-b6ac-a00c1059b588"
      }
     }
    },
    "d2dbcf14-9da1-4dfc-ab4b-03505bed3733": {
     "id": "d2dbcf14-9da1-4dfc-ab4b-03505bed3733",
     "prev": "61cf8594-cb9e-4812-b688-1a78e27f8aca",
     "regions": {
      "215452b6-4acb-45e4-840a-bd8cc4e96a49": {
       "attrs": {
        "height": 0.8,
        "width": 0.8,
        "x": 0.1,
        "y": 0.1
       },
       "content": {
        "cell": "571215a6-ae78-4e90-bf21-218bfe78233f",
        "part": "whole"
       },
       "id": "215452b6-4acb-45e4-840a-bd8cc4e96a49"
      }
     }
    },
    "d303bf7b-e42e-4102-bcda-88fc860c29b5": {
     "id": "d303bf7b-e42e-4102-bcda-88fc860c29b5",
     "prev": "d4e748f8-0d18-42e1-9090-1b79973f87cf",
     "regions": {
      "31c82f0f-74c1-43ac-bb3a-d60e22d9dba6": {
       "attrs": {
        "height": 0.8,
        "width": 0.8,
        "x": 0.1,
        "y": 0.1
       },
       "content": {
        "cell": "efd4522b-6d5b-49ba-aec2-5388c65144c4",
        "part": "whole"
       },
       "id": "31c82f0f-74c1-43ac-bb3a-d60e22d9dba6"
      }
     }
    },
    "d4e748f8-0d18-42e1-9090-1b79973f87cf": {
     "id": "d4e748f8-0d18-42e1-9090-1b79973f87cf",
     "prev": "ecbc202d-7da6-4b18-a0fb-914cd6e88aea",
     "regions": {
      "f24ae033-1d43-4e84-b95b-c5169ee7a54f": {
       "attrs": {
        "height": 0.8,
        "width": 0.8,
        "x": 0.1,
        "y": 0.1
       },
       "content": {
        "cell": "769ed38a-c1b3-4a7e-b8da-153fa65f2d05",
        "part": "whole"
       },
       "id": "f24ae033-1d43-4e84-b95b-c5169ee7a54f"
      }
     }
    },
    "d792c348-431f-4ba6-bd8b-ecd72e4fdc9e": {
     "id": "d792c348-431f-4ba6-bd8b-ecd72e4fdc9e",
     "prev": "2c85efad-2c13-48cc-a142-3a0ce77ca5ca",
     "regions": {
      "f93ce993-d6d6-4d48-9c4e-5ab15d9367c7": {
       "attrs": {
        "height": 0.8,
        "width": 0.8,
        "x": 0.1,
        "y": 0.1
       },
       "content": {
        "cell": "d9e91f34-bbe5-4592-bc69-c8191788ca43",
        "part": "whole"
       },
       "id": "f93ce993-d6d6-4d48-9c4e-5ab15d9367c7"
      }
     }
    },
    "dbf2942d-8fdb-4061-bef6-ca33cb8df6f9": {
     "id": "dbf2942d-8fdb-4061-bef6-ca33cb8df6f9",
     "prev": "c00e8c16-5a68-4ed4-aa9c-b8dd2663cad2",
     "regions": {
      "1384bfc3-6bb1-4a52-857d-da9bd0f63703": {
       "attrs": {
        "height": 0.8,
        "width": 0.8,
        "x": 0.1,
        "y": 0.1
       },
       "content": {
        "cell": "9f79e400-5a58-40f2-b5fa-09a1524b69dd",
        "part": "whole"
       },
       "id": "1384bfc3-6bb1-4a52-857d-da9bd0f63703"
      }
     }
    },
    "dc5818aa-b961-43d8-a827-7c0f65e68855": {
     "id": "dc5818aa-b961-43d8-a827-7c0f65e68855",
     "prev": "acd24020-fbe5-4074-959b-dab48f7d880d",
     "regions": {
      "102b73b0-7fb9-4faf-98cd-ba799b3d2895": {
       "attrs": {
        "height": 0.8,
        "width": 0.8,
        "x": 0.1,
        "y": 0.1
       },
       "content": {
        "cell": "5dbf3393-1a4a-4d0f-92e4-cb84ac830069",
        "part": "whole"
       },
       "id": "102b73b0-7fb9-4faf-98cd-ba799b3d2895"
      }
     }
    },
    "e5d88188-3578-4f7c-9f9b-d3d635bf5e38": {
     "id": "e5d88188-3578-4f7c-9f9b-d3d635bf5e38",
     "prev": "cc41ffdd-fcf2-41c2-8eb9-46a54899640f",
     "regions": {
      "81d1b60a-465e-40ae-b27f-f3bd8c95a814": {
       "attrs": {
        "height": 0.8,
        "width": 0.8,
        "x": 0.1,
        "y": 0.1
       },
       "content": {
        "cell": "83beda93-f02b-4b5a-a1b2-7896e47b9e3d",
        "part": "whole"
       },
       "id": "81d1b60a-465e-40ae-b27f-f3bd8c95a814"
      }
     }
    },
    "e89255d9-964e-4bfa-ac96-1d762ff0f404": {
     "id": "e89255d9-964e-4bfa-ac96-1d762ff0f404",
     "prev": "632d57fa-389c-4bff-8ba4-f5cfd88c3944",
     "regions": {
      "08bca5a8-f4f9-441a-8bd2-8eaf8940afa4": {
       "attrs": {
        "height": 0.8,
        "width": 0.8,
        "x": 0.1,
        "y": 0.1
       },
       "content": {
        "cell": "bd684949-a2cc-4b05-80d3-bc8f4fc49ed8",
        "part": "whole"
       },
       "id": "08bca5a8-f4f9-441a-8bd2-8eaf8940afa4"
      }
     }
    },
    "ecbc202d-7da6-4b18-a0fb-914cd6e88aea": {
     "id": "ecbc202d-7da6-4b18-a0fb-914cd6e88aea",
     "prev": "d2dbcf14-9da1-4dfc-ab4b-03505bed3733",
     "regions": {
      "8e8ee676-be96-4aa9-976b-79baf2a3f459": {
       "attrs": {
        "height": 0.8,
        "width": 0.8,
        "x": 0.1,
        "y": 0.1
       },
       "content": {
        "cell": "8637ede5-8011-4977-88fb-ddd5b9e4f595",
        "part": "whole"
       },
       "id": "8e8ee676-be96-4aa9-976b-79baf2a3f459"
      }
     }
    }
   },
   "themes": {}
  }
 },
 "nbformat": 4,
 "nbformat_minor": 1
}
